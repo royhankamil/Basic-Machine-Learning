{
 "cells": [
  {
   "cell_type": "code",
   "execution_count": 1,
   "metadata": {},
   "outputs": [],
   "source": [
    "import numpy as np\n",
    "import matplotlib.pyplot as plt\n",
    "import seaborn as sns\n",
    "import pandas as pd"
   ]
  },
  {
   "cell_type": "code",
   "execution_count": 2,
   "metadata": {},
   "outputs": [
    {
     "name": "stderr",
     "output_type": "stream",
     "text": [
      "C:\\Users\\Rizal\\AppData\\Local\\Temp\\ipykernel_18288\\772601970.py:1: DtypeWarning: Columns (12,13) have mixed types. Specify dtype option on import or set low_memory=False.\n",
      "  df = pd.read_csv(\"Datains - Marcella - Price Monitoring TP-Link_TP-Link Price Monitoring_Table.csv\")\n"
     ]
    },
    {
     "data": {
      "text/html": [
       "<div>\n",
       "<style scoped>\n",
       "    .dataframe tbody tr th:only-of-type {\n",
       "        vertical-align: middle;\n",
       "    }\n",
       "\n",
       "    .dataframe tbody tr th {\n",
       "        vertical-align: top;\n",
       "    }\n",
       "\n",
       "    .dataframe thead th {\n",
       "        text-align: right;\n",
       "    }\n",
       "</style>\n",
       "<table border=\"1\" class=\"dataframe\">\n",
       "  <thead>\n",
       "    <tr style=\"text-align: right;\">\n",
       "      <th></th>\n",
       "      <th>Date</th>\n",
       "      <th>Last Crawling</th>\n",
       "      <th>SKU Name</th>\n",
       "      <th>Product Name</th>\n",
       "      <th>Url Product</th>\n",
       "      <th>Seller</th>\n",
       "      <th>Merchant</th>\n",
       "      <th>Stock</th>\n",
       "      <th>Item Condition</th>\n",
       "      <th>Filter</th>\n",
       "      <th>Flag</th>\n",
       "      <th>Bottom Price</th>\n",
       "      <th>Original Price</th>\n",
       "      <th>Discount</th>\n",
       "      <th>Selling Price</th>\n",
       "      <th>Discrepancy</th>\n",
       "      <th>Sales Quantity</th>\n",
       "      <th>Sales Revenue</th>\n",
       "    </tr>\n",
       "  </thead>\n",
       "  <tbody>\n",
       "    <tr>\n",
       "      <th>0</th>\n",
       "      <td>Oct 22, 2022</td>\n",
       "      <td>Oct 22, 2022</td>\n",
       "      <td>TL WR840N</td>\n",
       "      <td>TP-Link TL-WR840N 2 Antenna 300Mbps Wireless N...</td>\n",
       "      <td>https://tokopedia.com/ccplace/tp-link-tl-wr840...</td>\n",
       "      <td>ccplace shop</td>\n",
       "      <td>tokopedia</td>\n",
       "      <td>In Stock</td>\n",
       "      <td>baru</td>\n",
       "      <td>Above</td>\n",
       "      <td>Please Check</td>\n",
       "      <td>155000</td>\n",
       "      <td>231000</td>\n",
       "      <td>0</td>\n",
       "      <td>231000</td>\n",
       "      <td>0.014903</td>\n",
       "      <td>0</td>\n",
       "      <td>0</td>\n",
       "    </tr>\n",
       "    <tr>\n",
       "      <th>1</th>\n",
       "      <td>Oct 22, 2022</td>\n",
       "      <td>Oct 22, 2022</td>\n",
       "      <td>TL WR840N</td>\n",
       "      <td>Promo TP-LINK TL-WR840N Wireless Router 300Mbp...</td>\n",
       "      <td>https://tokopedia.com/gilsaashopp/promo-tp-lin...</td>\n",
       "      <td>gilsaa_shopp</td>\n",
       "      <td>tokopedia</td>\n",
       "      <td>In Stock</td>\n",
       "      <td>baru</td>\n",
       "      <td>Above</td>\n",
       "      <td>Please Check</td>\n",
       "      <td>155000</td>\n",
       "      <td>218800</td>\n",
       "      <td>0</td>\n",
       "      <td>218800</td>\n",
       "      <td>0.014116</td>\n",
       "      <td>0</td>\n",
       "      <td>0</td>\n",
       "    </tr>\n",
       "    <tr>\n",
       "      <th>2</th>\n",
       "      <td>Oct 22, 2022</td>\n",
       "      <td>Oct 22, 2022</td>\n",
       "      <td>TL WR840N</td>\n",
       "      <td>Tp-Link TL-WR840N 300Mbps Wireless N Speed Rou...</td>\n",
       "      <td>https://tokopedia.com/ccwinta/tp-link-tl-wr840...</td>\n",
       "      <td>ccwinta shop</td>\n",
       "      <td>tokopedia</td>\n",
       "      <td>In Stock</td>\n",
       "      <td>baru</td>\n",
       "      <td>Above</td>\n",
       "      <td>Please Check</td>\n",
       "      <td>155000</td>\n",
       "      <td>227000</td>\n",
       "      <td>0</td>\n",
       "      <td>227000</td>\n",
       "      <td>0.014645</td>\n",
       "      <td>0</td>\n",
       "      <td>0</td>\n",
       "    </tr>\n",
       "    <tr>\n",
       "      <th>3</th>\n",
       "      <td>Oct 22, 2022</td>\n",
       "      <td>Oct 22, 2022</td>\n",
       "      <td>TL WR840N</td>\n",
       "      <td>JARINGAN TP-LINK TL-WR 840N TL-WR840N 300MBps ...</td>\n",
       "      <td>https://tokopedia.com/belsa/jaringan-tp-link-t...</td>\n",
       "      <td>BELSA_SHOP</td>\n",
       "      <td>tokopedia</td>\n",
       "      <td>In Stock</td>\n",
       "      <td>baru</td>\n",
       "      <td>Above</td>\n",
       "      <td>Please Check</td>\n",
       "      <td>155000</td>\n",
       "      <td>263000</td>\n",
       "      <td>0</td>\n",
       "      <td>263000</td>\n",
       "      <td>0.016968</td>\n",
       "      <td>0</td>\n",
       "      <td>0</td>\n",
       "    </tr>\n",
       "    <tr>\n",
       "      <th>4</th>\n",
       "      <td>Oct 22, 2022</td>\n",
       "      <td>Oct 22, 2022</td>\n",
       "      <td>TL WR840N</td>\n",
       "      <td>TPLink TL-WR840N Router Wireless WiFi 300Mbps ...</td>\n",
       "      <td>https://tokopedia.com/ccwinta/tplink-tl-wr840n...</td>\n",
       "      <td>ccwinta shop</td>\n",
       "      <td>tokopedia</td>\n",
       "      <td>In Stock</td>\n",
       "      <td>baru</td>\n",
       "      <td>Above</td>\n",
       "      <td>Please Check</td>\n",
       "      <td>155000</td>\n",
       "      <td>236000</td>\n",
       "      <td>0</td>\n",
       "      <td>236000</td>\n",
       "      <td>0.015226</td>\n",
       "      <td>0</td>\n",
       "      <td>0</td>\n",
       "    </tr>\n",
       "  </tbody>\n",
       "</table>\n",
       "</div>"
      ],
      "text/plain": [
       "           Date Last Crawling   SKU Name  \\\n",
       "0  Oct 22, 2022  Oct 22, 2022  TL WR840N   \n",
       "1  Oct 22, 2022  Oct 22, 2022  TL WR840N   \n",
       "2  Oct 22, 2022  Oct 22, 2022  TL WR840N   \n",
       "3  Oct 22, 2022  Oct 22, 2022  TL WR840N   \n",
       "4  Oct 22, 2022  Oct 22, 2022  TL WR840N   \n",
       "\n",
       "                                        Product Name  \\\n",
       "0  TP-Link TL-WR840N 2 Antenna 300Mbps Wireless N...   \n",
       "1  Promo TP-LINK TL-WR840N Wireless Router 300Mbp...   \n",
       "2  Tp-Link TL-WR840N 300Mbps Wireless N Speed Rou...   \n",
       "3  JARINGAN TP-LINK TL-WR 840N TL-WR840N 300MBps ...   \n",
       "4  TPLink TL-WR840N Router Wireless WiFi 300Mbps ...   \n",
       "\n",
       "                                         Url Product        Seller   Merchant  \\\n",
       "0  https://tokopedia.com/ccplace/tp-link-tl-wr840...  ccplace shop  tokopedia   \n",
       "1  https://tokopedia.com/gilsaashopp/promo-tp-lin...  gilsaa_shopp  tokopedia   \n",
       "2  https://tokopedia.com/ccwinta/tp-link-tl-wr840...  ccwinta shop  tokopedia   \n",
       "3  https://tokopedia.com/belsa/jaringan-tp-link-t...    BELSA_SHOP  tokopedia   \n",
       "4  https://tokopedia.com/ccwinta/tplink-tl-wr840n...  ccwinta shop  tokopedia   \n",
       "\n",
       "      Stock Item Condition Filter          Flag  Bottom Price Original Price  \\\n",
       "0  In Stock           baru  Above  Please Check        155000         231000   \n",
       "1  In Stock           baru  Above  Please Check        155000         218800   \n",
       "2  In Stock           baru  Above  Please Check        155000         227000   \n",
       "3  In Stock           baru  Above  Please Check        155000         263000   \n",
       "4  In Stock           baru  Above  Please Check        155000         236000   \n",
       "\n",
       "  Discount  Selling Price  Discrepancy  Sales Quantity  Sales Revenue  \n",
       "0        0         231000     0.014903               0              0  \n",
       "1        0         218800     0.014116               0              0  \n",
       "2        0         227000     0.014645               0              0  \n",
       "3        0         263000     0.016968               0              0  \n",
       "4        0         236000     0.015226               0              0  "
      ]
     },
     "execution_count": 2,
     "metadata": {},
     "output_type": "execute_result"
    }
   ],
   "source": [
    "df = pd.read_csv(\"Datains - Marcella - Price Monitoring TP-Link_TP-Link Price Monitoring_Table.csv\")\n",
    "\n",
    "df.head()"
   ]
  },
  {
   "cell_type": "code",
   "execution_count": 3,
   "metadata": {},
   "outputs": [
    {
     "data": {
      "text/plain": [
       "Discount\n",
       "0       32642\n",
       "0.02       26\n",
       "0.2         8\n",
       "0.05        8\n",
       "0.1         8\n",
       "0.03        7\n",
       "0.09        6\n",
       "0.07        4\n",
       "0.08        4\n",
       "0.11        4\n",
       "0.35        4\n",
       "0           4\n",
       "0.01        3\n",
       "0.06        3\n",
       "0.62        3\n",
       "0.16        3\n",
       "0.23        3\n",
       "0.29        3\n",
       "0.13        2\n",
       "0.63        2\n",
       "-           2\n",
       "0.24        2\n",
       "0.53        2\n",
       "0.15        2\n",
       "0.54        2\n",
       "0.5         1\n",
       "0.6         1\n",
       "0.18        1\n",
       "0.48        1\n",
       "0.32        1\n",
       "0.83        1\n",
       "0.4         1\n",
       "0.36        1\n",
       "0.12        1\n",
       "0.22        1\n",
       "0.59        1\n",
       "0.46        1\n",
       "0.31        1\n",
       "0.14        1\n",
       "0.17        1\n",
       "Name: count, dtype: int64"
      ]
     },
     "execution_count": 3,
     "metadata": {},
     "output_type": "execute_result"
    }
   ],
   "source": [
    "df[\"Discount\"].value_counts().sort_values(ascending=False)\n",
    "# df[\"Original Price\"] == df[\"Selling Price\"]"
   ]
  },
  {
   "cell_type": "code",
   "execution_count": 4,
   "metadata": {},
   "outputs": [],
   "source": [
    "df.drop(columns=[\"SKU Name\", \"Product Name\", \"Url Product\", \"Seller\", \"Merchant\", \"Stock\", \"Bottom Price\", \"Item Condition\", \"Filter\",\t\"Flag\"], inplace=True)"
   ]
  },
  {
   "cell_type": "code",
   "execution_count": 5,
   "metadata": {},
   "outputs": [
    {
     "data": {
      "text/html": [
       "<div>\n",
       "<style scoped>\n",
       "    .dataframe tbody tr th:only-of-type {\n",
       "        vertical-align: middle;\n",
       "    }\n",
       "\n",
       "    .dataframe tbody tr th {\n",
       "        vertical-align: top;\n",
       "    }\n",
       "\n",
       "    .dataframe thead th {\n",
       "        text-align: right;\n",
       "    }\n",
       "</style>\n",
       "<table border=\"1\" class=\"dataframe\">\n",
       "  <thead>\n",
       "    <tr style=\"text-align: right;\">\n",
       "      <th></th>\n",
       "      <th>Date</th>\n",
       "      <th>Last Crawling</th>\n",
       "      <th>Original Price</th>\n",
       "      <th>Discount</th>\n",
       "      <th>Selling Price</th>\n",
       "      <th>Discrepancy</th>\n",
       "      <th>Sales Quantity</th>\n",
       "      <th>Sales Revenue</th>\n",
       "    </tr>\n",
       "  </thead>\n",
       "  <tbody>\n",
       "    <tr>\n",
       "      <th>0</th>\n",
       "      <td>Oct 22, 2022</td>\n",
       "      <td>Oct 22, 2022</td>\n",
       "      <td>231000</td>\n",
       "      <td>0</td>\n",
       "      <td>231000</td>\n",
       "      <td>0.014903</td>\n",
       "      <td>0</td>\n",
       "      <td>0</td>\n",
       "    </tr>\n",
       "    <tr>\n",
       "      <th>1</th>\n",
       "      <td>Oct 22, 2022</td>\n",
       "      <td>Oct 22, 2022</td>\n",
       "      <td>218800</td>\n",
       "      <td>0</td>\n",
       "      <td>218800</td>\n",
       "      <td>0.014116</td>\n",
       "      <td>0</td>\n",
       "      <td>0</td>\n",
       "    </tr>\n",
       "    <tr>\n",
       "      <th>2</th>\n",
       "      <td>Oct 22, 2022</td>\n",
       "      <td>Oct 22, 2022</td>\n",
       "      <td>227000</td>\n",
       "      <td>0</td>\n",
       "      <td>227000</td>\n",
       "      <td>0.014645</td>\n",
       "      <td>0</td>\n",
       "      <td>0</td>\n",
       "    </tr>\n",
       "    <tr>\n",
       "      <th>3</th>\n",
       "      <td>Oct 22, 2022</td>\n",
       "      <td>Oct 22, 2022</td>\n",
       "      <td>263000</td>\n",
       "      <td>0</td>\n",
       "      <td>263000</td>\n",
       "      <td>0.016968</td>\n",
       "      <td>0</td>\n",
       "      <td>0</td>\n",
       "    </tr>\n",
       "    <tr>\n",
       "      <th>4</th>\n",
       "      <td>Oct 22, 2022</td>\n",
       "      <td>Oct 22, 2022</td>\n",
       "      <td>236000</td>\n",
       "      <td>0</td>\n",
       "      <td>236000</td>\n",
       "      <td>0.015226</td>\n",
       "      <td>0</td>\n",
       "      <td>0</td>\n",
       "    </tr>\n",
       "  </tbody>\n",
       "</table>\n",
       "</div>"
      ],
      "text/plain": [
       "           Date Last Crawling Original Price Discount  Selling Price  \\\n",
       "0  Oct 22, 2022  Oct 22, 2022         231000        0         231000   \n",
       "1  Oct 22, 2022  Oct 22, 2022         218800        0         218800   \n",
       "2  Oct 22, 2022  Oct 22, 2022         227000        0         227000   \n",
       "3  Oct 22, 2022  Oct 22, 2022         263000        0         263000   \n",
       "4  Oct 22, 2022  Oct 22, 2022         236000        0         236000   \n",
       "\n",
       "   Discrepancy  Sales Quantity  Sales Revenue  \n",
       "0     0.014903               0              0  \n",
       "1     0.014116               0              0  \n",
       "2     0.014645               0              0  \n",
       "3     0.016968               0              0  \n",
       "4     0.015226               0              0  "
      ]
     },
     "execution_count": 5,
     "metadata": {},
     "output_type": "execute_result"
    }
   ],
   "source": [
    "df.head()"
   ]
  },
  {
   "cell_type": "code",
   "execution_count": 6,
   "metadata": {},
   "outputs": [
    {
     "data": {
      "text/plain": [
       "array([ True])"
      ]
     },
     "execution_count": 6,
     "metadata": {},
     "output_type": "execute_result"
    }
   ],
   "source": [
    "(df[\"Last Crawling\"] == df[\"Date\"]).unique()"
   ]
  },
  {
   "cell_type": "code",
   "execution_count": 7,
   "metadata": {},
   "outputs": [],
   "source": [
    "df.drop(columns=\"Last Crawling\", inplace=True)"
   ]
  },
  {
   "cell_type": "code",
   "execution_count": 8,
   "metadata": {},
   "outputs": [
    {
     "data": {
      "text/plain": [
       "array(['Sep 20, 2022', 'Sep 29, 2022', 'Sep 30, 2022', 'Oct 1, 2022',\n",
       "       'Oct 2, 2022', 'Oct 3, 2022', 'Oct 4, 2022', 'Oct 5, 2022',\n",
       "       'Oct 6, 2022', 'Oct 7, 2022', 'Oct 10, 2022', 'Oct 12, 2022',\n",
       "       'Oct 13, 2022', 'Oct 14, 2022', 'Oct 15, 2022', 'Oct 18, 2022',\n",
       "       'Oct 19, 2022', 'Oct 22, 2022'], dtype=object)"
      ]
     },
     "execution_count": 8,
     "metadata": {},
     "output_type": "execute_result"
    }
   ],
   "source": [
    "df.Date.unique()[::-1]"
   ]
  },
  {
   "cell_type": "code",
   "execution_count": 9,
   "metadata": {},
   "outputs": [
    {
     "data": {
      "text/html": [
       "<div>\n",
       "<style scoped>\n",
       "    .dataframe tbody tr th:only-of-type {\n",
       "        vertical-align: middle;\n",
       "    }\n",
       "\n",
       "    .dataframe tbody tr th {\n",
       "        vertical-align: top;\n",
       "    }\n",
       "\n",
       "    .dataframe thead th {\n",
       "        text-align: right;\n",
       "    }\n",
       "</style>\n",
       "<table border=\"1\" class=\"dataframe\">\n",
       "  <thead>\n",
       "    <tr style=\"text-align: right;\">\n",
       "      <th></th>\n",
       "      <th>Date</th>\n",
       "      <th>Original Price</th>\n",
       "      <th>Discount</th>\n",
       "      <th>Selling Price</th>\n",
       "      <th>Discrepancy</th>\n",
       "      <th>Sales Quantity</th>\n",
       "      <th>Sales Revenue</th>\n",
       "    </tr>\n",
       "  </thead>\n",
       "  <tbody>\n",
       "    <tr>\n",
       "      <th>32767</th>\n",
       "      <td>1</td>\n",
       "      <td>244000</td>\n",
       "      <td>0</td>\n",
       "      <td>244000</td>\n",
       "      <td>0.015742</td>\n",
       "      <td>0</td>\n",
       "      <td>0</td>\n",
       "    </tr>\n",
       "    <tr>\n",
       "      <th>32768</th>\n",
       "      <td>1</td>\n",
       "      <td>212000</td>\n",
       "      <td>0</td>\n",
       "      <td>212000</td>\n",
       "      <td>0.013677</td>\n",
       "      <td>0</td>\n",
       "      <td>0</td>\n",
       "    </tr>\n",
       "    <tr>\n",
       "      <th>32769</th>\n",
       "      <td>1</td>\n",
       "      <td>271733</td>\n",
       "      <td>0</td>\n",
       "      <td>271733</td>\n",
       "      <td>0.017531</td>\n",
       "      <td>0</td>\n",
       "      <td>0</td>\n",
       "    </tr>\n",
       "    <tr>\n",
       "      <th>32770</th>\n",
       "      <td>1</td>\n",
       "      <td>210000</td>\n",
       "      <td>0</td>\n",
       "      <td>210000</td>\n",
       "      <td>0.013548</td>\n",
       "      <td>0</td>\n",
       "      <td>0</td>\n",
       "    </tr>\n",
       "    <tr>\n",
       "      <th>32771</th>\n",
       "      <td>1</td>\n",
       "      <td>274900</td>\n",
       "      <td>0</td>\n",
       "      <td>274900</td>\n",
       "      <td>0.017735</td>\n",
       "      <td>0</td>\n",
       "      <td>0</td>\n",
       "    </tr>\n",
       "  </tbody>\n",
       "</table>\n",
       "</div>"
      ],
      "text/plain": [
       "       Date Original Price Discount  Selling Price  Discrepancy  \\\n",
       "32767     1         244000        0         244000     0.015742   \n",
       "32768     1         212000        0         212000     0.013677   \n",
       "32769     1         271733        0         271733     0.017531   \n",
       "32770     1         210000        0         210000     0.013548   \n",
       "32771     1         274900        0         274900     0.017735   \n",
       "\n",
       "       Sales Quantity  Sales Revenue  \n",
       "32767               0              0  \n",
       "32768               0              0  \n",
       "32769               0              0  \n",
       "32770               0              0  \n",
       "32771               0              0  "
      ]
     },
     "execution_count": 9,
     "metadata": {},
     "output_type": "execute_result"
    }
   ],
   "source": [
    "df.Date = df.Date.map({'Sep 20, 2022':1, 'Sep 29, 2022':10, 'Sep 30, 2022':11, 'Oct 1, 2022':12,\n",
    "       'Oct 2, 2022':13, 'Oct 3, 2022':14, 'Oct 4, 2022':15, 'Oct 5, 2022':16,\n",
    "       'Oct 6, 2022':17, 'Oct 7, 2022':18, 'Oct 10, 2022':21, 'Oct 12, 2022':23,\n",
    "       'Oct 13, 2022':24, 'Oct 14, 2022':25, 'Oct 15, 2022':26, 'Oct 18, 2022':29,\n",
    "       'Oct 19, 2022':30, 'Oct 22, 2022':33})\n",
    "\n",
    "df.tail()"
   ]
  },
  {
   "cell_type": "code",
   "execution_count": 10,
   "metadata": {},
   "outputs": [
    {
     "data": {
      "text/plain": [
       "Date              0\n",
       "Original Price    0\n",
       "Discount          0\n",
       "Selling Price     0\n",
       "Discrepancy       0\n",
       "Sales Quantity    0\n",
       "Sales Revenue     0\n",
       "dtype: int64"
      ]
     },
     "execution_count": 10,
     "metadata": {},
     "output_type": "execute_result"
    },
    {
     "data": {
      "image/png": "[encoded data removed]",
      "text/plain": [
       "<Figure size 640x480 with 2 Axes>"
      ]
     },
     "metadata": {},
     "output_type": "display_data"
    }
   ],
   "source": [
    "sns.heatmap(df.isna(), cmap=\"Blues\")\n",
    "df.isna().sum()"
   ]
  },
  {
   "cell_type": "code",
   "execution_count": 11,
   "metadata": {},
   "outputs": [
    {
     "name": "stdout",
     "output_type": "stream",
     "text": [
      "<class 'pandas.core.frame.DataFrame'>\n",
      "RangeIndex: 32772 entries, 0 to 32771\n",
      "Data columns (total 7 columns):\n",
      " #   Column          Non-Null Count  Dtype  \n",
      "---  ------          --------------  -----  \n",
      " 0   Date            32772 non-null  int64  \n",
      " 1   Original Price  32772 non-null  object \n",
      " 2   Discount        32772 non-null  object \n",
      " 3   Selling Price   32772 non-null  int64  \n",
      " 4   Discrepancy     32772 non-null  float64\n",
      " 5   Sales Quantity  32772 non-null  int64  \n",
      " 6   Sales Revenue   32772 non-null  int64  \n",
      "dtypes: float64(1), int64(4), object(2)\n",
      "memory usage: 1.8+ MB\n"
     ]
    }
   ],
   "source": [
    "df.info()"
   ]
  },
  {
   "cell_type": "code",
   "execution_count": 12,
   "metadata": {},
   "outputs": [],
   "source": [
    "df.replace(\"-\", 0, inplace=True)"
   ]
  },
  {
   "cell_type": "code",
   "execution_count": 13,
   "metadata": {},
   "outputs": [],
   "source": [
    "df[\"Original Price\"] = df[\"Original Price\"].astype(float)\n",
    "df[\"Discount\"] = df[\"Discount\"].astype(float)"
   ]
  },
  {
   "cell_type": "code",
   "execution_count": 14,
   "metadata": {},
   "outputs": [
    {
     "data": {
      "text/plain": [
       "<Axes: >"
      ]
     },
     "execution_count": 14,
     "metadata": {},
     "output_type": "execute_result"
    },
    {
     "data": {
      "image/png": "[encoded data removed]",
      "text/plain": [
       "<Figure size 640x480 with 2 Axes>"
      ]
     },
     "metadata": {},
     "output_type": "display_data"
    }
   ],
   "source": [
    "sns.heatmap(df.corr(), annot=True, cmap=\"Blues\")"
   ]
  },
  {
   "cell_type": "code",
   "execution_count": 15,
   "metadata": {},
   "outputs": [
    {
     "data": {
      "text/plain": [
       "<matplotlib.collections.PathCollection at 0x1d8464cfc40>"
      ]
     },
     "execution_count": 15,
     "metadata": {},
     "output_type": "execute_result"
    },
    {
     "data": {
      "image/png": "[encoded data removed]",
      "text/plain": [
       "<Figure size 640x480 with 1 Axes>"
      ]
     },
     "metadata": {},
     "output_type": "display_data"
    }
   ],
   "source": [
    "plt.scatter(df[\"Discrepancy\"], df[\"Original Price\"])"
   ]
  },
  {
   "cell_type": "code",
   "execution_count": 16,
   "metadata": {},
   "outputs": [],
   "source": [
    "# sns.pairplot(df)"
   ]
  },
  {
   "cell_type": "code",
   "execution_count": 17,
   "metadata": {},
   "outputs": [
    {
     "data": {
      "text/plain": [
       "Index(['Date', 'Original Price', 'Discount', 'Selling Price', 'Discrepancy',\n",
       "       'Sales Quantity', 'Sales Revenue'],\n",
       "      dtype='object')"
      ]
     },
     "execution_count": 17,
     "metadata": {},
     "output_type": "execute_result"
    }
   ],
   "source": [
    "df.columns"
   ]
  },
  {
   "cell_type": "code",
   "execution_count": 18,
   "metadata": {},
   "outputs": [],
   "source": [
    "from sklearn import linear_model\n",
    "from sklearn.model_selection import train_test_split\n",
    "from sklearn.metrics import mean_absolute_error, mean_squared_error, r2_score"
   ]
  },
  {
   "cell_type": "code",
   "execution_count": 19,
   "metadata": {},
   "outputs": [],
   "source": [
    "# x = df[\"Discrepancy\"]\n",
    "x = np.array(df[\"Discrepancy\"].array).reshape(-1, 1)\n",
    "y = df[\"Selling Price\"]\n",
    "\n",
    "X_train, X_test, y_train, y_test = train_test_split(x, y, test_size=0.1, random_state=42)"
   ]
  },
  {
   "cell_type": "code",
   "execution_count": 20,
   "metadata": {},
   "outputs": [
    {
     "data": {
      "text/plain": [
       "(array([[0.0206    ],\n",
       "        [0.01611613],\n",
       "        [0.01829032],\n",
       "        ...,\n",
       "        [0.0156129 ],\n",
       "        [0.01674194],\n",
       "        [0.01877419]]),\n",
       " array([[0.01825806],\n",
       "        [0.01428387],\n",
       "        [0.01986452],\n",
       "        ...,\n",
       "        [0.01857419],\n",
       "        [0.02174194],\n",
       "        [0.01283871]]),\n",
       " 12152    319300\n",
       " 5685     249800\n",
       " 19721    283500\n",
       " 6483     356000\n",
       " 8013     326000\n",
       "           ...  \n",
       " 16850    320500\n",
       " 6265     643000\n",
       " 11284    242000\n",
       " 860      259500\n",
       " 15795    291000\n",
       " Name: Selling Price, Length: 29494, dtype: int64,\n",
       " 3246     283000\n",
       " 27834    221400\n",
       " 15541    307900\n",
       " 10665    251000\n",
       " 1888     231000\n",
       "           ...  \n",
       " 21011    229000\n",
       " 28433    209300\n",
       " 25707    287900\n",
       " 30765    337000\n",
       " 927      199000\n",
       " Name: Selling Price, Length: 3278, dtype: int64)"
      ]
     },
     "execution_count": 20,
     "metadata": {},
     "output_type": "execute_result"
    }
   ],
   "source": [
    "X_train, X_test, y_train, y_test"
   ]
  },
  {
   "cell_type": "code",
   "execution_count": 21,
   "metadata": {},
   "outputs": [
    {
     "data": {
      "text/html": [
       "<style>#sk-container-id-1 {color: black;}#sk-container-id-1 pre{padding: 0;}#sk-container-id-1 div.sk-toggleable {background-color: white;}#sk-container-id-1 label.sk-toggleable__label {cursor: pointer;display: block;width: 100%;margin-bottom: 0;padding: 0.3em;box-sizing: border-box;text-align: center;}#sk-container-id-1 label.sk-toggleable__label-arrow:before {content: \"▸\";float: left;margin-right: 0.25em;color: #696969;}#sk-container-id-1 label.sk-toggleable__label-arrow:hover:before {color: black;}#sk-container-id-1 div.sk-estimator:hover label.sk-toggleable__label-arrow:before {color: black;}#sk-container-id-1 div.sk-toggleable__content {max-height: 0;max-width: 0;overflow: hidden;text-align: left;background-color: #f0f8ff;}#sk-container-id-1 div.sk-toggleable__content pre {margin: 0.2em;color: black;border-radius: 0.25em;background-color: #f0f8ff;}#sk-container-id-1 input.sk-toggleable__control:checked~div.sk-toggleable__content {max-height: 200px;max-width: 100%;overflow: auto;}#sk-container-id-1 input.sk-toggleable__control:checked~label.sk-toggleable__label-arrow:before {content: \"▾\";}#sk-container-id-1 div.sk-estimator input.sk-toggleable__control:checked~label.sk-toggleable__label {background-color: #d4ebff;}#sk-container-id-1 div.sk-label input.sk-toggleable__control:checked~label.sk-toggleable__label {background-color: #d4ebff;}#sk-container-id-1 input.sk-hidden--visually {border: 0;clip: rect(1px 1px 1px 1px);clip: rect(1px, 1px, 1px, 1px);height: 1px;margin: -1px;overflow: hidden;padding: 0;position: absolute;width: 1px;}#sk-container-id-1 div.sk-estimator {font-family: monospace;background-color: #f0f8ff;border: 1px dotted black;border-radius: 0.25em;box-sizing: border-box;margin-bottom: 0.5em;}#sk-container-id-1 div.sk-estimator:hover {background-color: #d4ebff;}#sk-container-id-1 div.sk-parallel-item::after {content: \"\";width: 100%;border-bottom: 1px solid gray;flex-grow: 1;}#sk-container-id-1 div.sk-label:hover label.sk-toggleable__label {background-color: #d4ebff;}#sk-container-id-1 div.sk-serial::before {content: \"\";position: absolute;border-left: 1px solid gray;box-sizing: border-box;top: 0;bottom: 0;left: 50%;z-index: 0;}#sk-container-id-1 div.sk-serial {display: flex;flex-direction: column;align-items: center;background-color: white;padding-right: 0.2em;padding-left: 0.2em;position: relative;}#sk-container-id-1 div.sk-item {position: relative;z-index: 1;}#sk-container-id-1 div.sk-parallel {display: flex;align-items: stretch;justify-content: center;background-color: white;position: relative;}#sk-container-id-1 div.sk-item::before, #sk-container-id-1 div.sk-parallel-item::before {content: \"\";position: absolute;border-left: 1px solid gray;box-sizing: border-box;top: 0;bottom: 0;left: 50%;z-index: -1;}#sk-container-id-1 div.sk-parallel-item {display: flex;flex-direction: column;z-index: 1;position: relative;background-color: white;}#sk-container-id-1 div.sk-parallel-item:first-child::after {align-self: flex-end;width: 50%;}#sk-container-id-1 div.sk-parallel-item:last-child::after {align-self: flex-start;width: 50%;}#sk-container-id-1 div.sk-parallel-item:only-child::after {width: 0;}#sk-container-id-1 div.sk-dashed-wrapped {border: 1px dashed gray;margin: 0 0.4em 0.5em 0.4em;box-sizing: border-box;padding-bottom: 0.4em;background-color: white;}#sk-container-id-1 div.sk-label label {font-family: monospace;font-weight: bold;display: inline-block;line-height: 1.2em;}#sk-container-id-1 div.sk-label-container {text-align: center;}#sk-container-id-1 div.sk-container {/* jupyter's `normalize.less` sets `[hidden] { display: none; }` but bootstrap.min.css set `[hidden] { display: none !important; }` so we also need the `!important` here to be able to override the default hidden behavior on the sphinx rendered scikit-learn.org. See: https://github.com/scikit-learn/scikit-learn/issues/21755 */display: inline-block !important;position: relative;}#sk-container-id-1 div.sk-text-repr-fallback {display: none;}</style><div id=\"sk-container-id-1\" class=\"sk-top-container\"><div class=\"sk-text-repr-fallback\"><pre>LinearRegression()</pre><b>In a Jupyter environment, please rerun this cell to show the HTML representation or trust the notebook. <br />On GitHub, the HTML representation is unable to render, please try loading this page with nbviewer.org.</b></div><div class=\"sk-container\" hidden><div class=\"sk-item\"><div class=\"sk-estimator sk-toggleable\"><input class=\"sk-toggleable__control sk-hidden--visually\" id=\"sk-estimator-id-1\" type=\"checkbox\" checked><label for=\"sk-estimator-id-1\" class=\"sk-toggleable__label sk-toggleable__label-arrow\">LinearRegression</label><div class=\"sk-toggleable__content\"><pre>LinearRegression()</pre></div></div></div></div></div>"
      ],
      "text/plain": [
       "LinearRegression()"
      ]
     },
     "execution_count": 21,
     "metadata": {},
     "output_type": "execute_result"
    }
   ],
   "source": [
    "# from sklearn.linear_model import LinearRegression\n",
    "# from sklearn.metrics import r2_score\n",
    "model = linear_model.LinearRegression()\n",
    "\n",
    "model.fit(X_train, y_train)\n",
    "# model.fit(X_train, y_train)"
   ]
  },
  {
   "cell_type": "code",
   "execution_count": 22,
   "metadata": {},
   "outputs": [
    {
     "data": {
      "text/plain": [
       "(12152    319300\n",
       " 5685     249800\n",
       " 19721    283500\n",
       " 6483     356000\n",
       " 8013     326000\n",
       "           ...  \n",
       " 16850    320500\n",
       " 6265     643000\n",
       " 11284    242000\n",
       " 860      259500\n",
       " 15795    291000\n",
       " Name: Selling Price, Length: 29494, dtype: int64,\n",
       " array([321300.87192229, 252045.9304385 , 285627.1035033 , ...,\n",
       "        244273.43340866, 261711.72802688, 293100.65833968]))"
      ]
     },
     "execution_count": 22,
     "metadata": {},
     "output_type": "execute_result"
    }
   ],
   "source": [
    "y_train, model.predict(X_train)"
   ]
  },
  {
   "cell_type": "code",
   "execution_count": 23,
   "metadata": {},
   "outputs": [
    {
     "name": "stdout",
     "output_type": "stream",
     "text": [
      "training\n",
      "mean absolute error 4301.00915467856\n",
      "mean squared error 328523452.1649203\n",
      "koefisien determinasi 0.955634108111139\n",
      "koefisien [15445346.66185383]\n",
      "konstanta 3126.7306881039985\n"
     ]
    }
   ],
   "source": [
    "y_pred = model.predict(X_test)\n",
    "\n",
    "print(\"training\")\n",
    "print( \"mean absolute error \" + str(mean_absolute_error(y_test, y_pred)))\n",
    "print(\"mean squared error \" + str(mean_squared_error(y_test, y_pred)))\n",
    "print(\"koefisien determinasi \" + str(r2_score(y_test, y_pred)))\n",
    "print(\"koefisien \" + str(model.coef_))\n",
    "print(\"konstanta \" + str(model.intercept_))"
   ]
  },
  {
   "cell_type": "code",
   "execution_count": 24,
   "metadata": {},
   "outputs": [
    {
     "data": {
      "text/plain": [
       "[<matplotlib.lines.Line2D at 0x1d847203f70>]"
      ]
     },
     "execution_count": 24,
     "metadata": {},
     "output_type": "execute_result"
    },
    {
     "data": {
      "image/png": "[encoded data removed]",
      "text/plain": [
       "<Figure size 640x480 with 1 Axes>"
      ]
     },
     "metadata": {},
     "output_type": "display_data"
    }
   ],
   "source": [
    "plt.scatter(X_test, y_test)\n",
    "plt.plot(X_test, model.predict(X_test))"
   ]
  },
  {
   "cell_type": "code",
   "execution_count": 143,
   "metadata": {},
   "outputs": [
    {
     "data": {
      "text/plain": [
       "Index(['Date', 'Original Price', 'Discount', 'Selling Price', 'Discrepancy',\n",
       "       'Sales Quantity', 'Sales Revenue'],\n",
       "      dtype='object')"
      ]
     },
     "execution_count": 143,
     "metadata": {},
     "output_type": "execute_result"
    }
   ],
   "source": [
    "df.columns"
   ]
  },
  {
   "cell_type": "code",
   "execution_count": 151,
   "metadata": {},
   "outputs": [
    {
     "data": {
      "image/png": "[encoded data removed]",
      "text/plain": [
       "<Figure size 400x400 with 1 Axes>"
      ]
     },
     "metadata": {},
     "output_type": "display_data"
    }
   ],
   "source": [
    "from tkinter import *\n",
    "import matplotlib.pyplot as plt\n",
    "from matplotlib.backends.backend_tkagg import FigureCanvasTkAgg\n",
    "import seaborn as sns\n",
    "\n",
    "text_color = \"Black\"\n",
    "\n",
    "root = Tk()\n",
    "root.configure(bg=\"#001F3F\")\n",
    "root.geometry(\"860x600\")\n",
    "root.title(\"Data Processing\")\n",
    "\n",
    "dataFrame = df.to_string()\n",
    "\n",
    "fig, ax = plt.subplots(figsize=(6, 4))  \n",
    "canvas = FigureCanvasTkAgg(fig, master=root)\n",
    "\n",
    "text_widget = Text(root, height=20, width=100, state=\"disabled\", wrap=\"word\", bg=\"lightgray\", fg=text_color)\n",
    "label_widget = Text(root, height=20, width=100, state=\"disabled\", wrap=\"word\", bg=\"lightgray\", fg=text_color)\n",
    "num_columns = [i for i in range(len(df.columns))]\n",
    "\n",
    "def display_input():\n",
    "    global dataFrame_b, correlation_b\n",
    "    dataFrame_b.place(x=80, y=10)\n",
    "    correlation_b.place(x=260, y=10)\n",
    "\n",
    "\n",
    "def show_correlation():\n",
    "    clear_text()\n",
    "    global label_widget\n",
    "    label_widget.place(x=540, y=50)\n",
    "\n",
    "    label_widget.config(state='normal', bg=\"#001F3F\", fg=\"white\", borderwidth=0)\n",
    "    label_widget.delete(1.0, END)\n",
    "    label_widget.insert(END, \"0 = 'Date',\\n1 = 'Original Price',\\n2 = 'Discount',\\n3 = 'Selling Price', \\n4 = 'Discrepancy', \\n5 = 'Sales Quantity', \\n6 = 'Sales Revenue'\")\n",
    "    label_widget.config(state='disabled')\n",
    "    canvas.get_tk_widget().place(x=100, y=50, width=400, height=400)\n",
    "    correlation = sns.heatmap(df.corr(), annot=True, cmap=\"Blues\", ax=ax, cbar=False, xticklabels=num_columns,\n",
    "                                yticklabels=num_columns, fmt=\".1f\")\n",
    "    correlation.set_title(\"Correlation Heatmap\")\n",
    "    canvas.draw()\n",
    "\n",
    "\n",
    "def show_dataframe():\n",
    "    ax.clear()\n",
    "    global text_widget, label_widget\n",
    "    label_widget.place_forget()\n",
    "    text_widget.place(x=100, y=50)\n",
    "\n",
    "    text_widget.config(state='normal', bg=\"lightgray\", fg=text_color)\n",
    "    text_widget.delete(1.0, END)\n",
    "    text_widget.insert(END, dataFrame)\n",
    "    text_widget.config(state='disabled')\n",
    "\n",
    "    canvas.get_tk_widget().place_forget()\n",
    "    canvas.draw()\n",
    "\n",
    "\n",
    "def display_process():\n",
    "    clear_text()\n",
    "    correlation_b.place_forget()\n",
    "    dataFrame_b.place_forget()\n",
    "    ax.clear()\n",
    "    canvas.get_tk_widget().place(x=100, y=50, width=500, height=400)\n",
    "\n",
    "    ax.scatter(X_train, y_train)\n",
    "    y_pred = model.predict(X_train)\n",
    "    ax.plot(X_train, y_pred, color='red')\n",
    "    ax.set_title(\"Linear Regression with data train\")\n",
    "    ax.set_xlabel(\"Discrepancy\")\n",
    "    ax.set_ylabel(\"Selling Price\")\n",
    "    coefision = \"a: \" + str(model.intercept_)\n",
    "    constanta = \"b: \" + str(model.coef_)\n",
    "    ax.text(0.3, 0.9, coefision, transform=ax.transAxes, color=text_color)\n",
    "    ax.text(0.3, 0.8, constanta, transform=ax.transAxes, color=text_color)\n",
    "    canvas.draw()\n",
    "\n",
    "\n",
    "def display_output():\n",
    "    clear_text()\n",
    "    correlation_b.place_forget()\n",
    "    dataFrame_b.place_forget()\n",
    "    ax.clear()\n",
    "    canvas.get_tk_widget().place(x=100, y=50, width=500, height=400)\n",
    "    ax.scatter(X_test, y_test)\n",
    "    y_pred = model.predict(X_test)\n",
    "    ax.plot(X_test, y_pred, color='red')\n",
    "    ax.set_title(\"Linear Regression with data test\")\n",
    "    ax.set_xlabel(\"Discrepancy\")\n",
    "    ax.set_ylabel(\"Selling Price\")\n",
    "    ax.text(0.3, 0.9, f\"MSE: {mean_squared_error(y_test, y_pred):.2f}\", transform=ax.transAxes, color=text_color)\n",
    "    ax.text(0.3, 0.8, f\"R2: {r2_score(y_test, y_pred):.2f}\", transform=ax.transAxes, color=text_color)\n",
    "    ax.text(0.3, 0.7, f\"MAE: {mean_absolute_error(y_test, y_pred):.2f}\", transform=ax.transAxes, color=text_color)\n",
    "    canvas.draw()\n",
    "\n",
    "\n",
    "def clear_text():\n",
    "    global text_widget, label_widget\n",
    "    text_widget.place_forget()\n",
    "    label_widget.place_forget()\n",
    "\n",
    "\n",
    "input_b = Button(root, text=\"Input\", command=display_input, bg=\"lightgray\", fg=text_color)\n",
    "input_b.place(x=10, y=40)\n",
    "\n",
    "process_b = Button(root, text=\"Process\", command=display_process, bg=\"lightgray\", fg=text_color)\n",
    "process_b.place(x=10, y=90)\n",
    "\n",
    "output_b = Button(root, text=\"Output\", command=display_output, bg=\"lightgray\", fg=text_color)\n",
    "output_b.place(x=10, y=140)\n",
    "\n",
    "dataFrame_b = Button(root, text=\"Show Dataframe\", command=show_dataframe, bg=\"lightgray\", fg=text_color)\n",
    "correlation_b = Button(root, text=\"Show Correlation\", command=show_correlation, bg=\"lightgray\", fg=text_color)\n",
    "\n",
    "root.mainloop()"
   ]
  },
  {
   "cell_type": "code",
   "execution_count": 26,
   "metadata": {},
   "outputs": [
    {
     "data": {
      "text/html": [
       "<div>\n",
       "<style scoped>\n",
       "    .dataframe tbody tr th:only-of-type {\n",
       "        vertical-align: middle;\n",
       "    }\n",
       "\n",
       "    .dataframe tbody tr th {\n",
       "        vertical-align: top;\n",
       "    }\n",
       "\n",
       "    .dataframe thead th {\n",
       "        text-align: right;\n",
       "    }\n",
       "</style>\n",
       "<table border=\"1\" class=\"dataframe\">\n",
       "  <thead>\n",
       "    <tr style=\"text-align: right;\">\n",
       "      <th></th>\n",
       "      <th>Date</th>\n",
       "      <th>Original Price</th>\n",
       "      <th>Discount</th>\n",
       "      <th>Selling Price</th>\n",
       "      <th>Discrepancy</th>\n",
       "      <th>Sales Quantity</th>\n",
       "      <th>Sales Revenue</th>\n",
       "    </tr>\n",
       "  </thead>\n",
       "  <tbody>\n",
       "    <tr>\n",
       "      <th>0</th>\n",
       "      <td>33</td>\n",
       "      <td>231000.0</td>\n",
       "      <td>0.0</td>\n",
       "      <td>231000</td>\n",
       "      <td>0.014903</td>\n",
       "      <td>0</td>\n",
       "      <td>0</td>\n",
       "    </tr>\n",
       "    <tr>\n",
       "      <th>1</th>\n",
       "      <td>33</td>\n",
       "      <td>218800.0</td>\n",
       "      <td>0.0</td>\n",
       "      <td>218800</td>\n",
       "      <td>0.014116</td>\n",
       "      <td>0</td>\n",
       "      <td>0</td>\n",
       "    </tr>\n",
       "    <tr>\n",
       "      <th>2</th>\n",
       "      <td>33</td>\n",
       "      <td>227000.0</td>\n",
       "      <td>0.0</td>\n",
       "      <td>227000</td>\n",
       "      <td>0.014645</td>\n",
       "      <td>0</td>\n",
       "      <td>0</td>\n",
       "    </tr>\n",
       "    <tr>\n",
       "      <th>3</th>\n",
       "      <td>33</td>\n",
       "      <td>263000.0</td>\n",
       "      <td>0.0</td>\n",
       "      <td>263000</td>\n",
       "      <td>0.016968</td>\n",
       "      <td>0</td>\n",
       "      <td>0</td>\n",
       "    </tr>\n",
       "    <tr>\n",
       "      <th>4</th>\n",
       "      <td>33</td>\n",
       "      <td>236000.0</td>\n",
       "      <td>0.0</td>\n",
       "      <td>236000</td>\n",
       "      <td>0.015226</td>\n",
       "      <td>0</td>\n",
       "      <td>0</td>\n",
       "    </tr>\n",
       "    <tr>\n",
       "      <th>...</th>\n",
       "      <td>...</td>\n",
       "      <td>...</td>\n",
       "      <td>...</td>\n",
       "      <td>...</td>\n",
       "      <td>...</td>\n",
       "      <td>...</td>\n",
       "      <td>...</td>\n",
       "    </tr>\n",
       "    <tr>\n",
       "      <th>32767</th>\n",
       "      <td>1</td>\n",
       "      <td>244000.0</td>\n",
       "      <td>0.0</td>\n",
       "      <td>244000</td>\n",
       "      <td>0.015742</td>\n",
       "      <td>0</td>\n",
       "      <td>0</td>\n",
       "    </tr>\n",
       "    <tr>\n",
       "      <th>32768</th>\n",
       "      <td>1</td>\n",
       "      <td>212000.0</td>\n",
       "      <td>0.0</td>\n",
       "      <td>212000</td>\n",
       "      <td>0.013677</td>\n",
       "      <td>0</td>\n",
       "      <td>0</td>\n",
       "    </tr>\n",
       "    <tr>\n",
       "      <th>32769</th>\n",
       "      <td>1</td>\n",
       "      <td>271733.0</td>\n",
       "      <td>0.0</td>\n",
       "      <td>271733</td>\n",
       "      <td>0.017531</td>\n",
       "      <td>0</td>\n",
       "      <td>0</td>\n",
       "    </tr>\n",
       "    <tr>\n",
       "      <th>32770</th>\n",
       "      <td>1</td>\n",
       "      <td>210000.0</td>\n",
       "      <td>0.0</td>\n",
       "      <td>210000</td>\n",
       "      <td>0.013548</td>\n",
       "      <td>0</td>\n",
       "      <td>0</td>\n",
       "    </tr>\n",
       "    <tr>\n",
       "      <th>32771</th>\n",
       "      <td>1</td>\n",
       "      <td>274900.0</td>\n",
       "      <td>0.0</td>\n",
       "      <td>274900</td>\n",
       "      <td>0.017735</td>\n",
       "      <td>0</td>\n",
       "      <td>0</td>\n",
       "    </tr>\n",
       "  </tbody>\n",
       "</table>\n",
       "<p>32772 rows × 7 columns</p>\n",
       "</div>"
      ],
      "text/plain": [
       "       Date  Original Price  Discount  Selling Price  Discrepancy  \\\n",
       "0        33        231000.0       0.0         231000     0.014903   \n",
       "1        33        218800.0       0.0         218800     0.014116   \n",
       "2        33        227000.0       0.0         227000     0.014645   \n",
       "3        33        263000.0       0.0         263000     0.016968   \n",
       "4        33        236000.0       0.0         236000     0.015226   \n",
       "...     ...             ...       ...            ...          ...   \n",
       "32767     1        244000.0       0.0         244000     0.015742   \n",
       "32768     1        212000.0       0.0         212000     0.013677   \n",
       "32769     1        271733.0       0.0         271733     0.017531   \n",
       "32770     1        210000.0       0.0         210000     0.013548   \n",
       "32771     1        274900.0       0.0         274900     0.017735   \n",
       "\n",
       "       Sales Quantity  Sales Revenue  \n",
       "0                   0              0  \n",
       "1                   0              0  \n",
       "2                   0              0  \n",
       "3                   0              0  \n",
       "4                   0              0  \n",
       "...               ...            ...  \n",
       "32767               0              0  \n",
       "32768               0              0  \n",
       "32769               0              0  \n",
       "32770               0              0  \n",
       "32771               0              0  \n",
       "\n",
       "[32772 rows x 7 columns]"
      ]
     },
     "execution_count": 26,
     "metadata": {},
     "output_type": "execute_result"
    }
   ],
   "source": [
    "df"
   ]
  }
 ],
 "metadata": {
  "kernelspec": {
   "display_name": "Python 3",
   "language": "python",
   "name": "python3"
  },
  "language_info": {
   "codemirror_mode": {
    "name": "ipython",
    "version": 3
   },
   "file_extension": ".py",
   "mimetype": "text/x-python",
   "name": "python",
   "nbconvert_exporter": "python",
   "pygments_lexer": "ipython3",
   "version": "3.9.6"
  }
 },
 "nbformat": 4,
 "nbformat_minor": 2
}
