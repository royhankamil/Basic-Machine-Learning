{
 "cells": [
  {
   "cell_type": "markdown",
   "metadata": {},
   "source": [
    "# Soal Seleksi Artificial Intelligence LKS 2025"
   ]
  },
  {
   "cell_type": "markdown",
   "metadata": {},
   "source": [
    "### *Selalu perhatikan perintahnya"
   ]
  },
  {
   "cell_type": "markdown",
   "metadata": {},
   "source": [
    "Semangat :)"
   ]
  },
  {
   "cell_type": "markdown",
   "metadata": {},
   "source": [
    "## Soal 1"
   ]
  },
  {
   "cell_type": "markdown",
   "metadata": {},
   "source": [
    "Terdapat sebuah data tentang penjualan real estate, yang mana model kamu memprediksi harga penjualan real estate. Run code nya untuk melihat detail datanya. Tentukanlah mana x dan y nya, lalu print untuk x dan y tersebut. "
   ]
  },
  {
   "cell_type": "markdown",
   "metadata": {},
   "source": [
    "*clue : untuk mengambil suatu colom data maka gunakan df[\"nama_kolom\"]\n",
    "\n",
    "*nilai tambahan : menghapus kolom yang tidak perlu"
   ]
  },
  {
   "cell_type": "code",
   "execution_count": null,
   "metadata": {},
   "outputs": [],
   "source": [
    "import pandas as pd\n",
    "\n",
    "df = pd.read_csv(\"Real estate.csv\")\n",
    "\n",
    "df.head()\n",
    "\n",
    "### masukan kode anda dibawah ###########\n",
    "\n",
    "\n",
    "#########################################"
   ]
  },
  {
   "cell_type": "markdown",
   "metadata": {},
   "source": [
    "### Soal 2"
   ]
  },
  {
   "cell_type": "markdown",
   "metadata": {},
   "source": [
    "Anda mempunyai client seorang dokter yang ingin sebuah mesin yang mampu memprediksi apakah seseorang terkena obesitas atau tidak. Dokter itu memberikan data-data pasien yang terkena obesitas dan tidak. Tugasmu sekarang adalah hilangkan atribut / fitur yang tidak memengaruhi hasil dari prediksi apakah obesitas atau tidak. "
   ]
  },
  {
   "cell_type": "markdown",
   "metadata": {},
   "source": [
    "*Clue : untuk menghilangkan kolom tertentu gunakan df.drop(columns=\"nama_kolom\")\n",
    "\n",
    "*tambahan nilai : gunakan satu baris kode untuk menghilangkannya"
   ]
  },
  {
   "cell_type": "code",
   "execution_count": null,
   "metadata": {},
   "outputs": [],
   "source": [
    "df = pd.read_csv(\"Obesity_Classification.csv\")\n",
    "\n",
    "### masukan kode anda dibawah ###########\n",
    "\n",
    "\n",
    "#########################################\n",
    "\n",
    "df.head()"
   ]
  },
  {
   "cell_type": "markdown",
   "metadata": {},
   "source": [
    "### Soal 3"
   ]
  },
  {
   "cell_type": "markdown",
   "metadata": {},
   "source": [
    "Kamu sudah melihat datanya, lalu kamu melihat ada baris data / item yang tidak sesuai. Analisalah apa yang aneh dari data tersebut. Jika terdapat item yang mencurigakan maka kamu harus menampilkan / print urutan itemnya.\n",
    "\n",
    "*tambahan nilai : hapus item tersebut"
   ]
  },
  {
   "cell_type": "code",
   "execution_count": null,
   "metadata": {},
   "outputs": [],
   "source": [
    "\n",
    "### masukan kode anda dibawah ###########\n",
    "\n",
    "\n",
    "#########################################\n",
    "\n",
    "df.head()"
   ]
  },
  {
   "cell_type": "markdown",
   "metadata": {},
   "source": [
    "### Soal 4"
   ]
  },
  {
   "cell_type": "markdown",
   "metadata": {},
   "source": [
    "Ayo semangat sedikit lagi kamu selesai ;)"
   ]
  },
  {
   "cell_type": "markdown",
   "metadata": {},
   "source": [
    "Sekarang buatlah kode untuk membuat model datanya. Pertama kamu import semua library nya, lalu kamu tentukan mana x nya dan mana y nya. lalu mulai proses fit atau melakukan training data nya. Setelah itu, kamu print untuk y prediksi mu dan y asli mu, lalu hitung berapa kali prediksimu benar.\n",
    "\n",
    "*Clue : untuk menghasilkan nilai prediksi maka buat nama_model.predict(x) lalu disimpan di sebuah variable"
   ]
  },
  {
   "cell_type": "code",
   "execution_count": null,
   "metadata": {},
   "outputs": [],
   "source": [
    "from sklearn.neighbors import KNeighborsClassifier\n",
    "\n",
    "### masukan kode anda dibawah ###########\n",
    "\n",
    "\n",
    "#########################################\n"
   ]
  },
  {
   "cell_type": "markdown",
   "metadata": {},
   "source": []
  }
 ],
 "metadata": {
  "kernelspec": {
   "display_name": "Python 3",
   "language": "python",
   "name": "python3"
  },
  "language_info": {
   "codemirror_mode": {
    "name": "ipython",
    "version": 3
   },
   "file_extension": ".py",
   "mimetype": "text/x-python",
   "name": "python",
   "nbconvert_exporter": "python",
   "pygments_lexer": "ipython3",
   "version": "3.9.6"
  }
 },
 "nbformat": 4,
 "nbformat_minor": 2
}
