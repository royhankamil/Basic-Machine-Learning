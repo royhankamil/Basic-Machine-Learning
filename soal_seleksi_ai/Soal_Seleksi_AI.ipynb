{
 "cells": [
  {
   "cell_type": "markdown",
   "metadata": {},
   "source": [
    "# Jawaban Soal Seleksi Artificial Intelligence LKS 2025"
   ]
  },
  {
   "cell_type": "markdown",
   "metadata": {},
   "source": [
    "## Soal 1"
   ]
  },
  {
   "cell_type": "markdown",
   "metadata": {},
   "source": [
    "Terdapat sebuah data tentang penjualan real estate, yang mana model kamu memprediksi harga penjualan real estate. Run code nya untuk melihat detail datanya. Tentukanlah mana x dan y nya, lalu print untuk x dan y tersebut. "
   ]
  },
  {
   "cell_type": "markdown",
   "metadata": {},
   "source": [
    "*clue : untuk mengambil suatu colom data maka gunakan df[\"nama_kolom\"]\n",
    "\n",
    "*nilai tambahan : menghapus kolom yang tidak perlu"
   ]
  },
  {
   "cell_type": "code",
   "execution_count": 5,
   "metadata": {},
   "outputs": [
    {
     "name": "stdout",
     "output_type": "stream",
     "text": [
      "     house_age  distance_nearest_MRT  convenience_stores  latitude  longitude\n",
      "0         32.0              84.87882                  10  24.98298  121.54024\n",
      "1         19.5             306.59470                   9  24.98034  121.53951\n",
      "2         13.3             561.98450                   5  24.98746  121.54391\n",
      "3         13.3             561.98450                   5  24.98746  121.54391\n",
      "4          5.0             390.56840                   5  24.97937  121.54245\n",
      "..         ...                   ...                 ...       ...        ...\n",
      "409       13.7            4082.01500                   0  24.94155  121.50381\n",
      "410        5.6              90.45606                   9  24.97433  121.54310\n",
      "411       18.8             390.96960                   7  24.97923  121.53986\n",
      "412        8.1             104.81010                   5  24.96674  121.54067\n",
      "413        6.5              90.45606                   9  24.97433  121.54310\n",
      "\n",
      "[414 rows x 5 columns]\n",
      "0      37.9\n",
      "1      42.2\n",
      "2      47.3\n",
      "3      54.8\n",
      "4      43.1\n",
      "       ... \n",
      "409    15.4\n",
      "410    50.0\n",
      "411    40.6\n",
      "412    52.5\n",
      "413    63.9\n",
      "Name: house_price, Length: 414, dtype: float64\n"
     ]
    }
   ],
   "source": [
    "import pandas as pd\n",
    "\n",
    "df = pd.read_csv(\"Real estate.csv\")\n",
    "\n",
    "df.head()\n",
    "\n",
    "### masukan kode anda dibawah ###########\n",
    "df = df.drop(columns=[\"No\", \"transaction_date\"])\n",
    "\n",
    "x = df.drop(columns=\"house_price\")\n",
    "y = df[\"house_price\"]\n",
    "\n",
    "print(x)\n",
    "print(y)\n",
    "#########################################"
   ]
  },
  {
   "cell_type": "markdown",
   "metadata": {},
   "source": [
    "### Soal 2"
   ]
  },
  {
   "cell_type": "markdown",
   "metadata": {},
   "source": [
    "Anda mempunyai client seorang dokter yang ingin sebuah mesin yang mampu memprediksi apakah seseorang terkena obesitas atau tidak. Dokter itu memberikan data-data pasien yang terkena obesitas dan tidak. Tugasmu sekarang adalah hilangkan atribut / fitur yang tidak memengaruhi hasil dari prediksi apakah obesitas atau tidak. "
   ]
  },
  {
   "cell_type": "markdown",
   "metadata": {},
   "source": [
    "*Clue : untuk menghilangkan kolom tertentu gunakan df.drop(columns=\"nama_kolom\")\n",
    "\n",
    "*tambahan nilai : gunakan satu baris kode untuk menghilangkannya"
   ]
  },
  {
   "cell_type": "code",
   "execution_count": 7,
   "metadata": {},
   "outputs": [
    {
     "data": {
      "text/html": [
       "<div>\n",
       "<style scoped>\n",
       "    .dataframe tbody tr th:only-of-type {\n",
       "        vertical-align: middle;\n",
       "    }\n",
       "\n",
       "    .dataframe tbody tr th {\n",
       "        vertical-align: top;\n",
       "    }\n",
       "\n",
       "    .dataframe thead th {\n",
       "        text-align: right;\n",
       "    }\n",
       "</style>\n",
       "<table border=\"1\" class=\"dataframe\">\n",
       "  <thead>\n",
       "    <tr style=\"text-align: right;\">\n",
       "      <th></th>\n",
       "      <th>Age</th>\n",
       "      <th>Gender</th>\n",
       "      <th>Height</th>\n",
       "      <th>Weight</th>\n",
       "      <th>BMI</th>\n",
       "      <th>Category</th>\n",
       "    </tr>\n",
       "  </thead>\n",
       "  <tbody>\n",
       "    <tr>\n",
       "      <th>0</th>\n",
       "      <td>25</td>\n",
       "      <td>Male</td>\n",
       "      <td>175.0</td>\n",
       "      <td>80.0</td>\n",
       "      <td>0.0</td>\n",
       "      <td>Normal Weight</td>\n",
       "    </tr>\n",
       "    <tr>\n",
       "      <th>1</th>\n",
       "      <td>30</td>\n",
       "      <td>Female</td>\n",
       "      <td>160.0</td>\n",
       "      <td>60.0</td>\n",
       "      <td>22.5</td>\n",
       "      <td>Normal Weight</td>\n",
       "    </tr>\n",
       "    <tr>\n",
       "      <th>2</th>\n",
       "      <td>35</td>\n",
       "      <td>Male</td>\n",
       "      <td>180.0</td>\n",
       "      <td>90.0</td>\n",
       "      <td>27.3</td>\n",
       "      <td>Overweight</td>\n",
       "    </tr>\n",
       "    <tr>\n",
       "      <th>3</th>\n",
       "      <td>40</td>\n",
       "      <td>Female</td>\n",
       "      <td>NaN</td>\n",
       "      <td>50.0</td>\n",
       "      <td>20.0</td>\n",
       "      <td>Underweight</td>\n",
       "    </tr>\n",
       "    <tr>\n",
       "      <th>4</th>\n",
       "      <td>45</td>\n",
       "      <td>Male</td>\n",
       "      <td>190.0</td>\n",
       "      <td>100.0</td>\n",
       "      <td>31.2</td>\n",
       "      <td>Obese</td>\n",
       "    </tr>\n",
       "  </tbody>\n",
       "</table>\n",
       "</div>"
      ],
      "text/plain": [
       "   Age  Gender  Height  Weight   BMI       Category\n",
       "0   25    Male   175.0    80.0   0.0  Normal Weight\n",
       "1   30  Female   160.0    60.0  22.5  Normal Weight\n",
       "2   35    Male   180.0    90.0  27.3     Overweight\n",
       "3   40  Female     NaN    50.0  20.0    Underweight\n",
       "4   45    Male   190.0   100.0  31.2          Obese"
      ]
     },
     "execution_count": 7,
     "metadata": {},
     "output_type": "execute_result"
    }
   ],
   "source": [
    "df = pd.read_csv(\"Obesity_Classification.csv\")\n",
    "\n",
    "### masukan kode anda dibawah ###########\n",
    "\n",
    "df = df.drop(columns=[\"ID\", \"Child\"])\n",
    "#########################################\n",
    "\n",
    "df.head()"
   ]
  },
  {
   "cell_type": "markdown",
   "metadata": {},
   "source": [
    "### Soal 3"
   ]
  },
  {
   "cell_type": "markdown",
   "metadata": {},
   "source": [
    "Kamu sudah melihat datanya, lalu kamu melihat ada baris data / item yang tidak sesuai. Analisalah apa yang aneh dari data tersebut. Jika terdapat item yang mencurigakan maka kamu harus menampilkan / print urutan itemnya.\n",
    "\n",
    "*tambahan nilai : hapus item tersebut"
   ]
  },
  {
   "cell_type": "code",
   "execution_count": 37,
   "metadata": {},
   "outputs": [
    {
     "name": "stdout",
     "output_type": "stream",
     "text": [
      "Data BMI yang 0, seharusnya ada nilainya\n",
      "   Age Gender  Height  Weight  BMI       Category\n",
      "0   25   Male   175.0    80.0  0.0  Normal Weight\n",
      "Data Height yang hilang\n",
      "   Age  Gender  Height  Weight   BMI     Category\n",
      "3   40  Female     NaN    50.0  20.0  Underweight\n",
      "Data Weight yang hilang\n",
      "   Age Gender  Height  Weight   BMI     Category\n",
      "7   60  Emale   130.0     NaN  13.3  Underweight\n",
      "Format Gender yang berbeda\n",
      "   Age Gender  Height  Weight   BMI     Category\n",
      "7   60  Emale   130.0     NaN  13.3  Underweight\n"
     ]
    },
    {
     "data": {
      "text/html": [
       "<div>\n",
       "<style scoped>\n",
       "    .dataframe tbody tr th:only-of-type {\n",
       "        vertical-align: middle;\n",
       "    }\n",
       "\n",
       "    .dataframe tbody tr th {\n",
       "        vertical-align: top;\n",
       "    }\n",
       "\n",
       "    .dataframe thead th {\n",
       "        text-align: right;\n",
       "    }\n",
       "</style>\n",
       "<table border=\"1\" class=\"dataframe\">\n",
       "  <thead>\n",
       "    <tr style=\"text-align: right;\">\n",
       "      <th></th>\n",
       "      <th>Age</th>\n",
       "      <th>Gender</th>\n",
       "      <th>Height</th>\n",
       "      <th>Weight</th>\n",
       "      <th>BMI</th>\n",
       "      <th>Category</th>\n",
       "    </tr>\n",
       "  </thead>\n",
       "  <tbody>\n",
       "    <tr>\n",
       "      <th>1</th>\n",
       "      <td>30</td>\n",
       "      <td>Female</td>\n",
       "      <td>160.0</td>\n",
       "      <td>60.0</td>\n",
       "      <td>22.5</td>\n",
       "      <td>Normal Weight</td>\n",
       "    </tr>\n",
       "    <tr>\n",
       "      <th>2</th>\n",
       "      <td>35</td>\n",
       "      <td>Male</td>\n",
       "      <td>180.0</td>\n",
       "      <td>90.0</td>\n",
       "      <td>27.3</td>\n",
       "      <td>Overweight</td>\n",
       "    </tr>\n",
       "    <tr>\n",
       "      <th>4</th>\n",
       "      <td>45</td>\n",
       "      <td>Male</td>\n",
       "      <td>190.0</td>\n",
       "      <td>100.0</td>\n",
       "      <td>31.2</td>\n",
       "      <td>Obese</td>\n",
       "    </tr>\n",
       "    <tr>\n",
       "      <th>5</th>\n",
       "      <td>50</td>\n",
       "      <td>Female</td>\n",
       "      <td>140.0</td>\n",
       "      <td>40.0</td>\n",
       "      <td>16.7</td>\n",
       "      <td>Underweight</td>\n",
       "    </tr>\n",
       "    <tr>\n",
       "      <th>6</th>\n",
       "      <td>55</td>\n",
       "      <td>Male</td>\n",
       "      <td>200.0</td>\n",
       "      <td>110.0</td>\n",
       "      <td>34.2</td>\n",
       "      <td>Obese</td>\n",
       "    </tr>\n",
       "    <tr>\n",
       "      <th>8</th>\n",
       "      <td>65</td>\n",
       "      <td>Male</td>\n",
       "      <td>210.0</td>\n",
       "      <td>120.0</td>\n",
       "      <td>37.2</td>\n",
       "      <td>Obese</td>\n",
       "    </tr>\n",
       "    <tr>\n",
       "      <th>9</th>\n",
       "      <td>70</td>\n",
       "      <td>Female</td>\n",
       "      <td>120.0</td>\n",
       "      <td>20.0</td>\n",
       "      <td>10.0</td>\n",
       "      <td>Underweight</td>\n",
       "    </tr>\n",
       "    <tr>\n",
       "      <th>10</th>\n",
       "      <td>70</td>\n",
       "      <td>Female</td>\n",
       "      <td>120.0</td>\n",
       "      <td>20.0</td>\n",
       "      <td>10.0</td>\n",
       "      <td>Underweight</td>\n",
       "    </tr>\n",
       "  </tbody>\n",
       "</table>\n",
       "</div>"
      ],
      "text/plain": [
       "    Age  Gender  Height  Weight   BMI       Category\n",
       "1    30  Female   160.0    60.0  22.5  Normal Weight\n",
       "2    35    Male   180.0    90.0  27.3     Overweight\n",
       "4    45    Male   190.0   100.0  31.2          Obese\n",
       "5    50  Female   140.0    40.0  16.7    Underweight\n",
       "6    55    Male   200.0   110.0  34.2          Obese\n",
       "8    65    Male   210.0   120.0  37.2          Obese\n",
       "9    70  Female   120.0    20.0  10.0    Underweight\n",
       "10   70  Female   120.0    20.0  10.0    Underweight"
      ]
     },
     "execution_count": 37,
     "metadata": {},
     "output_type": "execute_result"
    }
   ],
   "source": [
    "\n",
    "### masukan kode anda dibawah ###########\n",
    "print(\"Data BMI yang 0, seharusnya ada nilainya\")\n",
    "print(df[df[\"BMI\"] == 0])\n",
    "print(\"Data Height yang hilang\")\n",
    "print(df[df[\"Height\"].isnull()])\n",
    "print(\"Data Weight yang hilang\")\n",
    "print(df[df[\"Weight\"].isnull()])\n",
    "print(\"Format Gender yang berbeda\")\n",
    "print(df[(df[\"Gender\"] != \"Male\") & (df[\"Gender\"] != \"Female\")])\n",
    "\n",
    "df = df.drop(index=[0, 3, 7])\n",
    "#########################################\n",
    "\n",
    "df"
   ]
  },
  {
   "cell_type": "markdown",
   "metadata": {},
   "source": [
    "### Soal 4"
   ]
  },
  {
   "cell_type": "markdown",
   "metadata": {},
   "source": [
    "Ayo semangat sedikit lagi kamu selesai ;)"
   ]
  },
  {
   "cell_type": "markdown",
   "metadata": {},
   "source": [
    "Sekarang buatlah kode untuk membuat model datanya. Pertama kamu import semua library nya, lalu kamu tentukan mana x nya dan mana y nya. lalu mulai proses fit atau melakukan training data nya. Setelah itu, kamu print untuk y prediksi mu dan y asli mu, lalu hitung berapa kali prediksimu benar.\n",
    "\n",
    "*Clue : untuk menghasilkan nilai prediksi maka buat nama_model.predict(x) lalu disimpan di sebuah variable"
   ]
  },
  {
   "cell_type": "code",
   "execution_count": 59,
   "metadata": {},
   "outputs": [
    {
     "name": "stdout",
     "output_type": "stream",
     "text": [
      "prediksi: \n",
      "['Obese' 'Obese']\n",
      "aslinya: \n",
      "2    Overweight\n",
      "8         Obese\n",
      "Name: Category, dtype: object\n",
      "jawaban benar 1\n",
      "jawaban salah 1\n"
     ]
    }
   ],
   "source": [
    "from sklearn.neighbors import KNeighborsClassifier\n",
    "\n",
    "### masukan kode anda dibawah ###########\n",
    "x = df.drop(columns=[\"Category\", \"Gender\"])\n",
    "y = df[\"Category\"]\n",
    "\n",
    "from sklearn.model_selection import train_test_split\n",
    "X_train, X_test, y_train, y_test = train_test_split(x, y, test_size=0.2, random_state=42)\n",
    "\n",
    "knn = KNeighborsClassifier(n_neighbors=5)\n",
    "\n",
    "knn.fit(X_train, y_train)\n",
    "\n",
    "y_pred = knn.predict(X_test)\n",
    "print(\"prediksi: \")\n",
    "print(y_pred)\n",
    "print(\"aslinya: \")\n",
    "print(y_test)\n",
    "\n",
    "print(\"jawaban benar\", (y_pred == y_test).sum())\n",
    "print(\"jawaban salah\", (~(y_pred == y_test)).sum())\n",
    "\n",
    "#########################################\n"
   ]
  }
 ],
 "metadata": {
  "kernelspec": {
   "display_name": "Python 3",
   "language": "python",
   "name": "python3"
  },
  "language_info": {
   "codemirror_mode": {
    "name": "ipython",
    "version": 3
   },
   "file_extension": ".py",
   "mimetype": "text/x-python",
   "name": "python",
   "nbconvert_exporter": "python",
   "pygments_lexer": "ipython3",
   "version": "3.9.6"
  }
 },
 "nbformat": 4,
 "nbformat_minor": 2
}
