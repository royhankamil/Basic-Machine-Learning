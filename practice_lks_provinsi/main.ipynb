{
 "cells": [
  {
   "cell_type": "code",
   "execution_count": 1,
   "metadata": {},
   "outputs": [
    {
     "data": {
      "text/plain": [
       "'b'"
      ]
     },
     "execution_count": 1,
     "metadata": {},
     "output_type": "execute_result"
    }
   ],
   "source": [
    "\n"
   ]
  },
  {
   "cell_type": "code",
   "execution_count": null,
   "metadata": {},
   "outputs": [],
   "source": [
    "ways_probabilities = {\"c4\" : {\"c13\" : 20, \"a1\" : 25, \"c7\" : 25},\n",
    "                      \"c13\" : {\"c4\" : 20, \"a1\" : 20, \"c12\" : 20},\n",
    "                      \"c12\" : {\"c13\" : 20, \"b2\" : 15 , \"c10\" : 20},\n",
    "                      \"c10\" : {\"c12\" : 20, \"c3\" : 15, \"b3\" : 10},\n",
    "                      \"b3\" : {\"c10\" : 10, \"c11\" : 25},\n",
    "                      \"c11\" : {\"b3\" : 25, \"c3\" : 15, \"c9\" : 15},\n",
    "                      \"c9\" : {\"c11\" : 15, \"c3\" : 25, \"b1\" : 15},\n",
    "                      \"b1\" : {\"c9\" : 15, \"c5\" : 15, \"c14\" : 15},\n",
    "                      \"c14\" : {\"b1\" : 15, \"c6\" : 20, \"c8\" : 25},\n",
    "                      \"c8\" : {\"c14\" : 25, \"c6\" : 15, \"c2\" : 25},\n",
    "                      \"c2\" : {\"c8\" : 25, \"c1\" : 25},\n",
    "                      \"c1\" : {\"c2\" : 25, \"c6\" : 25, \"a1\" : 20, \"c7\" : 20},\n",
    "                      \"c7\" : {\"c1\" : 20, \"a1\" : 25, \"c4\" : 25},\n",
    "                      \"b2\" : {\"a1\" : 10, \"c12\" : 15, \"c3\" : 10, \"c5\" : 15},\n",
    "                      \"c3\" : {\"c10\" : 15, \"b2\" : 10, \"c5\" : 25, \"c9\" : 25, \"c11\" : 15},\n",
    "                      \"c5\" : {\"c3\" : 25, \"b2\" : 15, \"c6\" : 10, \"b1\" : 15},\n",
    "                      \"c6\" : {\"c5\" : 10, \"a1\" : 25, \"c1\" : 25, \"c8\" : 15, \"c14\" : 20},\n",
    "                      \"a1\" : {\"c7\" : 25, \"c4\" : 25, \"c13\" : 20, \"b2\" : 10, \"c6\" : 25, \"c1\" : 20}\n",
    "                    }\n",
    "\n",
    "max_steps = 8\n",
    "\n",
    "# for i in range(max_steps):\n",
    "#     for j in range \n",
    "\n"
   ]
  },
  {
   "cell_type": "code",
   "execution_count": null,
   "metadata": {},
   "outputs": [],
   "source": []
  }
 ],
 "metadata": {
  "kernelspec": {
   "display_name": "Python 3",
   "language": "python",
   "name": "python3"
  },
  "language_info": {
   "codemirror_mode": {
    "name": "ipython",
    "version": 3
   },
   "file_extension": ".py",
   "mimetype": "text/x-python",
   "name": "python",
   "nbconvert_exporter": "python",
   "pygments_lexer": "ipython3",
   "version": "3.9.6"
  }
 },
 "nbformat": 4,
 "nbformat_minor": 2
}
