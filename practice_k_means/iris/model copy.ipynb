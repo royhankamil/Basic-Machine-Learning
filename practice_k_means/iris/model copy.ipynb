{
 "cells": [
  {
   "cell_type": "markdown",
   "metadata": {},
   "source": [
    "# Data Preparation"
   ]
  },
  {
   "cell_type": "markdown",
   "metadata": {},
   "source": [
    "Disini kita akan mengimport dataset ke dalam kode kita. Tidak hanya itu, dalam data preparation kita akan mempertimbangkan untuk menghapus kolom, menentukan kolom yang benar benar diperlukan dalam kasus ini. Begitu pula untuk cleaning data, seperti penanganan apakah terdapat data yang kosong, data yang berbeda atau keluar dari ukuran aslinya (outlier), dan data yang terduplikasi. Beberapa masalah pada data tersebut dapat membuat proses pembelajaran / training mesin kita menjadi terganggu dan hasilnya kurang akurat."
   ]
  },
  {
   "cell_type": "code",
   "execution_count": 1,
   "metadata": {},
   "outputs": [],
   "source": [
    "import pandas as pd\n",
    "import matplotlib.pyplot as plt\n",
    "import numpy as np\n",
    "import seaborn as sns"
   ]
  },
  {
   "cell_type": "code",
   "execution_count": 2,
   "metadata": {},
   "outputs": [
    {
     "data": {
      "text/html": [
       "<div>\n",
       "<style scoped>\n",
       "    .dataframe tbody tr th:only-of-type {\n",
       "        vertical-align: middle;\n",
       "    }\n",
       "\n",
       "    .dataframe tbody tr th {\n",
       "        vertical-align: top;\n",
       "    }\n",
       "\n",
       "    .dataframe thead th {\n",
       "        text-align: right;\n",
       "    }\n",
       "</style>\n",
       "<table border=\"1\" class=\"dataframe\">\n",
       "  <thead>\n",
       "    <tr style=\"text-align: right;\">\n",
       "      <th></th>\n",
       "      <th>Id</th>\n",
       "      <th>SepalLengthCm</th>\n",
       "      <th>SepalWidthCm</th>\n",
       "      <th>PetalLengthCm</th>\n",
       "      <th>PetalWidthCm</th>\n",
       "      <th>Species</th>\n",
       "    </tr>\n",
       "  </thead>\n",
       "  <tbody>\n",
       "    <tr>\n",
       "      <th>0</th>\n",
       "      <td>1</td>\n",
       "      <td>5.1</td>\n",
       "      <td>3.5</td>\n",
       "      <td>1.4</td>\n",
       "      <td>0.2</td>\n",
       "      <td>Iris-setosa</td>\n",
       "    </tr>\n",
       "    <tr>\n",
       "      <th>1</th>\n",
       "      <td>2</td>\n",
       "      <td>4.9</td>\n",
       "      <td>3.0</td>\n",
       "      <td>1.4</td>\n",
       "      <td>0.2</td>\n",
       "      <td>Iris-setosa</td>\n",
       "    </tr>\n",
       "    <tr>\n",
       "      <th>2</th>\n",
       "      <td>3</td>\n",
       "      <td>4.7</td>\n",
       "      <td>3.2</td>\n",
       "      <td>1.3</td>\n",
       "      <td>0.2</td>\n",
       "      <td>Iris-setosa</td>\n",
       "    </tr>\n",
       "    <tr>\n",
       "      <th>3</th>\n",
       "      <td>4</td>\n",
       "      <td>4.6</td>\n",
       "      <td>3.1</td>\n",
       "      <td>1.5</td>\n",
       "      <td>0.2</td>\n",
       "      <td>Iris-setosa</td>\n",
       "    </tr>\n",
       "    <tr>\n",
       "      <th>4</th>\n",
       "      <td>5</td>\n",
       "      <td>5.0</td>\n",
       "      <td>3.6</td>\n",
       "      <td>1.4</td>\n",
       "      <td>0.2</td>\n",
       "      <td>Iris-setosa</td>\n",
       "    </tr>\n",
       "  </tbody>\n",
       "</table>\n",
       "</div>"
      ],
      "text/plain": [
       "   Id  SepalLengthCm  SepalWidthCm  PetalLengthCm  PetalWidthCm      Species\n",
       "0   1            5.1           3.5            1.4           0.2  Iris-setosa\n",
       "1   2            4.9           3.0            1.4           0.2  Iris-setosa\n",
       "2   3            4.7           3.2            1.3           0.2  Iris-setosa\n",
       "3   4            4.6           3.1            1.5           0.2  Iris-setosa\n",
       "4   5            5.0           3.6            1.4           0.2  Iris-setosa"
      ]
     },
     "execution_count": 2,
     "metadata": {},
     "output_type": "execute_result"
    }
   ],
   "source": [
    "# mengakses file data csv\n",
    "df = pd.read_csv(\"Iris_wclass.csv\")\n",
    "\n",
    "# melihat sebagian data\n",
    "df.head() "
   ]
  },
  {
   "cell_type": "code",
   "execution_count": 3,
   "metadata": {},
   "outputs": [
    {
     "name": "stdout",
     "output_type": "stream",
     "text": [
      "<class 'pandas.core.frame.DataFrame'>\n",
      "RangeIndex: 150 entries, 0 to 149\n",
      "Data columns (total 6 columns):\n",
      " #   Column         Non-Null Count  Dtype  \n",
      "---  ------         --------------  -----  \n",
      " 0   Id             150 non-null    int64  \n",
      " 1   SepalLengthCm  150 non-null    float64\n",
      " 2   SepalWidthCm   150 non-null    float64\n",
      " 3   PetalLengthCm  150 non-null    float64\n",
      " 4   PetalWidthCm   150 non-null    float64\n",
      " 5   Species        150 non-null    object \n",
      "dtypes: float64(4), int64(1), object(1)\n",
      "memory usage: 7.2+ KB\n"
     ]
    }
   ],
   "source": [
    "# melihat informasi type data dan variable\n",
    "df.info()"
   ]
  },
  {
   "cell_type": "code",
   "execution_count": 4,
   "metadata": {},
   "outputs": [],
   "source": [
    "# menyiapkan variable sebelumnya agar bisa divisualisasikan ke depannya\n",
    "pure_data = df.copy()\n",
    "\n",
    "# menghilangkan atribut yang tidak dibutuhkan\n",
    "df.drop(columns=\"Id\", inplace=True)\n",
    "df.head() # mleihat data setelah diubah\n",
    "\n",
    "# menyimpan perubahan agar dapat ditampilkan\n",
    "selected_data = df.head()"
   ]
  },
  {
   "cell_type": "markdown",
   "metadata": {},
   "source": [
    "Untuk kebutuhan labeling maka perlu diketahui karakteristik setiap label misalnya rata rata dari setosa, virginica, versicolor"
   ]
  },
  {
   "cell_type": "code",
   "execution_count": 5,
   "metadata": {},
   "outputs": [
    {
     "data": {
      "text/plain": [
       "array(['Iris-setosa', 'Iris-versicolor', 'Iris-virginica'], dtype=object)"
      ]
     },
     "execution_count": 5,
     "metadata": {},
     "output_type": "execute_result"
    }
   ],
   "source": [
    "# untuk mengetahui isi class labelnya saja\n",
    "df.Species.unique()"
   ]
  },
  {
   "cell_type": "code",
   "execution_count": 10,
   "metadata": {},
   "outputs": [
    {
     "data": {
      "text/plain": [
       "SepalLengthCm    5.006\n",
       "SepalWidthCm     3.418\n",
       "PetalLengthCm    1.464\n",
       "PetalWidthCm     0.244\n",
       "dtype: float64"
      ]
     },
     "execution_count": 10,
     "metadata": {},
     "output_type": "execute_result"
    }
   ],
   "source": [
    "df[df[\"Species\"] == 'Iris-setosa'].drop(columns=\"Species\").mean()"
   ]
  },
  {
   "cell_type": "code",
   "execution_count": 11,
   "metadata": {},
   "outputs": [
    {
     "data": {
      "text/plain": [
       "SepalLengthCm    5.936\n",
       "SepalWidthCm     2.770\n",
       "PetalLengthCm    4.260\n",
       "PetalWidthCm     1.326\n",
       "dtype: float64"
      ]
     },
     "execution_count": 11,
     "metadata": {},
     "output_type": "execute_result"
    }
   ],
   "source": [
    "df[df[\"Species\"] == 'Iris-versicolor'].drop(columns=\"Species\").mean()"
   ]
  },
  {
   "cell_type": "code",
   "execution_count": 12,
   "metadata": {},
   "outputs": [
    {
     "data": {
      "text/plain": [
       "SepalLengthCm    6.588\n",
       "SepalWidthCm     2.974\n",
       "PetalLengthCm    5.552\n",
       "PetalWidthCm     2.026\n",
       "dtype: float64"
      ]
     },
     "execution_count": 12,
     "metadata": {},
     "output_type": "execute_result"
    }
   ],
   "source": [
    "df[df[\"Species\"] == 'Iris-virginica'].drop(columns=\"Species\").mean()"
   ]
  },
  {
   "cell_type": "markdown",
   "metadata": {},
   "source": [
    "Berdasarkan dari hasil analisa tentunya kita bisa lihat pada setiap category itu memiliki karakteristiknya masing masing dan memiliki ketegasannya. Ketika kita lihat dari ataukus\n",
    "- setosa, ukuran setal pendek dari yang lain, dan ukuran petal sangat kecil\n",
    "- versicolor, ukuran setal sedang dari yang lain, dan ukuran petal sedang\n",
    "- virginica, ukuran setal panjang dari yang lain, dan ukuran petal sangat besar\n",
    "\n",
    "dengan ini kita bisa melabeli clusternya nanti"
   ]
  },
  {
   "cell_type": "markdown",
   "metadata": {},
   "source": [
    "dikarenakan sudah tidak dibutuhkan lagi labelnya maka kita bisa membuangnya (karena algoritma ini clustering)"
   ]
  },
  {
   "cell_type": "code",
   "execution_count": 23,
   "metadata": {},
   "outputs": [],
   "source": [
    "df.drop(columns=\"Species\", inplace=True)"
   ]
  },
  {
   "cell_type": "markdown",
   "metadata": {},
   "source": [
    "kita coba melihat scatter antar variable. Disini saya memutuskan untuk memilih jumlah variable nya itu semua dikarenakan untuk memberikan karakteristik yang tegas dan jelas pada setiap cluster"
   ]
  },
  {
   "cell_type": "code",
   "execution_count": 42,
   "metadata": {},
   "outputs": [
    {
     "data": {
      "text/plain": [
       "<seaborn.axisgrid.PairGrid at 0x292ebb51cd0>"
      ]
     },
     "execution_count": 42,
     "metadata": {},
     "output_type": "execute_result"
    },
    {
     "data": {
      "image/png": "[encoded data removed]",
      "text/plain": [
       "<Figure size 1000x1000 with 20 Axes>"
      ]
     },
     "metadata": {},
     "output_type": "display_data"
    }
   ],
   "source": [
    "sns.pairplot(df)"
   ]
  },
  {
   "cell_type": "markdown",
   "metadata": {},
   "source": [
    "Lalu selanjutnya akan dilakukan pencarian data apakah terdapat outlier atau tidak dengan cara melihatnya dengan boxplot"
   ]
  },
  {
   "cell_type": "code",
   "execution_count": 44,
   "metadata": {},
   "outputs": [
    {
     "data": {
      "text/plain": [
       "<Axes: ylabel='SepalLengthCm'>"
      ]
     },
     "execution_count": 44,
     "metadata": {},
     "output_type": "execute_result"
    },
    {
     "data": {
      "image/png": "[encoded data removed]",
      "text/plain": [
       "<Figure size 640x480 with 1 Axes>"
      ]
     },
     "metadata": {},
     "output_type": "display_data"
    }
   ],
   "source": [
    "sns.boxplot(df[\"SepalLengthCm\"])"
   ]
  },
  {
   "cell_type": "code",
   "execution_count": 14,
   "metadata": {},
   "outputs": [
    {
     "data": {
      "text/plain": [
       "<Axes: ylabel='SepalWidthCm'>"
      ]
     },
     "execution_count": 14,
     "metadata": {},
     "output_type": "execute_result"
    },
    {
     "data": {
      "image/png": "[encoded data removed]",
      "text/plain": [
       "<Figure size 640x480 with 1 Axes>"
      ]
     },
     "metadata": {},
     "output_type": "display_data"
    }
   ],
   "source": [
    "sns.boxplot(df[\"SepalWidthCm\"])"
   ]
  },
  {
   "cell_type": "code",
   "execution_count": 45,
   "metadata": {},
   "outputs": [
    {
     "data": {
      "text/plain": [
       "<Axes: ylabel='PetalWidthCm'>"
      ]
     },
     "execution_count": 45,
     "metadata": {},
     "output_type": "execute_result"
    },
    {
     "data": {
      "image/png": "[encoded data removed]",
      "text/plain": [
       "<Figure size 640x480 with 1 Axes>"
      ]
     },
     "metadata": {},
     "output_type": "display_data"
    }
   ],
   "source": [
    "sns.boxplot(df[\"PetalWidthCm\"])"
   ]
  },
  {
   "cell_type": "code",
   "execution_count": 15,
   "metadata": {},
   "outputs": [
    {
     "data": {
      "text/plain": [
       "<Axes: ylabel='PetalLengthCm'>"
      ]
     },
     "execution_count": 15,
     "metadata": {},
     "output_type": "execute_result"
    },
    {
     "data": {
      "image/png": "[encoded data removed]",
      "text/plain": [
       "<Figure size 640x480 with 1 Axes>"
      ]
     },
     "metadata": {},
     "output_type": "display_data"
    }
   ],
   "source": [
    "sns.boxplot(df[\"PetalLengthCm\"])"
   ]
  },
  {
   "cell_type": "code",
   "execution_count": 19,
   "metadata": {},
   "outputs": [],
   "source": [
    "# artinya timpa dataframe yang didalamnya tidak ada outlier pada sepalwidth (outlier dibawah 2.5 dan lebih dari 4)\n",
    "df = df[~((df[\"SepalWidthCm\"] < 2.5) | (df[\"SepalWidthCm\"] > 4.0))]"
   ]
  },
  {
   "cell_type": "markdown",
   "metadata": {},
   "source": [
    "maka ketika dilihat lagi, outliernya sudah tidak ada"
   ]
  },
  {
   "cell_type": "code",
   "execution_count": 20,
   "metadata": {},
   "outputs": [
    {
     "data": {
      "text/plain": [
       "<Axes: ylabel='SepalWidthCm'>"
      ]
     },
     "execution_count": 20,
     "metadata": {},
     "output_type": "execute_result"
    },
    {
     "data": {
      "image/png": "[encoded data removed]",
      "text/plain": [
       "<Figure size 640x480 with 1 Axes>"
      ]
     },
     "metadata": {},
     "output_type": "display_data"
    }
   ],
   "source": [
    "sns.boxplot(df[\"SepalWidthCm\"])"
   ]
  },
  {
   "cell_type": "markdown",
   "metadata": {},
   "source": [
    "berhubungan ada satu outlier yang kita temukan yakni pada sepalwidth. Maka kita perlu menghapusnya karena sangat mengganggu training. Ciri outlier maka akan terdapat titik titik di bawah dan di atas box nya."
   ]
  },
  {
   "cell_type": "markdown",
   "metadata": {},
   "source": [
    "dalam proses preparation data juga diperlukan untuk melihat apakah ada data yang hilang nilainya"
   ]
  },
  {
   "cell_type": "code",
   "execution_count": 24,
   "metadata": {},
   "outputs": [
    {
     "data": {
      "text/plain": [
       "SepalLengthCm    0\n",
       "SepalWidthCm     0\n",
       "PetalLengthCm    0\n",
       "PetalWidthCm     0\n",
       "dtype: int64"
      ]
     },
     "execution_count": 24,
     "metadata": {},
     "output_type": "execute_result"
    }
   ],
   "source": [
    "# melihat apakah terdapat data yang kosong\n",
    "df.isna().sum()"
   ]
  },
  {
   "cell_type": "code",
   "execution_count": 25,
   "metadata": {},
   "outputs": [
    {
     "data": {
      "text/plain": [
       "SepalLengthCm    0\n",
       "SepalWidthCm     0\n",
       "PetalLengthCm    0\n",
       "PetalWidthCm     0\n",
       "dtype: int64"
      ]
     },
     "execution_count": 25,
     "metadata": {},
     "output_type": "execute_result"
    }
   ],
   "source": [
    "# melihat apakah ada data kosong\n",
    "df.isnull().sum()"
   ]
  },
  {
   "cell_type": "markdown",
   "metadata": {},
   "source": [
    "perlu dipertimbangkan juga untuk melihat apakah ada data yang terduplikasi atau tidak"
   ]
  },
  {
   "cell_type": "code",
   "execution_count": 26,
   "metadata": {},
   "outputs": [
    {
     "data": {
      "text/html": [
       "<div>\n",
       "<style scoped>\n",
       "    .dataframe tbody tr th:only-of-type {\n",
       "        vertical-align: middle;\n",
       "    }\n",
       "\n",
       "    .dataframe tbody tr th {\n",
       "        vertical-align: top;\n",
       "    }\n",
       "\n",
       "    .dataframe thead th {\n",
       "        text-align: right;\n",
       "    }\n",
       "</style>\n",
       "<table border=\"1\" class=\"dataframe\">\n",
       "  <thead>\n",
       "    <tr style=\"text-align: right;\">\n",
       "      <th></th>\n",
       "      <th>SepalLengthCm</th>\n",
       "      <th>SepalWidthCm</th>\n",
       "      <th>PetalLengthCm</th>\n",
       "      <th>PetalWidthCm</th>\n",
       "    </tr>\n",
       "  </thead>\n",
       "  <tbody>\n",
       "    <tr>\n",
       "      <th>34</th>\n",
       "      <td>4.9</td>\n",
       "      <td>3.1</td>\n",
       "      <td>1.5</td>\n",
       "      <td>0.1</td>\n",
       "    </tr>\n",
       "    <tr>\n",
       "      <th>37</th>\n",
       "      <td>4.9</td>\n",
       "      <td>3.1</td>\n",
       "      <td>1.5</td>\n",
       "      <td>0.1</td>\n",
       "    </tr>\n",
       "    <tr>\n",
       "      <th>142</th>\n",
       "      <td>5.8</td>\n",
       "      <td>2.7</td>\n",
       "      <td>5.1</td>\n",
       "      <td>1.9</td>\n",
       "    </tr>\n",
       "  </tbody>\n",
       "</table>\n",
       "</div>"
      ],
      "text/plain": [
       "     SepalLengthCm  SepalWidthCm  PetalLengthCm  PetalWidthCm\n",
       "34             4.9           3.1            1.5           0.1\n",
       "37             4.9           3.1            1.5           0.1\n",
       "142            5.8           2.7            5.1           1.9"
      ]
     },
     "execution_count": 26,
     "metadata": {},
     "output_type": "execute_result"
    }
   ],
   "source": [
    "# mengecek duplikasi\n",
    "df[df.duplicated()]"
   ]
  },
  {
   "cell_type": "markdown",
   "metadata": {},
   "source": [
    "berhubungan ditemukan data terduplikasi maka kita perlu menanganinya dengan menghapus salah satu dari duplikasi tersebut"
   ]
  },
  {
   "cell_type": "code",
   "execution_count": 27,
   "metadata": {},
   "outputs": [],
   "source": [
    "df.drop([34, 142], inplace=True)"
   ]
  },
  {
   "cell_type": "code",
   "execution_count": 28,
   "metadata": {},
   "outputs": [
    {
     "data": {
      "text/html": [
       "<div>\n",
       "<style scoped>\n",
       "    .dataframe tbody tr th:only-of-type {\n",
       "        vertical-align: middle;\n",
       "    }\n",
       "\n",
       "    .dataframe tbody tr th {\n",
       "        vertical-align: top;\n",
       "    }\n",
       "\n",
       "    .dataframe thead th {\n",
       "        text-align: right;\n",
       "    }\n",
       "</style>\n",
       "<table border=\"1\" class=\"dataframe\">\n",
       "  <thead>\n",
       "    <tr style=\"text-align: right;\">\n",
       "      <th></th>\n",
       "      <th>SepalLengthCm</th>\n",
       "      <th>SepalWidthCm</th>\n",
       "      <th>PetalLengthCm</th>\n",
       "      <th>PetalWidthCm</th>\n",
       "    </tr>\n",
       "  </thead>\n",
       "  <tbody>\n",
       "    <tr>\n",
       "      <th>37</th>\n",
       "      <td>4.9</td>\n",
       "      <td>3.1</td>\n",
       "      <td>1.5</td>\n",
       "      <td>0.1</td>\n",
       "    </tr>\n",
       "  </tbody>\n",
       "</table>\n",
       "</div>"
      ],
      "text/plain": [
       "    SepalLengthCm  SepalWidthCm  PetalLengthCm  PetalWidthCm\n",
       "37            4.9           3.1            1.5           0.1"
      ]
     },
     "execution_count": 28,
     "metadata": {},
     "output_type": "execute_result"
    }
   ],
   "source": [
    "# melihat data yang terduplikasi\n",
    "df[df.duplicated()]"
   ]
  },
  {
   "cell_type": "markdown",
   "metadata": {},
   "source": [
    "# Data Preprocessing"
   ]
  },
  {
   "cell_type": "markdown",
   "metadata": {},
   "source": [
    "Dalam tahapan ini kita perlu menyiapkan agar data lebih mudah dipahami dan dimengerti oleh komputer. Selain itu, tujuan data preprocessing adalah membuat setiap variable dapat berkontribusi perhitungan yang sama dengan variable yang lain."
   ]
  },
  {
   "cell_type": "code",
   "execution_count": 29,
   "metadata": {},
   "outputs": [
    {
     "data": {
      "text/html": [
       "<div>\n",
       "<style scoped>\n",
       "    .dataframe tbody tr th:only-of-type {\n",
       "        vertical-align: middle;\n",
       "    }\n",
       "\n",
       "    .dataframe tbody tr th {\n",
       "        vertical-align: top;\n",
       "    }\n",
       "\n",
       "    .dataframe thead th {\n",
       "        text-align: right;\n",
       "    }\n",
       "</style>\n",
       "<table border=\"1\" class=\"dataframe\">\n",
       "  <thead>\n",
       "    <tr style=\"text-align: right;\">\n",
       "      <th></th>\n",
       "      <th>SepalLengthCm</th>\n",
       "      <th>SepalWidthCm</th>\n",
       "      <th>PetalLengthCm</th>\n",
       "      <th>PetalWidthCm</th>\n",
       "    </tr>\n",
       "  </thead>\n",
       "  <tbody>\n",
       "    <tr>\n",
       "      <th>0</th>\n",
       "      <td>0.222222</td>\n",
       "      <td>0.666667</td>\n",
       "      <td>0.067797</td>\n",
       "      <td>0.041667</td>\n",
       "    </tr>\n",
       "    <tr>\n",
       "      <th>1</th>\n",
       "      <td>0.166667</td>\n",
       "      <td>0.333333</td>\n",
       "      <td>0.067797</td>\n",
       "      <td>0.041667</td>\n",
       "    </tr>\n",
       "    <tr>\n",
       "      <th>2</th>\n",
       "      <td>0.111111</td>\n",
       "      <td>0.466667</td>\n",
       "      <td>0.050847</td>\n",
       "      <td>0.041667</td>\n",
       "    </tr>\n",
       "    <tr>\n",
       "      <th>3</th>\n",
       "      <td>0.083333</td>\n",
       "      <td>0.400000</td>\n",
       "      <td>0.084746</td>\n",
       "      <td>0.041667</td>\n",
       "    </tr>\n",
       "    <tr>\n",
       "      <th>4</th>\n",
       "      <td>0.194444</td>\n",
       "      <td>0.733333</td>\n",
       "      <td>0.067797</td>\n",
       "      <td>0.041667</td>\n",
       "    </tr>\n",
       "  </tbody>\n",
       "</table>\n",
       "</div>"
      ],
      "text/plain": [
       "   SepalLengthCm  SepalWidthCm  PetalLengthCm  PetalWidthCm\n",
       "0       0.222222      0.666667       0.067797      0.041667\n",
       "1       0.166667      0.333333       0.067797      0.041667\n",
       "2       0.111111      0.466667       0.050847      0.041667\n",
       "3       0.083333      0.400000       0.084746      0.041667\n",
       "4       0.194444      0.733333       0.067797      0.041667"
      ]
     },
     "execution_count": 29,
     "metadata": {},
     "output_type": "execute_result"
    }
   ],
   "source": [
    "# normalisasi data (mengubah value masing2 data menjadi 0-1)\n",
    "for col in df.columns:\n",
    "    df[col] = (df[col] - df[col].min()) / (df[col].max() - df[col].min())\n",
    "\n",
    "# menyimpan perubahan agar dapat digunakan\n",
    "normalize_data = df.head()\n",
    "\n",
    "df.head() # melihat data lagi"
   ]
  },
  {
   "cell_type": "markdown",
   "metadata": {},
   "source": [
    "melakukan pemisahan data train dan data test dengan tujuan untuk dapat mengujikan model dengan data test\n",
    "disini saya memutuskan untuk menggunakan data train 80% dikarenakan"
   ]
  },
  {
   "cell_type": "code",
   "execution_count": 30,
   "metadata": {},
   "outputs": [
    {
     "data": {
      "text/html": [
       "<div>\n",
       "<style scoped>\n",
       "    .dataframe tbody tr th:only-of-type {\n",
       "        vertical-align: middle;\n",
       "    }\n",
       "\n",
       "    .dataframe tbody tr th {\n",
       "        vertical-align: top;\n",
       "    }\n",
       "\n",
       "    .dataframe thead th {\n",
       "        text-align: right;\n",
       "    }\n",
       "</style>\n",
       "<table border=\"1\" class=\"dataframe\">\n",
       "  <thead>\n",
       "    <tr style=\"text-align: right;\">\n",
       "      <th></th>\n",
       "      <th>SepalLengthCm</th>\n",
       "      <th>SepalWidthCm</th>\n",
       "      <th>PetalLengthCm</th>\n",
       "      <th>PetalWidthCm</th>\n",
       "    </tr>\n",
       "  </thead>\n",
       "  <tbody>\n",
       "    <tr>\n",
       "      <th>143</th>\n",
       "      <td>0.694444</td>\n",
       "      <td>0.466667</td>\n",
       "      <td>0.830508</td>\n",
       "      <td>0.916667</td>\n",
       "    </tr>\n",
       "    <tr>\n",
       "      <th>76</th>\n",
       "      <td>0.694444</td>\n",
       "      <td>0.200000</td>\n",
       "      <td>0.644068</td>\n",
       "      <td>0.541667</td>\n",
       "    </tr>\n",
       "    <tr>\n",
       "      <th>118</th>\n",
       "      <td>0.944444</td>\n",
       "      <td>0.066667</td>\n",
       "      <td>1.000000</td>\n",
       "      <td>0.916667</td>\n",
       "    </tr>\n",
       "    <tr>\n",
       "      <th>20</th>\n",
       "      <td>0.305556</td>\n",
       "      <td>0.600000</td>\n",
       "      <td>0.118644</td>\n",
       "      <td>0.041667</td>\n",
       "    </tr>\n",
       "    <tr>\n",
       "      <th>47</th>\n",
       "      <td>0.083333</td>\n",
       "      <td>0.466667</td>\n",
       "      <td>0.067797</td>\n",
       "      <td>0.041667</td>\n",
       "    </tr>\n",
       "    <tr>\n",
       "      <th>...</th>\n",
       "      <td>...</td>\n",
       "      <td>...</td>\n",
       "      <td>...</td>\n",
       "      <td>...</td>\n",
       "    </tr>\n",
       "    <tr>\n",
       "      <th>66</th>\n",
       "      <td>0.361111</td>\n",
       "      <td>0.333333</td>\n",
       "      <td>0.593220</td>\n",
       "      <td>0.583333</td>\n",
       "    </tr>\n",
       "    <tr>\n",
       "      <th>88</th>\n",
       "      <td>0.361111</td>\n",
       "      <td>0.333333</td>\n",
       "      <td>0.525424</td>\n",
       "      <td>0.500000</td>\n",
       "    </tr>\n",
       "    <tr>\n",
       "      <th>36</th>\n",
       "      <td>0.333333</td>\n",
       "      <td>0.666667</td>\n",
       "      <td>0.050847</td>\n",
       "      <td>0.041667</td>\n",
       "    </tr>\n",
       "    <tr>\n",
       "      <th>144</th>\n",
       "      <td>0.666667</td>\n",
       "      <td>0.533333</td>\n",
       "      <td>0.796610</td>\n",
       "      <td>1.000000</td>\n",
       "    </tr>\n",
       "    <tr>\n",
       "      <th>69</th>\n",
       "      <td>0.361111</td>\n",
       "      <td>0.000000</td>\n",
       "      <td>0.491525</td>\n",
       "      <td>0.416667</td>\n",
       "    </tr>\n",
       "  </tbody>\n",
       "</table>\n",
       "<p>107 rows × 4 columns</p>\n",
       "</div>"
      ],
      "text/plain": [
       "     SepalLengthCm  SepalWidthCm  PetalLengthCm  PetalWidthCm\n",
       "143       0.694444      0.466667       0.830508      0.916667\n",
       "76        0.694444      0.200000       0.644068      0.541667\n",
       "118       0.944444      0.066667       1.000000      0.916667\n",
       "20        0.305556      0.600000       0.118644      0.041667\n",
       "47        0.083333      0.466667       0.067797      0.041667\n",
       "..             ...           ...            ...           ...\n",
       "66        0.361111      0.333333       0.593220      0.583333\n",
       "88        0.361111      0.333333       0.525424      0.500000\n",
       "36        0.333333      0.666667       0.050847      0.041667\n",
       "144       0.666667      0.533333       0.796610      1.000000\n",
       "69        0.361111      0.000000       0.491525      0.416667\n",
       "\n",
       "[107 rows x 4 columns]"
      ]
     },
     "execution_count": 30,
     "metadata": {},
     "output_type": "execute_result"
    }
   ],
   "source": [
    "# untuk memisahkan data test dan data train\n",
    "def Train_test_split(x, random_seed=None, test_size=0.7):\n",
    "    # bisa dilakukan random dengan seed\n",
    "    if random_seed:\n",
    "        np.random.seed(random_seed)\n",
    "\n",
    "    test_size = int(test_size * x.shape[0]) # membuat ukurannya sesuai dg persentase dataset\n",
    "    indices = np.random.permutation(x.shape[0]) # membuat numpy yang random\n",
    "    train_indices, test_indices = indices[:test_size], indices[test_size:] # membagi menjadi train dan test\n",
    "    return x.iloc[train_indices], x.iloc[test_indices] # mengembalikan data train dan data test\n",
    "\n",
    "data_train, data_test = Train_test_split(df, 42, 0.8)\n",
    "data_train"
   ]
  },
  {
   "cell_type": "markdown",
   "metadata": {},
   "source": [
    "# Data Training"
   ]
  },
  {
   "cell_type": "markdown",
   "metadata": {},
   "source": [
    "pada tahapan data training ini, data sudah siap untuk diolah. Dalam proses ini mesin akan memahami data dan berdasarkan algoritma yang dibuat. Pada tahapan ini mesin akan mencoba memisahkan data berdasarkan pola kedekatan atribut sehingga dapat membuat grup / cluster. Setiap cluster itu memiliki karakteristik yang berbeda beda dan unik."
   ]
  },
  {
   "cell_type": "code",
   "execution_count": 31,
   "metadata": {},
   "outputs": [],
   "source": [
    "# membuat kelas / template untuk kmeans\n",
    "class Kmeans():\n",
    "    def __init__(self, n_cluster=2, max_iteration=100):\n",
    "        # jumlah kluster\n",
    "        self.n_cluster = n_cluster \n",
    "        # maksimal iterasi pada training\n",
    "        self.max_iteration = max_iteration \n",
    "        # pusat kluster\n",
    "        self.centroid = None \n",
    "        # untuk hasil label cluster\n",
    "        self.label = None   \n",
    "        # untuk perhitungan error wcss\n",
    "        self.inertia = 0 \n",
    "        # untuk melakukan prediksi dengan label\n",
    "        self.labels = []\n",
    "\n",
    "    def fit(self, x):\n",
    "        # mencari pusat cluster secara random\n",
    "        self.centroid = np.random.uniform(np.amin(x, axis=0), np.amax(x, axis=0), size=(self.n_cluster, x.shape[1]))\n",
    "\n",
    "        # melakukan perulangan dan iterasi\n",
    "        for iteration in range(self.max_iteration):\n",
    "            # mereset kembali isi label\n",
    "            self.label = []\n",
    "            # mereset jarak cluster terdekat\n",
    "            distances_cluster = []\n",
    "\n",
    "            # menghitung jarak pada setiap item\n",
    "            for item in x:\n",
    "                # menghitung jarak centroid dengan setiap item\n",
    "                distance = np.sqrt(np.sum((item - self.centroid)**2, axis=1))\n",
    "                distances_cluster.append(distance.min()) # menyimpan untuk menyimpan jarak terkecil\n",
    "                cluster = np.argmin(distance) # mencari label cluster\n",
    "                self.label.append(cluster)\n",
    "            \n",
    "            # menyiapkan array untuk memisahkan grup\n",
    "            groups = []\n",
    "\n",
    "            # merubahnya ke matriks numpy agar bisa diperhitungkan \n",
    "            distances_cluster = np.array(distances_cluster)\n",
    "            self.label = np.array(self.label)\n",
    "\n",
    "            # melakukan pemisahan antar cluster dengan menyimpan banyak baris yang beda\n",
    "            for i in range(self.n_cluster):\n",
    "                groups.append(np.argwhere(self.label == i))\n",
    "\n",
    "            new_centroid = []\n",
    "            sum_distance = []\n",
    "\n",
    "            # untuk setiap group / cluster akan dilakukan pengecekan \n",
    "            for i, indices in enumerate(groups):\n",
    "                if len(indices) == 0: # jika group sudah tak punya member gunakan centroid sebelumny\n",
    "                    new_centroid.append(self.centroid[i]) \n",
    "                else:\n",
    "                    # menghitung jarak error\n",
    "                    sum_distance.append(np.sum(distances_cluster)**2)\n",
    "                    # centroid akan berubah sesuai dengan rata rata data\n",
    "                    new_centroid.append(np.mean(x[indices], axis=0)[0])\n",
    "            \n",
    "            # melihat rata rata error\n",
    "            self.inertia = np.mean(sum_distance)\n",
    "\n",
    "            # jika perubahan centroid antara iterasi ini dengan iterasi seblumnya sudah \n",
    "            # tidak banyak berubah maka hentikan\n",
    "            if np.max(np.abs(np.array(new_centroid) - self.centroid)) < 0.0001:\n",
    "                break\n",
    "            else:\n",
    "                # jika tidak maka update centroid baru\n",
    "                self.centroid = np.array(new_centroid)\n",
    "\n",
    "    def predict(self, x ):\n",
    "        if not self.labels: # jika model masih belum dilabeli\n",
    "            raise \"model still not labeled\" # akan memunculkan error\n",
    "\n",
    "        x = np.array(x) # agar dapat dilakukan proses matematika\n",
    "        # menghitung jarak centroid dengan setiap item\n",
    "        distance = np.sqrt(np.sum((x - self.centroid)**2))\n",
    "        cluster =  np.argmin(distance) # menghitung label cluster\n",
    "        return self.labels[cluster]\n",
    "\n",
    "    def create_label(self, label): # digunakan untuk melabeli model jika sudah diketahui karekteristiknya\n",
    "        self.labels = label\n"
   ]
  },
  {
   "cell_type": "markdown",
   "metadata": {},
   "source": [
    "# Evaluasi"
   ]
  },
  {
   "cell_type": "markdown",
   "metadata": {},
   "source": [
    "dalam tahapan ini kita akan mencari tau jumlah k yang optimal dengan menggunakan elbow method analisis, kita mampu menemukan jumlah k yang baik. Metode ini mencari penurunan paling kecil dan selisih nya besar dari k yang sebelumnya."
   ]
  },
  {
   "cell_type": "code",
   "execution_count": 38,
   "metadata": {},
   "outputs": [],
   "source": [
    "# menyiapkan wcss yang dapat disimpan\n",
    "wcss = []\n",
    "\n",
    "# akan mencoba nilai k mulai dari 1-10 dan disimpan di list\n",
    "for k in range(1, 11):\n",
    "    kmean = Kmeans(n_cluster=k)\n",
    "    kmean.fit(data_train.to_numpy())\n",
    "    wcss.append(kmean.inertia)"
   ]
  },
  {
   "cell_type": "code",
   "execution_count": 39,
   "metadata": {},
   "outputs": [
    {
     "data": {
      "text/plain": [
       "Text(0, 0.5, 'wcss')"
      ]
     },
     "execution_count": 39,
     "metadata": {},
     "output_type": "execute_result"
    },
    {
     "data": {
      "image/png": "[encoded data removed]",
      "text/plain": [
       "<Figure size 640x480 with 1 Axes>"
      ]
     },
     "metadata": {},
     "output_type": "display_data"
    }
   ],
   "source": [
    "# menampilkan grafik elbow agar dapat menemukan jumlah k yang baik\n",
    "plt.plot(np.arange(1, 11), wcss, marker=\"o\")\n",
    "plt.xlabel(\"amount k\")\n",
    "plt.ylabel(\"wcss\")"
   ]
  },
  {
   "cell_type": "markdown",
   "metadata": {},
   "source": [
    "dengan melihat dari elbow di atas kita dapat menentukan jumlah k yang optimal adalah pada jumlah k = 3 karena penurunannya sudah tidak signifikat ketika k=4"
   ]
  },
  {
   "cell_type": "code",
   "execution_count": 40,
   "metadata": {},
   "outputs": [],
   "source": [
    "# menentukan jumlah k dan mentraining model\n",
    "model = Kmeans(n_cluster=3)\n",
    "model.fit(data_train.to_numpy())"
   ]
  },
  {
   "cell_type": "code",
   "execution_count": 41,
   "metadata": {},
   "outputs": [
    {
     "data": {
      "text/plain": [
       "array([[0.46568627, 0.19215686, 0.56929212, 0.52696078],\n",
       "       [0.67283951, 0.37592593, 0.76365348, 0.79282407],\n",
       "       [0.19744745, 0.5963964 , 0.08153917, 0.06306306]])"
      ]
     },
     "execution_count": 41,
     "metadata": {},
     "output_type": "execute_result"
    }
   ],
   "source": [
    "# melihat centroid atau pusat cluster yang ada\n",
    "model.centroid"
   ]
  },
  {
   "cell_type": "markdown",
   "metadata": {},
   "source": [
    "Lalu kita analisis lagi karakteristik pada setiap cluster dan ternyata memiliki karakteristik yang tegas dari masing masing klaster dan berikut karakteristiknya\n",
    "- cluster 1 : ukuran setal sedang dari yang lain, dan ukuran sedang\n",
    "- cluster 2 : ukuran setal panjang dari yang lain, dan ukuran besar\n",
    "- cluster 1 : ukuran setal pendek dari yang lain, dan ukuran kecil\n",
    "\n",
    "dengan begitu kita mengetahui setiap label yang mirip dengan katarestik species yg sebelumnya\n",
    "- cluster 1 mirip dengan versicolor (ukuran sedang)\n",
    "- cluster 2 mirip dengan virginica (ukuran besar)\n",
    "- cluster 3 mirip dengan setosa (ukuran kecil)\n"
   ]
  },
  {
   "cell_type": "code",
   "execution_count": 43,
   "metadata": {},
   "outputs": [],
   "source": [
    "model.create_label([\"iris-versicolor\", \"iris-virginica\", \"iris-setosa\"])"
   ]
  },
  {
   "cell_type": "markdown",
   "metadata": {},
   "source": [
    "lalu kita akan mencoba berdasarkan data test yang kita punya untuk memprediksi"
   ]
  },
  {
   "cell_type": "code",
   "execution_count": 45,
   "metadata": {},
   "outputs": [
    {
     "data": {
      "text/plain": [
       "['iris-versicolor',\n",
       " 'iris-versicolor',\n",
       " 'iris-versicolor',\n",
       " 'iris-versicolor',\n",
       " 'iris-versicolor',\n",
       " 'iris-versicolor',\n",
       " 'iris-versicolor',\n",
       " 'iris-versicolor',\n",
       " 'iris-versicolor',\n",
       " 'iris-versicolor',\n",
       " 'iris-versicolor',\n",
       " 'iris-versicolor',\n",
       " 'iris-versicolor',\n",
       " 'iris-versicolor',\n",
       " 'iris-versicolor',\n",
       " 'iris-versicolor',\n",
       " 'iris-versicolor',\n",
       " 'iris-versicolor',\n",
       " 'iris-versicolor',\n",
       " 'iris-versicolor',\n",
       " 'iris-versicolor',\n",
       " 'iris-versicolor',\n",
       " 'iris-versicolor',\n",
       " 'iris-versicolor',\n",
       " 'iris-versicolor',\n",
       " 'iris-versicolor',\n",
       " 'iris-versicolor']"
      ]
     },
     "execution_count": 45,
     "metadata": {},
     "output_type": "execute_result"
    }
   ],
   "source": [
    "predict = []\n",
    "\n",
    "for i in range(data_test.shape[0]):\n",
    "    predict.append(model.predict(data_test.iloc[i]))\n",
    "\n",
    "predict"
   ]
  },
  {
   "cell_type": "markdown",
   "metadata": {},
   "source": [
    "kami memutuskan untuk tidak membuat standard akurasi, f1 score, dll dikarenakan ini menggunakan algoritma clustering yang mana tidak dapat diketahui labelnya tetapi kami bisa menyimpulkan bahwa setiap cluster memiliki karakteristiknya masing masing dengan spesifikasi sebagai berikut:\n",
    "- cluster 1 berwujud ukurannya sedang\n",
    "- cluster 2 berwujud ukurannya besar\n",
    "- cluster 3 berwujud ukurannya kecil"
   ]
  },
  {
   "cell_type": "code",
   "execution_count": 49,
   "metadata": {},
   "outputs": [
    {
     "data": {
      "text/plain": [
       "array([1, 0, 1, 2, 2, 1, 2, 1, 1, 1, 2, 2, 2, 1, 1, 2, 0, 2, 0, 1, 0, 2,\n",
       "       2, 2, 2, 1, 1, 2, 0, 1, 1, 1, 2, 2, 1, 0, 2, 0, 1, 1, 2, 0, 0, 2,\n",
       "       0, 0, 1, 2, 0, 0, 2, 2, 0, 2, 0, 2, 1, 0, 1, 0, 2, 0, 0, 2, 0, 2,\n",
       "       2, 1, 2, 2, 0, 0, 0, 1, 2, 2, 1, 2, 2, 2, 0, 1, 2, 1, 1, 0, 0, 1,\n",
       "       1, 1, 1, 0, 1, 0, 0, 1, 2, 0, 1, 0, 1, 1, 0, 0, 2, 1, 0],\n",
       "      dtype=int64)"
      ]
     },
     "execution_count": 49,
     "metadata": {},
     "output_type": "execute_result"
    }
   ],
   "source": [
    "model.label"
   ]
  },
  {
   "cell_type": "code",
   "execution_count": 50,
   "metadata": {},
   "outputs": [],
   "source": [
    "\n",
    "# damn aku lupa buat nge scatternya yang pasti pake pairplot kemarin\n",
    "# sns.pairplot(data_train, hue=[(model.label for i in range(4)) for j in range(4)])"
   ]
  },
  {
   "cell_type": "code",
   "execution_count": 51,
   "metadata": {},
   "outputs": [
    {
     "data": {
      "text/plain": [
       "SepalLengthCm    0.777778\n",
       "SepalWidthCm     0.333333\n",
       "PetalLengthCm    0.830508\n",
       "PetalWidthCm     0.833333\n",
       "Name: 102, dtype: float64"
      ]
     },
     "execution_count": 51,
     "metadata": {},
     "output_type": "execute_result"
    }
   ],
   "source": [
    "df.iloc[88]"
   ]
  },
  {
   "cell_type": "markdown",
   "metadata": {},
   "source": [
    "untuk mengetahui apakah model sudah dapat diprediksi atau belum bisa"
   ]
  },
  {
   "cell_type": "code",
   "execution_count": 52,
   "metadata": {},
   "outputs": [
    {
     "data": {
      "text/plain": [
       "'iris-versicolor'"
      ]
     },
     "execution_count": 52,
     "metadata": {},
     "output_type": "execute_result"
    }
   ],
   "source": [
    "model.predict([0.777778, 0.33333, 0.830508, 0.83333])"
   ]
  },
  {
   "cell_type": "code",
   "execution_count": null,
   "metadata": {},
   "outputs": [],
   "source": []
  },
  {
   "cell_type": "markdown",
   "metadata": {},
   "source": []
  }
 ],
 "metadata": {
  "kernelspec": {
   "display_name": "Python 3",
   "language": "python",
   "name": "python3"
  },
  "language_info": {
   "codemirror_mode": {
    "name": "ipython",
    "version": 3
   },
   "file_extension": ".py",
   "mimetype": "text/x-python",
   "name": "python",
   "nbconvert_exporter": "python",
   "pygments_lexer": "ipython3",
   "version": "3.9.6"
  }
 },
 "nbformat": 4,
 "nbformat_minor": 2
}
