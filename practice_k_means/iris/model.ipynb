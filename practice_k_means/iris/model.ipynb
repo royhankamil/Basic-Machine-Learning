{
 "cells": [
  {
   "cell_type": "markdown",
   "metadata": {},
   "source": [
    "# Data Preparation"
   ]
  },
  {
   "cell_type": "markdown",
   "metadata": {},
   "source": [
    "Disini kita akan mengimport dataset ke dalam kode kita. Tidak hanya itu, dalam data preparation kita akan mempertimbangkan untuk menghapus kolom, menentukan kolom yang benar benar diperlukan dalam kasus ini. Begitu pula untuk cleaning data, seperti penanganan apakah terdapat data yang kosong, data yang berbeda atau keluar dari ukuran aslinya (outlier), dan data yang terduplikasi. Beberapa masalah pada data tersebut dapat membuat proses pembelajaran / training mesin kita menjadi terganggu dan hasilnya kurang akurat."
   ]
  },
  {
   "cell_type": "code",
   "execution_count": 40,
   "metadata": {},
   "outputs": [],
   "source": [
    "import pandas as pd\n",
    "import matplotlib.pyplot as plt\n",
    "import numpy as np\n",
    "import seaborn as sns"
   ]
  },
  {
   "cell_type": "code",
   "execution_count": 41,
   "metadata": {},
   "outputs": [
    {
     "data": {
      "text/html": [
       "<div>\n",
       "<style scoped>\n",
       "    .dataframe tbody tr th:only-of-type {\n",
       "        vertical-align: middle;\n",
       "    }\n",
       "\n",
       "    .dataframe tbody tr th {\n",
       "        vertical-align: top;\n",
       "    }\n",
       "\n",
       "    .dataframe thead th {\n",
       "        text-align: right;\n",
       "    }\n",
       "</style>\n",
       "<table border=\"1\" class=\"dataframe\">\n",
       "  <thead>\n",
       "    <tr style=\"text-align: right;\">\n",
       "      <th></th>\n",
       "      <th>Id</th>\n",
       "      <th>SepalLengthCm</th>\n",
       "      <th>SepalWidthCm</th>\n",
       "      <th>PetalLengthCm</th>\n",
       "      <th>PetalWidthCm</th>\n",
       "    </tr>\n",
       "  </thead>\n",
       "  <tbody>\n",
       "    <tr>\n",
       "      <th>0</th>\n",
       "      <td>1</td>\n",
       "      <td>5.1</td>\n",
       "      <td>3.5</td>\n",
       "      <td>1.4</td>\n",
       "      <td>0.2</td>\n",
       "    </tr>\n",
       "    <tr>\n",
       "      <th>1</th>\n",
       "      <td>2</td>\n",
       "      <td>4.9</td>\n",
       "      <td>3.0</td>\n",
       "      <td>1.4</td>\n",
       "      <td>0.2</td>\n",
       "    </tr>\n",
       "    <tr>\n",
       "      <th>2</th>\n",
       "      <td>3</td>\n",
       "      <td>4.7</td>\n",
       "      <td>3.2</td>\n",
       "      <td>1.3</td>\n",
       "      <td>0.2</td>\n",
       "    </tr>\n",
       "    <tr>\n",
       "      <th>3</th>\n",
       "      <td>4</td>\n",
       "      <td>4.6</td>\n",
       "      <td>3.1</td>\n",
       "      <td>1.5</td>\n",
       "      <td>0.2</td>\n",
       "    </tr>\n",
       "    <tr>\n",
       "      <th>4</th>\n",
       "      <td>5</td>\n",
       "      <td>5.0</td>\n",
       "      <td>3.6</td>\n",
       "      <td>1.4</td>\n",
       "      <td>0.2</td>\n",
       "    </tr>\n",
       "  </tbody>\n",
       "</table>\n",
       "</div>"
      ],
      "text/plain": [
       "   Id  SepalLengthCm  SepalWidthCm  PetalLengthCm  PetalWidthCm\n",
       "0   1            5.1           3.5            1.4           0.2\n",
       "1   2            4.9           3.0            1.4           0.2\n",
       "2   3            4.7           3.2            1.3           0.2\n",
       "3   4            4.6           3.1            1.5           0.2\n",
       "4   5            5.0           3.6            1.4           0.2"
      ]
     },
     "execution_count": 41,
     "metadata": {},
     "output_type": "execute_result"
    }
   ],
   "source": [
    "# mengakses file data csv\n",
    "df = pd.read_csv(\"iris.csv\")\n",
    "\n",
    "# melihat sebagian data\n",
    "df.head() "
   ]
  },
  {
   "cell_type": "code",
   "execution_count": 42,
   "metadata": {},
   "outputs": [
    {
     "name": "stdout",
     "output_type": "stream",
     "text": [
      "<class 'pandas.core.frame.DataFrame'>\n",
      "RangeIndex: 150 entries, 0 to 149\n",
      "Data columns (total 5 columns):\n",
      " #   Column         Non-Null Count  Dtype  \n",
      "---  ------         --------------  -----  \n",
      " 0   Id             150 non-null    int64  \n",
      " 1   SepalLengthCm  150 non-null    float64\n",
      " 2   SepalWidthCm   150 non-null    float64\n",
      " 3   PetalLengthCm  150 non-null    float64\n",
      " 4   PetalWidthCm   150 non-null    float64\n",
      "dtypes: float64(4), int64(1)\n",
      "memory usage: 6.0 KB\n"
     ]
    }
   ],
   "source": [
    "# melihat informasi type data dan variable\n",
    "df.info()"
   ]
  },
  {
   "cell_type": "code",
   "execution_count": 43,
   "metadata": {},
   "outputs": [],
   "source": [
    "# menyiapkan variable sebelumnya agar bisa divisualisasikan ke depannya\n",
    "pure_data = df.copy()\n",
    "\n",
    "# menghilangkan atribut yang tidak dibutuhkan\n",
    "df.drop(columns=[\"Id\", \"SepalWidthCm\", \"PetalLengthCm\"], inplace=True)\n",
    "df.head() # mleihat data setelah diubah\n",
    "\n",
    "# menyimpan perubahan agar dapat ditampilkan\n",
    "selected_data = df.head()"
   ]
  },
  {
   "cell_type": "markdown",
   "metadata": {},
   "source": [
    "Lalu selanjutnya akan dilakukan pencarian data apakah terdapat outlier atau tidak dengan cara melihatnya dengan boxplot"
   ]
  },
  {
   "cell_type": "code",
   "execution_count": 44,
   "metadata": {},
   "outputs": [
    {
     "data": {
      "text/plain": [
       "<Axes: ylabel='SepalLengthCm'>"
      ]
     },
     "execution_count": 44,
     "metadata": {},
     "output_type": "execute_result"
    },
    {
     "data": {
      "image/png": "[encoded data removed]",
      "text/plain": [
       "<Figure size 640x480 with 1 Axes>"
      ]
     },
     "metadata": {},
     "output_type": "display_data"
    }
   ],
   "source": [
    "sns.boxplot(df[\"SepalLengthCm\"])"
   ]
  },
  {
   "cell_type": "code",
   "execution_count": 45,
   "metadata": {},
   "outputs": [
    {
     "data": {
      "text/plain": [
       "<Axes: ylabel='PetalWidthCm'>"
      ]
     },
     "execution_count": 45,
     "metadata": {},
     "output_type": "execute_result"
    },
    {
     "data": {
      "image/png": "[encoded data removed]",
      "text/plain": [
       "<Figure size 640x480 with 1 Axes>"
      ]
     },
     "metadata": {},
     "output_type": "display_data"
    }
   ],
   "source": [
    "sns.boxplot(df[\"PetalWidthCm\"])"
   ]
  },
  {
   "cell_type": "markdown",
   "metadata": {},
   "source": [
    "berhubungan dalam data tidak terdapat outlier maka tidak ada yang perlu dihapus. Ciri outlier maka akan terdapat titik titik di bawah dan di atas box nya."
   ]
  },
  {
   "cell_type": "markdown",
   "metadata": {},
   "source": [
    "dalam proses preparation data juga diperlukan untuk melihat apakah ada data yang hilang nilainya"
   ]
  },
  {
   "cell_type": "code",
   "execution_count": 46,
   "metadata": {},
   "outputs": [
    {
     "data": {
      "text/plain": [
       "SepalLengthCm    0\n",
       "PetalWidthCm     0\n",
       "dtype: int64"
      ]
     },
     "execution_count": 46,
     "metadata": {},
     "output_type": "execute_result"
    }
   ],
   "source": [
    "# melihat apakah terdapat data yang kosong\n",
    "df.isna().sum()"
   ]
  },
  {
   "cell_type": "code",
   "execution_count": 47,
   "metadata": {},
   "outputs": [
    {
     "data": {
      "text/plain": [
       "SepalLengthCm    0\n",
       "PetalWidthCm     0\n",
       "dtype: int64"
      ]
     },
     "execution_count": 47,
     "metadata": {},
     "output_type": "execute_result"
    }
   ],
   "source": [
    "# melihat apakah ada data kosong\n",
    "df.isnull().sum()"
   ]
  },
  {
   "cell_type": "markdown",
   "metadata": {},
   "source": [
    "perlu dipertimbangkan juga untuk melihat apakah ada data yang terduplikasi atau tidak"
   ]
  },
  {
   "cell_type": "code",
   "execution_count": 48,
   "metadata": {},
   "outputs": [
    {
     "data": {
      "text/html": [
       "<div>\n",
       "<style scoped>\n",
       "    .dataframe tbody tr th:only-of-type {\n",
       "        vertical-align: middle;\n",
       "    }\n",
       "\n",
       "    .dataframe tbody tr th {\n",
       "        vertical-align: top;\n",
       "    }\n",
       "\n",
       "    .dataframe thead th {\n",
       "        text-align: right;\n",
       "    }\n",
       "</style>\n",
       "<table border=\"1\" class=\"dataframe\">\n",
       "  <thead>\n",
       "    <tr style=\"text-align: right;\">\n",
       "      <th></th>\n",
       "      <th>SepalLengthCm</th>\n",
       "      <th>PetalWidthCm</th>\n",
       "    </tr>\n",
       "  </thead>\n",
       "  <tbody>\n",
       "    <tr>\n",
       "      <th>7</th>\n",
       "      <td>5.0</td>\n",
       "      <td>0.2</td>\n",
       "    </tr>\n",
       "    <tr>\n",
       "      <th>16</th>\n",
       "      <td>5.4</td>\n",
       "      <td>0.4</td>\n",
       "    </tr>\n",
       "    <tr>\n",
       "      <th>19</th>\n",
       "      <td>5.1</td>\n",
       "      <td>0.3</td>\n",
       "    </tr>\n",
       "    <tr>\n",
       "      <th>20</th>\n",
       "      <td>5.4</td>\n",
       "      <td>0.2</td>\n",
       "    </tr>\n",
       "    <tr>\n",
       "      <th>22</th>\n",
       "      <td>4.6</td>\n",
       "      <td>0.2</td>\n",
       "    </tr>\n",
       "    <tr>\n",
       "      <th>24</th>\n",
       "      <td>4.8</td>\n",
       "      <td>0.2</td>\n",
       "    </tr>\n",
       "    <tr>\n",
       "      <th>25</th>\n",
       "      <td>5.0</td>\n",
       "      <td>0.2</td>\n",
       "    </tr>\n",
       "    <tr>\n",
       "      <th>28</th>\n",
       "      <td>5.2</td>\n",
       "      <td>0.2</td>\n",
       "    </tr>\n",
       "    <tr>\n",
       "      <th>29</th>\n",
       "      <td>4.7</td>\n",
       "      <td>0.2</td>\n",
       "    </tr>\n",
       "    <tr>\n",
       "      <th>30</th>\n",
       "      <td>4.8</td>\n",
       "      <td>0.2</td>\n",
       "    </tr>\n",
       "    <tr>\n",
       "      <th>31</th>\n",
       "      <td>5.4</td>\n",
       "      <td>0.4</td>\n",
       "    </tr>\n",
       "    <tr>\n",
       "      <th>34</th>\n",
       "      <td>4.9</td>\n",
       "      <td>0.1</td>\n",
       "    </tr>\n",
       "    <tr>\n",
       "      <th>35</th>\n",
       "      <td>5.0</td>\n",
       "      <td>0.2</td>\n",
       "    </tr>\n",
       "    <tr>\n",
       "      <th>36</th>\n",
       "      <td>5.5</td>\n",
       "      <td>0.2</td>\n",
       "    </tr>\n",
       "    <tr>\n",
       "      <th>37</th>\n",
       "      <td>4.9</td>\n",
       "      <td>0.1</td>\n",
       "    </tr>\n",
       "    <tr>\n",
       "      <th>38</th>\n",
       "      <td>4.4</td>\n",
       "      <td>0.2</td>\n",
       "    </tr>\n",
       "    <tr>\n",
       "      <th>39</th>\n",
       "      <td>5.1</td>\n",
       "      <td>0.2</td>\n",
       "    </tr>\n",
       "    <tr>\n",
       "      <th>42</th>\n",
       "      <td>4.4</td>\n",
       "      <td>0.2</td>\n",
       "    </tr>\n",
       "    <tr>\n",
       "      <th>44</th>\n",
       "      <td>5.1</td>\n",
       "      <td>0.4</td>\n",
       "    </tr>\n",
       "    <tr>\n",
       "      <th>46</th>\n",
       "      <td>5.1</td>\n",
       "      <td>0.2</td>\n",
       "    </tr>\n",
       "    <tr>\n",
       "      <th>47</th>\n",
       "      <td>4.6</td>\n",
       "      <td>0.2</td>\n",
       "    </tr>\n",
       "    <tr>\n",
       "      <th>49</th>\n",
       "      <td>5.0</td>\n",
       "      <td>0.2</td>\n",
       "    </tr>\n",
       "    <tr>\n",
       "      <th>85</th>\n",
       "      <td>6.0</td>\n",
       "      <td>1.6</td>\n",
       "    </tr>\n",
       "    <tr>\n",
       "      <th>88</th>\n",
       "      <td>5.6</td>\n",
       "      <td>1.3</td>\n",
       "    </tr>\n",
       "    <tr>\n",
       "      <th>89</th>\n",
       "      <td>5.5</td>\n",
       "      <td>1.3</td>\n",
       "    </tr>\n",
       "    <tr>\n",
       "      <th>91</th>\n",
       "      <td>6.1</td>\n",
       "      <td>1.4</td>\n",
       "    </tr>\n",
       "    <tr>\n",
       "      <th>92</th>\n",
       "      <td>5.8</td>\n",
       "      <td>1.2</td>\n",
       "    </tr>\n",
       "    <tr>\n",
       "      <th>93</th>\n",
       "      <td>5.0</td>\n",
       "      <td>1.0</td>\n",
       "    </tr>\n",
       "    <tr>\n",
       "      <th>94</th>\n",
       "      <td>5.6</td>\n",
       "      <td>1.3</td>\n",
       "    </tr>\n",
       "    <tr>\n",
       "      <th>96</th>\n",
       "      <td>5.7</td>\n",
       "      <td>1.3</td>\n",
       "    </tr>\n",
       "    <tr>\n",
       "      <th>99</th>\n",
       "      <td>5.7</td>\n",
       "      <td>1.3</td>\n",
       "    </tr>\n",
       "    <tr>\n",
       "      <th>119</th>\n",
       "      <td>6.0</td>\n",
       "      <td>1.5</td>\n",
       "    </tr>\n",
       "    <tr>\n",
       "      <th>123</th>\n",
       "      <td>6.3</td>\n",
       "      <td>1.8</td>\n",
       "    </tr>\n",
       "    <tr>\n",
       "      <th>133</th>\n",
       "      <td>6.3</td>\n",
       "      <td>1.5</td>\n",
       "    </tr>\n",
       "    <tr>\n",
       "      <th>134</th>\n",
       "      <td>6.1</td>\n",
       "      <td>1.4</td>\n",
       "    </tr>\n",
       "    <tr>\n",
       "      <th>135</th>\n",
       "      <td>7.7</td>\n",
       "      <td>2.3</td>\n",
       "    </tr>\n",
       "    <tr>\n",
       "      <th>141</th>\n",
       "      <td>6.9</td>\n",
       "      <td>2.3</td>\n",
       "    </tr>\n",
       "    <tr>\n",
       "      <th>142</th>\n",
       "      <td>5.8</td>\n",
       "      <td>1.9</td>\n",
       "    </tr>\n",
       "    <tr>\n",
       "      <th>147</th>\n",
       "      <td>6.5</td>\n",
       "      <td>2.0</td>\n",
       "    </tr>\n",
       "    <tr>\n",
       "      <th>149</th>\n",
       "      <td>5.9</td>\n",
       "      <td>1.8</td>\n",
       "    </tr>\n",
       "  </tbody>\n",
       "</table>\n",
       "</div>"
      ],
      "text/plain": [
       "     SepalLengthCm  PetalWidthCm\n",
       "7              5.0           0.2\n",
       "16             5.4           0.4\n",
       "19             5.1           0.3\n",
       "20             5.4           0.2\n",
       "22             4.6           0.2\n",
       "24             4.8           0.2\n",
       "25             5.0           0.2\n",
       "28             5.2           0.2\n",
       "29             4.7           0.2\n",
       "30             4.8           0.2\n",
       "31             5.4           0.4\n",
       "34             4.9           0.1\n",
       "35             5.0           0.2\n",
       "36             5.5           0.2\n",
       "37             4.9           0.1\n",
       "38             4.4           0.2\n",
       "39             5.1           0.2\n",
       "42             4.4           0.2\n",
       "44             5.1           0.4\n",
       "46             5.1           0.2\n",
       "47             4.6           0.2\n",
       "49             5.0           0.2\n",
       "85             6.0           1.6\n",
       "88             5.6           1.3\n",
       "89             5.5           1.3\n",
       "91             6.1           1.4\n",
       "92             5.8           1.2\n",
       "93             5.0           1.0\n",
       "94             5.6           1.3\n",
       "96             5.7           1.3\n",
       "99             5.7           1.3\n",
       "119            6.0           1.5\n",
       "123            6.3           1.8\n",
       "133            6.3           1.5\n",
       "134            6.1           1.4\n",
       "135            7.7           2.3\n",
       "141            6.9           2.3\n",
       "142            5.8           1.9\n",
       "147            6.5           2.0\n",
       "149            5.9           1.8"
      ]
     },
     "execution_count": 48,
     "metadata": {},
     "output_type": "execute_result"
    }
   ],
   "source": [
    "# mengecek duplikasi\n",
    "df[df.duplicated()]"
   ]
  },
  {
   "cell_type": "markdown",
   "metadata": {},
   "source": [
    "# Data Preprocessing"
   ]
  },
  {
   "cell_type": "markdown",
   "metadata": {},
   "source": [
    "Dalam tahapan ini kita perlu menyiapkan agar data lebih mudah dipahami dan dimengerti oleh komputer. Selain itu, tujuan data preprocessing adalah membuat setiap variable dapat berkontribusi perhitungan yang sama dengan variable yang lain."
   ]
  },
  {
   "cell_type": "code",
   "execution_count": 49,
   "metadata": {},
   "outputs": [
    {
     "data": {
      "text/html": [
       "<div>\n",
       "<style scoped>\n",
       "    .dataframe tbody tr th:only-of-type {\n",
       "        vertical-align: middle;\n",
       "    }\n",
       "\n",
       "    .dataframe tbody tr th {\n",
       "        vertical-align: top;\n",
       "    }\n",
       "\n",
       "    .dataframe thead th {\n",
       "        text-align: right;\n",
       "    }\n",
       "</style>\n",
       "<table border=\"1\" class=\"dataframe\">\n",
       "  <thead>\n",
       "    <tr style=\"text-align: right;\">\n",
       "      <th></th>\n",
       "      <th>SepalLengthCm</th>\n",
       "      <th>PetalWidthCm</th>\n",
       "    </tr>\n",
       "  </thead>\n",
       "  <tbody>\n",
       "    <tr>\n",
       "      <th>0</th>\n",
       "      <td>0.222222</td>\n",
       "      <td>0.041667</td>\n",
       "    </tr>\n",
       "    <tr>\n",
       "      <th>1</th>\n",
       "      <td>0.166667</td>\n",
       "      <td>0.041667</td>\n",
       "    </tr>\n",
       "    <tr>\n",
       "      <th>2</th>\n",
       "      <td>0.111111</td>\n",
       "      <td>0.041667</td>\n",
       "    </tr>\n",
       "    <tr>\n",
       "      <th>3</th>\n",
       "      <td>0.083333</td>\n",
       "      <td>0.041667</td>\n",
       "    </tr>\n",
       "    <tr>\n",
       "      <th>4</th>\n",
       "      <td>0.194444</td>\n",
       "      <td>0.041667</td>\n",
       "    </tr>\n",
       "  </tbody>\n",
       "</table>\n",
       "</div>"
      ],
      "text/plain": [
       "   SepalLengthCm  PetalWidthCm\n",
       "0       0.222222      0.041667\n",
       "1       0.166667      0.041667\n",
       "2       0.111111      0.041667\n",
       "3       0.083333      0.041667\n",
       "4       0.194444      0.041667"
      ]
     },
     "execution_count": 49,
     "metadata": {},
     "output_type": "execute_result"
    }
   ],
   "source": [
    "# normalisasi data (mengubah value masing2 data menjadi 0-1)\n",
    "for col in df.columns:\n",
    "    df[col] = (df[col] - df[col].min()) / (df[col].max() - df[col].min())\n",
    "\n",
    "# menyimpan perubahan agar dapat digunakan\n",
    "normalize_data = df.head()\n",
    "\n",
    "df.head() # melihat data lagi"
   ]
  },
  {
   "cell_type": "markdown",
   "metadata": {},
   "source": [
    "# Data Training"
   ]
  },
  {
   "cell_type": "markdown",
   "metadata": {},
   "source": [
    "pada tahapan data training ini, data sudah siap untuk diolah. Dalam proses ini mesin akan memahami data dan berdasarkan algoritma yang dibuat. Pada tahapan ini mesin akan mencoba memisahkan data berdasarkan pola kedekatan atribut sehingga dapat membuat grup / cluster. Setiap cluster itu memiliki karakteristik yang berbeda beda dan unik."
   ]
  },
  {
   "cell_type": "code",
   "execution_count": 50,
   "metadata": {},
   "outputs": [],
   "source": [
    "# membuat kelas / template untuk kmeans\n",
    "class Kmeans():\n",
    "    def __init__(self, n_cluster=2, max_iteration=100):\n",
    "        # jumlah kluster\n",
    "        self.n_cluster = n_cluster \n",
    "        # maksimal iterasi pada training\n",
    "        self.max_iteration = max_iteration \n",
    "        # pusat kluster\n",
    "        self.centroid = None \n",
    "        # untuk hasil label cluster\n",
    "        self.label = None   \n",
    "        # untuk perhitungan error wcss\n",
    "        self.inertia = 0 \n",
    "\n",
    "    def fit(self, x):\n",
    "        # mencari pusat cluster secara random\n",
    "        self.centroid = np.random.uniform(np.amin(x, axis=0), np.amax(x, axis=0), size=(self.n_cluster, x.shape[1]))\n",
    "\n",
    "        # melakukan perulangan dan iterasi\n",
    "        for iteration in range(self.max_iteration):\n",
    "            # mereset kembali isi label\n",
    "            self.label = []\n",
    "            # mereset jarak cluster terdekat\n",
    "            distances_cluster = []\n",
    "\n",
    "            # menghitung jarak pada setiap item\n",
    "            for item in x:\n",
    "                # menghitung jarak centroid dengan setiap item\n",
    "                distance = np.sqrt(np.sum((item - self.centroid)**2, axis=1))\n",
    "                distances_cluster.append(distance.min()) # menyimpan untuk menyimpan jarak terkecil\n",
    "                cluster = np.argmin(distance) # mencari label cluster\n",
    "                self.label.append(cluster)\n",
    "            \n",
    "            # menyiapkan array untuk memisahkan grup\n",
    "            groups = []\n",
    "\n",
    "            # merubahnya ke matriks numpy agar bisa diperhitungkan \n",
    "            distances_cluster = np.array(distances_cluster)\n",
    "            self.label = np.array(self.label)\n",
    "\n",
    "            # melakukan pemisahan antar cluster dengan menyimpan banyak baris yang beda\n",
    "            for i in range(self.n_cluster):\n",
    "                groups.append(np.argwhere(self.label == i))\n",
    "\n",
    "            new_centroid = []\n",
    "            sum_distance = []\n",
    "\n",
    "            # untuk setiap group / cluster akan dilakukan pengecekan \n",
    "            for i, indices in enumerate(groups):\n",
    "                if len(indices) == 0: # jika group sudah tak punya member gunakan centroid sebelumny\n",
    "                    new_centroid.append(self.centroid[i]) \n",
    "                else:\n",
    "                    # menghitung jarak error\n",
    "                    sum_distance.append(np.sum(distances_cluster)**2)\n",
    "                    # centroid akan berubah sesuai dengan rata rata data\n",
    "                    new_centroid.append(np.mean(x[indices], axis=0)[0])\n",
    "            \n",
    "            # melihat rata rata error\n",
    "            self.inertia = np.mean(sum_distance)\n",
    "\n",
    "            # jika perubahan centroid antara iterasi ini dengan iterasi seblumnya sudah \n",
    "            # tidak banyak berubah maka hentikan\n",
    "            if np.max(np.abs(np.array(new_centroid) - self.centroid)) < 0.0001:\n",
    "                break\n",
    "            else:\n",
    "                # jika tidak maka update centroid baru\n",
    "                self.centroid = np.array(new_centroid)\n",
    "\n",
    "    def predict(self, x ):\n",
    "        x = np.array(x) # agar dapat dilakukan proses matematika\n",
    "        # menghitung jarak centroid dengan setiap item\n",
    "        distance = np.sqrt(np.sum((x - self.centroid)**2))\n",
    "        return np.argmin(distance) # menghitung label cluster\n"
   ]
  },
  {
   "cell_type": "markdown",
   "metadata": {},
   "source": [
    "# Evaluasi"
   ]
  },
  {
   "cell_type": "markdown",
   "metadata": {},
   "source": [
    "dalam tahapan ini kita akan mencari tau jumlah k yang optimal dengan menggunakan elbow method analisis, kita mampu menemukan jumlah k yang baik. Metode ini mencari penurunan paling kecil dan selisih nya besar dari k yang sebelumnya."
   ]
  },
  {
   "cell_type": "code",
   "execution_count": 51,
   "metadata": {},
   "outputs": [],
   "source": [
    "# menyiapkan wcss yang dapat disimpan\n",
    "wcss = []\n",
    "\n",
    "# akan mencoba nilai k mulai dari 1-10 dan disimpan di list\n",
    "for k in range(1, 11):\n",
    "    kmean = Kmeans(n_cluster=k)\n",
    "    kmean.fit(df.to_numpy())\n",
    "    wcss.append(kmean.inertia)"
   ]
  },
  {
   "cell_type": "code",
   "execution_count": 53,
   "metadata": {},
   "outputs": [
    {
     "data": {
      "text/plain": [
       "Text(0, 0.5, 'wcss')"
      ]
     },
     "execution_count": 53,
     "metadata": {},
     "output_type": "execute_result"
    },
    {
     "data": {
      "image/png": "[encoded data removed]",
      "text/plain": [
       "<Figure size 640x480 with 1 Axes>"
      ]
     },
     "metadata": {},
     "output_type": "display_data"
    }
   ],
   "source": [
    "# menampilkan grafik elbow agar dapat menemukan jumlah k yang baik\n",
    "plt.plot(np.arange(1, 11), wcss, marker=\"o\")\n",
    "plt.xlabel(\"amount k\")\n",
    "plt.ylabel(\"wcss\")"
   ]
  },
  {
   "cell_type": "markdown",
   "metadata": {},
   "source": [
    "dengan melihat dari elbow di atas kita dapat menentukan jumlah k yang optimal adalah pada jumlah k = 3 karena penurunannya sudah tidak signifikat ketika k=4"
   ]
  },
  {
   "cell_type": "code",
   "execution_count": 54,
   "metadata": {},
   "outputs": [],
   "source": [
    "# menentukan jumlah k dan mentraining model\n",
    "model = Kmeans(n_cluster=3)\n",
    "model.fit(df.to_numpy())"
   ]
  },
  {
   "cell_type": "code",
   "execution_count": 55,
   "metadata": {},
   "outputs": [
    {
     "data": {
      "text/plain": [
       "array([[0.45951036, 0.55720339],\n",
       "       [0.19549266, 0.07783019],\n",
       "       [0.70614035, 0.83333333]])"
      ]
     },
     "execution_count": 55,
     "metadata": {},
     "output_type": "execute_result"
    }
   ],
   "source": [
    "# melihat centroid atau pusat cluster yang ada\n",
    "model.centroid"
   ]
  },
  {
   "cell_type": "code",
   "execution_count": 67,
   "metadata": {},
   "outputs": [
    {
     "data": {
      "text/plain": [
       "Text(0, 0.5, 'SepalLength')"
      ]
     },
     "execution_count": 67,
     "metadata": {},
     "output_type": "execute_result"
    },
    {
     "data": {
      "image/png": "[encoded data removed]",
      "text/plain": [
       "<Figure size 640x480 with 1 Axes>"
      ]
     },
     "metadata": {},
     "output_type": "display_data"
    }
   ],
   "source": [
    "cnter = pd.DataFrame(columns=df.columns, data=model.centroid)\n",
    "\n",
    "# menampilkan hasil scatter item dengan model yang ada\n",
    "plt.scatter(x=df[\"PetalWidthCm\"], y=df[\"SepalLengthCm\"], c=model.label)\n",
    "# melihat dari titik pusat kluster\n",
    "plt.scatter(x=cnter[\"PetalWidthCm\"], y=cnter[\"SepalLengthCm\"], s=40, c=\"black\")\n",
    "plt.xlabel(\"PetalWidth\")\n",
    "plt.ylabel(\"SepalLength\")"
   ]
  },
  {
   "cell_type": "code",
   "execution_count": null,
   "metadata": {},
   "outputs": [
    {
     "data": {
      "text/plain": [
       "SepalLengthCm    0.361111\n",
       "PetalWidthCm     0.500000\n",
       "Name: 88, dtype: float64"
      ]
     },
     "execution_count": 58,
     "metadata": {},
     "output_type": "execute_result"
    }
   ],
   "source": [
    "df.iloc[88]"
   ]
  },
  {
   "cell_type": "markdown",
   "metadata": {},
   "source": [
    "untuk mengetahui apakah model sudah dapat diprediksi atau belum bisa"
   ]
  },
  {
   "cell_type": "code",
   "execution_count": 64,
   "metadata": {},
   "outputs": [
    {
     "data": {
      "text/plain": [
       "0"
      ]
     },
     "execution_count": 64,
     "metadata": {},
     "output_type": "execute_result"
    }
   ],
   "source": [
    "model.predict([0.361111, 0.5])"
   ]
  },
  {
   "cell_type": "code",
   "execution_count": null,
   "metadata": {},
   "outputs": [],
   "source": []
  },
  {
   "cell_type": "markdown",
   "metadata": {},
   "source": []
  }
 ],
 "metadata": {
  "kernelspec": {
   "display_name": "Python 3",
   "language": "python",
   "name": "python3"
  },
  "language_info": {
   "codemirror_mode": {
    "name": "ipython",
    "version": 3
   },
   "file_extension": ".py",
   "mimetype": "text/x-python",
   "name": "python",
   "nbconvert_exporter": "python",
   "pygments_lexer": "ipython3",
   "version": "3.9.6"
  }
 },
 "nbformat": 4,
 "nbformat_minor": 2
}
