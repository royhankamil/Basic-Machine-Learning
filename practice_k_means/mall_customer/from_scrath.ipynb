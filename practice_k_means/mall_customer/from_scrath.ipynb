{
 "cells": [
  {
   "cell_type": "code",
   "execution_count": 32,
   "metadata": {},
   "outputs": [],
   "source": [
    "import matplotlib.pyplot as plt\n",
    "import numpy as np\n",
    "import seaborn as sns\n",
    "import pandas as pd"
   ]
  },
  {
   "cell_type": "code",
   "execution_count": 33,
   "metadata": {},
   "outputs": [
    {
     "data": {
      "text/html": [
       "<div>\n",
       "<style scoped>\n",
       "    .dataframe tbody tr th:only-of-type {\n",
       "        vertical-align: middle;\n",
       "    }\n",
       "\n",
       "    .dataframe tbody tr th {\n",
       "        vertical-align: top;\n",
       "    }\n",
       "\n",
       "    .dataframe thead th {\n",
       "        text-align: right;\n",
       "    }\n",
       "</style>\n",
       "<table border=\"1\" class=\"dataframe\">\n",
       "  <thead>\n",
       "    <tr style=\"text-align: right;\">\n",
       "      <th></th>\n",
       "      <th>CustomerID</th>\n",
       "      <th>Gender</th>\n",
       "      <th>Age</th>\n",
       "      <th>Annual Income (k$)</th>\n",
       "      <th>Spending Score (1-100)</th>\n",
       "    </tr>\n",
       "  </thead>\n",
       "  <tbody>\n",
       "    <tr>\n",
       "      <th>0</th>\n",
       "      <td>1</td>\n",
       "      <td>Male</td>\n",
       "      <td>19</td>\n",
       "      <td>15</td>\n",
       "      <td>39</td>\n",
       "    </tr>\n",
       "    <tr>\n",
       "      <th>1</th>\n",
       "      <td>2</td>\n",
       "      <td>Male</td>\n",
       "      <td>21</td>\n",
       "      <td>15</td>\n",
       "      <td>81</td>\n",
       "    </tr>\n",
       "    <tr>\n",
       "      <th>2</th>\n",
       "      <td>3</td>\n",
       "      <td>Female</td>\n",
       "      <td>20</td>\n",
       "      <td>16</td>\n",
       "      <td>6</td>\n",
       "    </tr>\n",
       "    <tr>\n",
       "      <th>3</th>\n",
       "      <td>4</td>\n",
       "      <td>Female</td>\n",
       "      <td>23</td>\n",
       "      <td>16</td>\n",
       "      <td>77</td>\n",
       "    </tr>\n",
       "    <tr>\n",
       "      <th>4</th>\n",
       "      <td>5</td>\n",
       "      <td>Female</td>\n",
       "      <td>31</td>\n",
       "      <td>17</td>\n",
       "      <td>40</td>\n",
       "    </tr>\n",
       "  </tbody>\n",
       "</table>\n",
       "</div>"
      ],
      "text/plain": [
       "   CustomerID  Gender  Age  Annual Income (k$)  Spending Score (1-100)\n",
       "0           1    Male   19                  15                      39\n",
       "1           2    Male   21                  15                      81\n",
       "2           3  Female   20                  16                       6\n",
       "3           4  Female   23                  16                      77\n",
       "4           5  Female   31                  17                      40"
      ]
     },
     "execution_count": 33,
     "metadata": {},
     "output_type": "execute_result"
    }
   ],
   "source": [
    "df = pd.read_csv(\"Mall_Customers.csv\")\n",
    "\n",
    "df.head()"
   ]
  },
  {
   "cell_type": "code",
   "execution_count": 34,
   "metadata": {},
   "outputs": [
    {
     "name": "stdout",
     "output_type": "stream",
     "text": [
      "<class 'pandas.core.frame.DataFrame'>\n",
      "RangeIndex: 200 entries, 0 to 199\n",
      "Data columns (total 5 columns):\n",
      " #   Column                  Non-Null Count  Dtype \n",
      "---  ------                  --------------  ----- \n",
      " 0   CustomerID              200 non-null    int64 \n",
      " 1   Gender                  200 non-null    object\n",
      " 2   Age                     200 non-null    int64 \n",
      " 3   Annual Income (k$)      200 non-null    int64 \n",
      " 4   Spending Score (1-100)  200 non-null    int64 \n",
      "dtypes: int64(4), object(1)\n",
      "memory usage: 7.9+ KB\n"
     ]
    }
   ],
   "source": [
    "df.info()"
   ]
  },
  {
   "cell_type": "code",
   "execution_count": 35,
   "metadata": {},
   "outputs": [
    {
     "data": {
      "text/html": [
       "<div>\n",
       "<style scoped>\n",
       "    .dataframe tbody tr th:only-of-type {\n",
       "        vertical-align: middle;\n",
       "    }\n",
       "\n",
       "    .dataframe tbody tr th {\n",
       "        vertical-align: top;\n",
       "    }\n",
       "\n",
       "    .dataframe thead th {\n",
       "        text-align: right;\n",
       "    }\n",
       "</style>\n",
       "<table border=\"1\" class=\"dataframe\">\n",
       "  <thead>\n",
       "    <tr style=\"text-align: right;\">\n",
       "      <th></th>\n",
       "      <th>Age</th>\n",
       "      <th>Annual Income (k$)</th>\n",
       "      <th>Spending Score (1-100)</th>\n",
       "    </tr>\n",
       "  </thead>\n",
       "  <tbody>\n",
       "    <tr>\n",
       "      <th>0</th>\n",
       "      <td>19</td>\n",
       "      <td>15</td>\n",
       "      <td>39</td>\n",
       "    </tr>\n",
       "    <tr>\n",
       "      <th>1</th>\n",
       "      <td>21</td>\n",
       "      <td>15</td>\n",
       "      <td>81</td>\n",
       "    </tr>\n",
       "    <tr>\n",
       "      <th>2</th>\n",
       "      <td>20</td>\n",
       "      <td>16</td>\n",
       "      <td>6</td>\n",
       "    </tr>\n",
       "    <tr>\n",
       "      <th>3</th>\n",
       "      <td>23</td>\n",
       "      <td>16</td>\n",
       "      <td>77</td>\n",
       "    </tr>\n",
       "    <tr>\n",
       "      <th>4</th>\n",
       "      <td>31</td>\n",
       "      <td>17</td>\n",
       "      <td>40</td>\n",
       "    </tr>\n",
       "  </tbody>\n",
       "</table>\n",
       "</div>"
      ],
      "text/plain": [
       "   Age  Annual Income (k$)  Spending Score (1-100)\n",
       "0   19                  15                      39\n",
       "1   21                  15                      81\n",
       "2   20                  16                       6\n",
       "3   23                  16                      77\n",
       "4   31                  17                      40"
      ]
     },
     "execution_count": 35,
     "metadata": {},
     "output_type": "execute_result"
    }
   ],
   "source": [
    "df.drop(columns=[\"CustomerID\", \"Gender\"], inplace=True)\n",
    "\n",
    "df.head()"
   ]
  },
  {
   "cell_type": "code",
   "execution_count": 36,
   "metadata": {},
   "outputs": [
    {
     "data": {
      "text/plain": [
       "{'whiskers': [<matplotlib.lines.Line2D at 0x1da54308a00>,\n",
       "  <matplotlib.lines.Line2D at 0x1da54308ca0>],\n",
       " 'caps': [<matplotlib.lines.Line2D at 0x1da54308f40>,\n",
       "  <matplotlib.lines.Line2D at 0x1da5430e220>],\n",
       " 'boxes': [<matplotlib.lines.Line2D at 0x1da54308760>],\n",
       " 'medians': [<matplotlib.lines.Line2D at 0x1da5430e4c0>],\n",
       " 'fliers': [<matplotlib.lines.Line2D at 0x1da5430e760>],\n",
       " 'means': []}"
      ]
     },
     "execution_count": 36,
     "metadata": {},
     "output_type": "execute_result"
    },
    {
     "data": {
      "image/png": "[encoded data removed]",
      "text/plain": [
       "<Figure size 640x480 with 1 Axes>"
      ]
     },
     "metadata": {},
     "output_type": "display_data"
    }
   ],
   "source": [
    "plt.figure()\n",
    "plt.boxplot(df[\"Age\"])"
   ]
  },
  {
   "cell_type": "code",
   "execution_count": 37,
   "metadata": {},
   "outputs": [
    {
     "data": {
      "text/plain": [
       "{'whiskers': [<matplotlib.lines.Line2D at 0x1da54352a90>,\n",
       "  <matplotlib.lines.Line2D at 0x1da54352d30>],\n",
       " 'caps': [<matplotlib.lines.Line2D at 0x1da54352fd0>,\n",
       "  <matplotlib.lines.Line2D at 0x1da5435e2b0>],\n",
       " 'boxes': [<matplotlib.lines.Line2D at 0x1da543527f0>],\n",
       " 'medians': [<matplotlib.lines.Line2D at 0x1da5435e550>],\n",
       " 'fliers': [<matplotlib.lines.Line2D at 0x1da542fe700>],\n",
       " 'means': []}"
      ]
     },
     "execution_count": 37,
     "metadata": {},
     "output_type": "execute_result"
    },
    {
     "data": {
      "image/png": "[encoded data removed]",
      "text/plain": [
       "<Figure size 640x480 with 1 Axes>"
      ]
     },
     "metadata": {},
     "output_type": "display_data"
    }
   ],
   "source": [
    "plt.boxplot(df[\"Annual Income (k$)\"])"
   ]
  },
  {
   "cell_type": "code",
   "execution_count": 38,
   "metadata": {},
   "outputs": [
    {
     "data": {
      "text/plain": [
       "{'whiskers': [<matplotlib.lines.Line2D at 0x1da54386250>,\n",
       "  <matplotlib.lines.Line2D at 0x1da54386490>],\n",
       " 'caps': [<matplotlib.lines.Line2D at 0x1da54386730>,\n",
       "  <matplotlib.lines.Line2D at 0x1da543869d0>],\n",
       " 'boxes': [<matplotlib.lines.Line2D at 0x1da544f8f70>],\n",
       " 'medians': [<matplotlib.lines.Line2D at 0x1da54386c70>],\n",
       " 'fliers': [<matplotlib.lines.Line2D at 0x1da54386f10>],\n",
       " 'means': []}"
      ]
     },
     "execution_count": 38,
     "metadata": {},
     "output_type": "execute_result"
    },
    {
     "data": {
      "image/png": "[encoded data removed]",
      "text/plain": [
       "<Figure size 640x480 with 1 Axes>"
      ]
     },
     "metadata": {},
     "output_type": "display_data"
    }
   ],
   "source": [
    "plt.boxplot(df[\"Spending Score (1-100)\"])"
   ]
  },
  {
   "cell_type": "code",
   "execution_count": 39,
   "metadata": {},
   "outputs": [
    {
     "data": {
      "text/plain": [
       "Age                       0\n",
       "Annual Income (k$)        0\n",
       "Spending Score (1-100)    0\n",
       "dtype: int64"
      ]
     },
     "execution_count": 39,
     "metadata": {},
     "output_type": "execute_result"
    }
   ],
   "source": [
    "df.isna().sum()"
   ]
  },
  {
   "cell_type": "code",
   "execution_count": 40,
   "metadata": {},
   "outputs": [
    {
     "data": {
      "text/plain": [
       "Age                       0\n",
       "Annual Income (k$)        0\n",
       "Spending Score (1-100)    0\n",
       "dtype: int64"
      ]
     },
     "execution_count": 40,
     "metadata": {},
     "output_type": "execute_result"
    }
   ],
   "source": [
    "df.isnull().sum()"
   ]
  },
  {
   "cell_type": "code",
   "execution_count": 41,
   "metadata": {},
   "outputs": [
    {
     "data": {
      "text/html": [
       "<div>\n",
       "<style scoped>\n",
       "    .dataframe tbody tr th:only-of-type {\n",
       "        vertical-align: middle;\n",
       "    }\n",
       "\n",
       "    .dataframe tbody tr th {\n",
       "        vertical-align: top;\n",
       "    }\n",
       "\n",
       "    .dataframe thead th {\n",
       "        text-align: right;\n",
       "    }\n",
       "</style>\n",
       "<table border=\"1\" class=\"dataframe\">\n",
       "  <thead>\n",
       "    <tr style=\"text-align: right;\">\n",
       "      <th></th>\n",
       "      <th>Age</th>\n",
       "      <th>Annual Income (k$)</th>\n",
       "      <th>Spending Score (1-100)</th>\n",
       "    </tr>\n",
       "  </thead>\n",
       "  <tbody>\n",
       "  </tbody>\n",
       "</table>\n",
       "</div>"
      ],
      "text/plain": [
       "Empty DataFrame\n",
       "Columns: [Age, Annual Income (k$), Spending Score (1-100)]\n",
       "Index: []"
      ]
     },
     "execution_count": 41,
     "metadata": {},
     "output_type": "execute_result"
    }
   ],
   "source": [
    "df[df.duplicated()]"
   ]
  },
  {
   "cell_type": "code",
   "execution_count": 42,
   "metadata": {},
   "outputs": [
    {
     "data": {
      "text/html": [
       "<div>\n",
       "<style scoped>\n",
       "    .dataframe tbody tr th:only-of-type {\n",
       "        vertical-align: middle;\n",
       "    }\n",
       "\n",
       "    .dataframe tbody tr th {\n",
       "        vertical-align: top;\n",
       "    }\n",
       "\n",
       "    .dataframe thead th {\n",
       "        text-align: right;\n",
       "    }\n",
       "</style>\n",
       "<table border=\"1\" class=\"dataframe\">\n",
       "  <thead>\n",
       "    <tr style=\"text-align: right;\">\n",
       "      <th></th>\n",
       "      <th>Age</th>\n",
       "      <th>Annual Income (k$)</th>\n",
       "      <th>Spending Score (1-100)</th>\n",
       "    </tr>\n",
       "  </thead>\n",
       "  <tbody>\n",
       "    <tr>\n",
       "      <th>0</th>\n",
       "      <td>0.019231</td>\n",
       "      <td>0.000000</td>\n",
       "      <td>0.387755</td>\n",
       "    </tr>\n",
       "    <tr>\n",
       "      <th>1</th>\n",
       "      <td>0.057692</td>\n",
       "      <td>0.000000</td>\n",
       "      <td>0.816327</td>\n",
       "    </tr>\n",
       "    <tr>\n",
       "      <th>2</th>\n",
       "      <td>0.038462</td>\n",
       "      <td>0.008197</td>\n",
       "      <td>0.051020</td>\n",
       "    </tr>\n",
       "    <tr>\n",
       "      <th>3</th>\n",
       "      <td>0.096154</td>\n",
       "      <td>0.008197</td>\n",
       "      <td>0.775510</td>\n",
       "    </tr>\n",
       "    <tr>\n",
       "      <th>4</th>\n",
       "      <td>0.250000</td>\n",
       "      <td>0.016393</td>\n",
       "      <td>0.397959</td>\n",
       "    </tr>\n",
       "  </tbody>\n",
       "</table>\n",
       "</div>"
      ],
      "text/plain": [
       "        Age  Annual Income (k$)  Spending Score (1-100)\n",
       "0  0.019231            0.000000                0.387755\n",
       "1  0.057692            0.000000                0.816327\n",
       "2  0.038462            0.008197                0.051020\n",
       "3  0.096154            0.008197                0.775510\n",
       "4  0.250000            0.016393                0.397959"
      ]
     },
     "execution_count": 42,
     "metadata": {},
     "output_type": "execute_result"
    }
   ],
   "source": [
    "for col in df.columns:\n",
    "    df[col] = (df[col] - df[col].min()) / (df[col].max() - df[col].min())\n",
    "\n",
    "df.head()"
   ]
  },
  {
   "cell_type": "code",
   "execution_count": 47,
   "metadata": {},
   "outputs": [],
   "source": [
    "class Kmeans():\n",
    "    def __init__(self, n_clusters=2, max_iteration=100):\n",
    "        self.n_clusters = n_clusters\n",
    "        self.max_iteration = max_iteration\n",
    "        self.centroid = None\n",
    "        self.labels = None\n",
    "        self.inertia = 0\n",
    "\n",
    "    def fit(self, x):\n",
    "        self.centroid = np.random.uniform(np.amin(x, axis=0), np.amax(x, axis=0), size=(self.n_clusters, x.shape[1]))\n",
    "\n",
    "        for iteration in range (self.max_iteration):\n",
    "            self.labels = []\n",
    "            distances_cluster = []\n",
    "            for item in x:\n",
    "                distance = np.sqrt(np.sum((item - self.centroid)**2, axis=1))\n",
    "                distances_cluster.append(distance.min())\n",
    "                cluster = np.argmin(x)\n",
    "                self.labels.append(cluster)\n",
    "            \n",
    "            self.labels = np.array(self.labels)\n",
    "            distances_cluster = np.array(distances_cluster)\n",
    "            groups = []\n",
    "\n",
    "            for i in range(self.n_clusters):\n",
    "                groups.append(np.argwhere(self.labels == i))\n",
    "\n",
    "            new_centroid = []\n",
    "            sum_distances = []\n",
    "\n",
    "            for i, indices in enumerate(groups):\n",
    "                if len(indices) == 0:\n",
    "                    new_centroid.append(self.centroid[i])\n",
    "                else:\n",
    "                    new_centroid.append(np.mean(x[indices], axis=0)[0])\n",
    "                    sum_distances.append(np.sum(distances_cluster))\n",
    "\n",
    "            self.inertia = np.mean(np.array(sum_distances)**2)\n",
    "\n",
    "            print(\"centroid\", self.centroid)\n",
    "            print(\"new\", new_centroid)\n",
    "            if np.max(np.abs(self.centroid - np.array(new_centroid))) < 0.0001:\n",
    "                break\n",
    "            else:\n",
    "                self.centroid = np.array(new_centroid)\n",
    "\n",
    "\n",
    "\n",
    "\n",
    "            \n"
   ]
  },
  {
   "cell_type": "code",
   "execution_count": 48,
   "metadata": {},
   "outputs": [
    {
     "name": "stderr",
     "output_type": "stream",
     "text": [
      "c:\\Users\\Rizal\\AppData\\Local\\Programs\\Python\\Python39\\lib\\site-packages\\numpy\\core\\fromnumeric.py:3464: RuntimeWarning: Mean of empty slice.\n",
      "  return _methods._mean(a, axis=axis, dtype=dtype,\n",
      "c:\\Users\\Rizal\\AppData\\Local\\Programs\\Python\\Python39\\lib\\site-packages\\numpy\\core\\_methods.py:192: RuntimeWarning: invalid value encountered in scalar divide\n",
      "  ret = ret.dtype.type(ret / rcount)\n"
     ]
    },
    {
     "name": "stdout",
     "output_type": "stream",
     "text": [
      "centroid [[0.99987128 0.95984447 0.51396187]]\n",
      "new [array([0.99987128, 0.95984447, 0.51396187])]\n",
      "centroid [[0.92345417 0.55278173 0.65006447]\n",
      " [0.16251441 0.37343141 0.32101901]]\n",
      "new [array([0.92345417, 0.55278173, 0.65006447]), array([0.40096154, 0.37344262, 0.50204082])]\n",
      "centroid [[0.92345417 0.55278173 0.65006447]\n",
      " [0.40096154 0.37344262 0.50204082]]\n",
      "new [array([0.92345417, 0.55278173, 0.65006447]), array([0.40096154, 0.37344262, 0.50204082])]\n",
      "centroid [[0.47392301 0.36678846 0.92219881]\n",
      " [0.92119926 0.4864559  0.81966512]\n",
      " [0.21458658 0.96514089 0.15008879]]\n",
      "new [array([0.47392301, 0.36678846, 0.92219881]), array([0.40096154, 0.37344262, 0.50204082]), array([0.21458658, 0.96514089, 0.15008879])]\n",
      "centroid [[0.47392301 0.36678846 0.92219881]\n",
      " [0.40096154 0.37344262 0.50204082]\n",
      " [0.21458658 0.96514089 0.15008879]]\n",
      "new [array([0.47392301, 0.36678846, 0.92219881]), array([0.40096154, 0.37344262, 0.50204082]), array([0.21458658, 0.96514089, 0.15008879])]\n",
      "centroid [[0.52536612 0.89458574 0.99685025]\n",
      " [0.91568968 0.52120372 0.98973762]\n",
      " [0.74449445 0.48459922 0.60199133]\n",
      " [0.39843347 0.2168121  0.31915462]]\n",
      "new [array([0.52536612, 0.89458574, 0.99685025]), array([0.40096154, 0.37344262, 0.50204082]), array([0.74449445, 0.48459922, 0.60199133]), array([0.39843347, 0.2168121 , 0.31915462])]\n",
      "centroid [[0.52536612 0.89458574 0.99685025]\n",
      " [0.40096154 0.37344262 0.50204082]\n",
      " [0.74449445 0.48459922 0.60199133]\n",
      " [0.39843347 0.2168121  0.31915462]]\n",
      "new [array([0.52536612, 0.89458574, 0.99685025]), array([0.40096154, 0.37344262, 0.50204082]), array([0.74449445, 0.48459922, 0.60199133]), array([0.39843347, 0.2168121 , 0.31915462])]\n",
      "centroid [[0.24567727 0.76004406 0.87546142]\n",
      " [0.32805471 0.01711418 0.06243511]\n",
      " [0.91319033 0.46199193 0.46094749]\n",
      " [0.15027978 0.85806961 0.29177742]\n",
      " [0.36603994 0.44420931 0.945193  ]]\n",
      "new [array([0.24567727, 0.76004406, 0.87546142]), array([0.40096154, 0.37344262, 0.50204082]), array([0.91319033, 0.46199193, 0.46094749]), array([0.15027978, 0.85806961, 0.29177742]), array([0.36603994, 0.44420931, 0.945193  ])]\n",
      "centroid [[0.24567727 0.76004406 0.87546142]\n",
      " [0.40096154 0.37344262 0.50204082]\n",
      " [0.91319033 0.46199193 0.46094749]\n",
      " [0.15027978 0.85806961 0.29177742]\n",
      " [0.36603994 0.44420931 0.945193  ]]\n",
      "new [array([0.24567727, 0.76004406, 0.87546142]), array([0.40096154, 0.37344262, 0.50204082]), array([0.91319033, 0.46199193, 0.46094749]), array([0.15027978, 0.85806961, 0.29177742]), array([0.36603994, 0.44420931, 0.945193  ])]\n",
      "centroid [[0.78802144 0.17844462 0.98641791]\n",
      " [0.27054641 0.84357705 0.02301647]\n",
      " [0.81866325 0.26434813 0.61693512]\n",
      " [0.11106046 0.86438931 0.76151074]\n",
      " [0.4830197  0.40868541 0.71471992]\n",
      " [0.2254084  0.27498516 0.52085121]]\n",
      "new [array([0.78802144, 0.17844462, 0.98641791]), array([0.40096154, 0.37344262, 0.50204082]), array([0.81866325, 0.26434813, 0.61693512]), array([0.11106046, 0.86438931, 0.76151074]), array([0.4830197 , 0.40868541, 0.71471992]), array([0.2254084 , 0.27498516, 0.52085121])]\n",
      "centroid [[0.78802144 0.17844462 0.98641791]\n",
      " [0.40096154 0.37344262 0.50204082]\n",
      " [0.81866325 0.26434813 0.61693512]\n",
      " [0.11106046 0.86438931 0.76151074]\n",
      " [0.4830197  0.40868541 0.71471992]\n",
      " [0.2254084  0.27498516 0.52085121]]\n",
      "new [array([0.78802144, 0.17844462, 0.98641791]), array([0.40096154, 0.37344262, 0.50204082]), array([0.81866325, 0.26434813, 0.61693512]), array([0.11106046, 0.86438931, 0.76151074]), array([0.4830197 , 0.40868541, 0.71471992]), array([0.2254084 , 0.27498516, 0.52085121])]\n",
      "centroid [[0.79108947 0.04426796 0.34251621]\n",
      " [0.35983655 0.51934666 0.25791724]\n",
      " [0.55880869 0.96282128 0.76278183]\n",
      " [0.09484112 0.35786893 0.78024747]\n",
      " [0.38285201 0.52053791 0.55106526]\n",
      " [0.87154812 0.96810681 0.46616898]\n",
      " [0.26103578 0.06811702 0.73619609]]\n",
      "new [array([0.79108947, 0.04426796, 0.34251621]), array([0.40096154, 0.37344262, 0.50204082]), array([0.55880869, 0.96282128, 0.76278183]), array([0.09484112, 0.35786893, 0.78024747]), array([0.38285201, 0.52053791, 0.55106526]), array([0.87154812, 0.96810681, 0.46616898]), array([0.26103578, 0.06811702, 0.73619609])]\n",
      "centroid [[0.79108947 0.04426796 0.34251621]\n",
      " [0.40096154 0.37344262 0.50204082]\n",
      " [0.55880869 0.96282128 0.76278183]\n",
      " [0.09484112 0.35786893 0.78024747]\n",
      " [0.38285201 0.52053791 0.55106526]\n",
      " [0.87154812 0.96810681 0.46616898]\n",
      " [0.26103578 0.06811702 0.73619609]]\n",
      "new [array([0.79108947, 0.04426796, 0.34251621]), array([0.40096154, 0.37344262, 0.50204082]), array([0.55880869, 0.96282128, 0.76278183]), array([0.09484112, 0.35786893, 0.78024747]), array([0.38285201, 0.52053791, 0.55106526]), array([0.87154812, 0.96810681, 0.46616898]), array([0.26103578, 0.06811702, 0.73619609])]\n",
      "centroid [[0.17482606 0.22348668 0.53360149]\n",
      " [0.15142157 0.23738199 0.20520134]\n",
      " [0.6051462  0.09436376 0.10067991]\n",
      " [0.54666302 0.54199583 0.65379837]\n",
      " [0.25566749 0.19569772 0.46572447]\n",
      " [0.81551755 0.62903593 0.6432706 ]\n",
      " [0.28376402 0.86911914 0.14424788]\n",
      " [0.09756412 0.0433826  0.05644472]]\n",
      "new [array([0.17482606, 0.22348668, 0.53360149]), array([0.40096154, 0.37344262, 0.50204082]), array([0.6051462 , 0.09436376, 0.10067991]), array([0.54666302, 0.54199583, 0.65379837]), array([0.25566749, 0.19569772, 0.46572447]), array([0.81551755, 0.62903593, 0.6432706 ]), array([0.28376402, 0.86911914, 0.14424788]), array([0.09756412, 0.0433826 , 0.05644472])]\n",
      "centroid [[0.17482606 0.22348668 0.53360149]\n",
      " [0.40096154 0.37344262 0.50204082]\n",
      " [0.6051462  0.09436376 0.10067991]\n",
      " [0.54666302 0.54199583 0.65379837]\n",
      " [0.25566749 0.19569772 0.46572447]\n",
      " [0.81551755 0.62903593 0.6432706 ]\n",
      " [0.28376402 0.86911914 0.14424788]\n",
      " [0.09756412 0.0433826  0.05644472]]\n",
      "new [array([0.17482606, 0.22348668, 0.53360149]), array([0.40096154, 0.37344262, 0.50204082]), array([0.6051462 , 0.09436376, 0.10067991]), array([0.54666302, 0.54199583, 0.65379837]), array([0.25566749, 0.19569772, 0.46572447]), array([0.81551755, 0.62903593, 0.6432706 ]), array([0.28376402, 0.86911914, 0.14424788]), array([0.09756412, 0.0433826 , 0.05644472])]\n",
      "centroid [[0.66516975 0.60943516 0.37707749]\n",
      " [0.02358822 0.33567045 0.19944459]\n",
      " [0.62983933 0.83612239 0.26566645]\n",
      " [0.45361332 0.01476481 0.43673621]\n",
      " [0.19511098 0.16633412 0.79955877]\n",
      " [0.47464185 0.23078168 0.79829847]\n",
      " [0.01548553 0.73921651 0.09681464]\n",
      " [0.03828373 0.57398901 0.87469796]\n",
      " [0.61231411 0.24400825 0.15373491]]\n",
      "new [array([0.66516975, 0.60943516, 0.37707749]), array([0.40096154, 0.37344262, 0.50204082]), array([0.62983933, 0.83612239, 0.26566645]), array([0.45361332, 0.01476481, 0.43673621]), array([0.19511098, 0.16633412, 0.79955877]), array([0.47464185, 0.23078168, 0.79829847]), array([0.01548553, 0.73921651, 0.09681464]), array([0.03828373, 0.57398901, 0.87469796]), array([0.61231411, 0.24400825, 0.15373491])]\n",
      "centroid [[0.66516975 0.60943516 0.37707749]\n",
      " [0.40096154 0.37344262 0.50204082]\n",
      " [0.62983933 0.83612239 0.26566645]\n",
      " [0.45361332 0.01476481 0.43673621]\n",
      " [0.19511098 0.16633412 0.79955877]\n",
      " [0.47464185 0.23078168 0.79829847]\n",
      " [0.01548553 0.73921651 0.09681464]\n",
      " [0.03828373 0.57398901 0.87469796]\n",
      " [0.61231411 0.24400825 0.15373491]]\n",
      "new [array([0.66516975, 0.60943516, 0.37707749]), array([0.40096154, 0.37344262, 0.50204082]), array([0.62983933, 0.83612239, 0.26566645]), array([0.45361332, 0.01476481, 0.43673621]), array([0.19511098, 0.16633412, 0.79955877]), array([0.47464185, 0.23078168, 0.79829847]), array([0.01548553, 0.73921651, 0.09681464]), array([0.03828373, 0.57398901, 0.87469796]), array([0.61231411, 0.24400825, 0.15373491])]\n",
      "centroid [[0.37903436 0.14646966 0.41246763]\n",
      " [0.69766495 0.70561092 0.5497106 ]\n",
      " [0.30087515 0.39424523 0.74731525]\n",
      " [0.14880112 0.47707614 0.02513719]\n",
      " [0.62030005 0.53502294 0.06671259]\n",
      " [0.41245214 0.68118675 0.40524832]\n",
      " [0.96448518 0.29587646 0.47756298]\n",
      " [0.90052854 0.81155056 0.24981434]\n",
      " [0.43692667 0.54536573 0.62635174]\n",
      " [0.68240802 0.09338715 0.60862475]]\n",
      "new [array([0.37903436, 0.14646966, 0.41246763]), array([0.40096154, 0.37344262, 0.50204082]), array([0.30087515, 0.39424523, 0.74731525]), array([0.14880112, 0.47707614, 0.02513719]), array([0.62030005, 0.53502294, 0.06671259]), array([0.41245214, 0.68118675, 0.40524832]), array([0.96448518, 0.29587646, 0.47756298]), array([0.90052854, 0.81155056, 0.24981434]), array([0.43692667, 0.54536573, 0.62635174]), array([0.68240802, 0.09338715, 0.60862475])]\n",
      "centroid [[0.37903436 0.14646966 0.41246763]\n",
      " [0.40096154 0.37344262 0.50204082]\n",
      " [0.30087515 0.39424523 0.74731525]\n",
      " [0.14880112 0.47707614 0.02513719]\n",
      " [0.62030005 0.53502294 0.06671259]\n",
      " [0.41245214 0.68118675 0.40524832]\n",
      " [0.96448518 0.29587646 0.47756298]\n",
      " [0.90052854 0.81155056 0.24981434]\n",
      " [0.43692667 0.54536573 0.62635174]\n",
      " [0.68240802 0.09338715 0.60862475]]\n",
      "new [array([0.37903436, 0.14646966, 0.41246763]), array([0.40096154, 0.37344262, 0.50204082]), array([0.30087515, 0.39424523, 0.74731525]), array([0.14880112, 0.47707614, 0.02513719]), array([0.62030005, 0.53502294, 0.06671259]), array([0.41245214, 0.68118675, 0.40524832]), array([0.96448518, 0.29587646, 0.47756298]), array([0.90052854, 0.81155056, 0.24981434]), array([0.43692667, 0.54536573, 0.62635174]), array([0.68240802, 0.09338715, 0.60862475])]\n"
     ]
    }
   ],
   "source": [
    "wcss = []\n",
    "for i in range(1, 11):\n",
    "    kmean = Kmeans(n_clusters=i)\n",
    "    kmean.fit(df.to_numpy())\n",
    "\n",
    "    wcss.append(kmean.inertia)\n",
    "\n"
   ]
  },
  {
   "cell_type": "code",
   "execution_count": 49,
   "metadata": {},
   "outputs": [
    {
     "data": {
      "text/plain": [
       "Text(0, 0.5, 'wcsss')"
      ]
     },
     "execution_count": 49,
     "metadata": {},
     "output_type": "execute_result"
    },
    {
     "data": {
      "image/png": "[encoded data removed]",
      "text/plain": [
       "<Figure size 640x480 with 1 Axes>"
      ]
     },
     "metadata": {},
     "output_type": "display_data"
    }
   ],
   "source": [
    "plt.plot(np.arange(1, 11), wcss, marker='o')\n",
    "plt.xlabel(\"jumlah k\")\n",
    "plt.ylabel(\"wcsss\")"
   ]
  },
  {
   "cell_type": "code",
   "execution_count": null,
   "metadata": {},
   "outputs": [],
   "source": []
  }
 ],
 "metadata": {
  "kernelspec": {
   "display_name": "Python 3",
   "language": "python",
   "name": "python3"
  },
  "language_info": {
   "codemirror_mode": {
    "name": "ipython",
    "version": 3
   },
   "file_extension": ".py",
   "mimetype": "text/x-python",
   "name": "python",
   "nbconvert_exporter": "python",
   "pygments_lexer": "ipython3",
   "version": "3.9.6"
  }
 },
 "nbformat": 4,
 "nbformat_minor": 2
}
