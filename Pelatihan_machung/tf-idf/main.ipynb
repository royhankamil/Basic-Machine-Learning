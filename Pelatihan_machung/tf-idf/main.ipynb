{
 "cells": [
  {
   "cell_type": "code",
   "execution_count": 87,
   "metadata": {},
   "outputs": [],
   "source": [
    "from sklearn.feature_extraction.text import TfidfVectorizer\n",
    "\n",
    "corpus = [\n",
    "          'KDnuggets Collection of data science Projects',\n",
    "          '3 Free Statistics Courses for data science data',\n",
    "          'Parallel Processing Large File in Python',\n",
    "          '15 You  Python Coding Interview Questions You Must Know For data science',\n",
    " ]\n",
    "\n",
    "vectorizer = TfidfVectorizer()\n",
    "\n",
    "# TD-IDF Matrix\n",
    "X = vectorizer.fit_transform(corpus)\n",
    "\n",
    "# extracting feature names\n",
    "tfidf_tokens = vectorizer.get_feature_names_out()"
   ]
  },
  {
   "cell_type": "code",
   "execution_count": 88,
   "metadata": {},
   "outputs": [
    {
     "data": {
      "text/html": [
       "<div>\n",
       "<style scoped>\n",
       "    .dataframe tbody tr th:only-of-type {\n",
       "        vertical-align: middle;\n",
       "    }\n",
       "\n",
       "    .dataframe tbody tr th {\n",
       "        vertical-align: top;\n",
       "    }\n",
       "\n",
       "    .dataframe thead th {\n",
       "        text-align: right;\n",
       "    }\n",
       "</style>\n",
       "<table border=\"1\" class=\"dataframe\">\n",
       "  <thead>\n",
       "    <tr style=\"text-align: right;\">\n",
       "      <th></th>\n",
       "      <th>15</th>\n",
       "      <th>coding</th>\n",
       "      <th>collection</th>\n",
       "      <th>courses</th>\n",
       "      <th>data</th>\n",
       "      <th>file</th>\n",
       "      <th>for</th>\n",
       "      <th>free</th>\n",
       "      <th>in</th>\n",
       "      <th>interview</th>\n",
       "      <th>...</th>\n",
       "      <th>must</th>\n",
       "      <th>of</th>\n",
       "      <th>parallel</th>\n",
       "      <th>processing</th>\n",
       "      <th>projects</th>\n",
       "      <th>python</th>\n",
       "      <th>questions</th>\n",
       "      <th>science</th>\n",
       "      <th>statistics</th>\n",
       "      <th>you</th>\n",
       "    </tr>\n",
       "  </thead>\n",
       "  <tbody>\n",
       "    <tr>\n",
       "      <th>Doc1</th>\n",
       "      <td>0.00000</td>\n",
       "      <td>0.00000</td>\n",
       "      <td>0.455732</td>\n",
       "      <td>0.000000</td>\n",
       "      <td>0.290888</td>\n",
       "      <td>0.000000</td>\n",
       "      <td>0.000000</td>\n",
       "      <td>0.000000</td>\n",
       "      <td>0.000000</td>\n",
       "      <td>0.00000</td>\n",
       "      <td>...</td>\n",
       "      <td>0.00000</td>\n",
       "      <td>0.455732</td>\n",
       "      <td>0.000000</td>\n",
       "      <td>0.000000</td>\n",
       "      <td>0.455732</td>\n",
       "      <td>0.000000</td>\n",
       "      <td>0.00000</td>\n",
       "      <td>0.290888</td>\n",
       "      <td>0.000000</td>\n",
       "      <td>0.00000</td>\n",
       "    </tr>\n",
       "    <tr>\n",
       "      <th>Doc2</th>\n",
       "      <td>0.00000</td>\n",
       "      <td>0.00000</td>\n",
       "      <td>0.000000</td>\n",
       "      <td>0.420382</td>\n",
       "      <td>0.536648</td>\n",
       "      <td>0.000000</td>\n",
       "      <td>0.331434</td>\n",
       "      <td>0.420382</td>\n",
       "      <td>0.000000</td>\n",
       "      <td>0.00000</td>\n",
       "      <td>...</td>\n",
       "      <td>0.00000</td>\n",
       "      <td>0.000000</td>\n",
       "      <td>0.000000</td>\n",
       "      <td>0.000000</td>\n",
       "      <td>0.000000</td>\n",
       "      <td>0.000000</td>\n",
       "      <td>0.00000</td>\n",
       "      <td>0.268324</td>\n",
       "      <td>0.420382</td>\n",
       "      <td>0.00000</td>\n",
       "    </tr>\n",
       "    <tr>\n",
       "      <th>Doc3</th>\n",
       "      <td>0.00000</td>\n",
       "      <td>0.00000</td>\n",
       "      <td>0.000000</td>\n",
       "      <td>0.000000</td>\n",
       "      <td>0.000000</td>\n",
       "      <td>0.421765</td>\n",
       "      <td>0.000000</td>\n",
       "      <td>0.000000</td>\n",
       "      <td>0.421765</td>\n",
       "      <td>0.00000</td>\n",
       "      <td>...</td>\n",
       "      <td>0.00000</td>\n",
       "      <td>0.000000</td>\n",
       "      <td>0.421765</td>\n",
       "      <td>0.421765</td>\n",
       "      <td>0.000000</td>\n",
       "      <td>0.332524</td>\n",
       "      <td>0.00000</td>\n",
       "      <td>0.000000</td>\n",
       "      <td>0.000000</td>\n",
       "      <td>0.00000</td>\n",
       "    </tr>\n",
       "    <tr>\n",
       "      <th>Doc4</th>\n",
       "      <td>0.28798</td>\n",
       "      <td>0.28798</td>\n",
       "      <td>0.000000</td>\n",
       "      <td>0.000000</td>\n",
       "      <td>0.183814</td>\n",
       "      <td>0.000000</td>\n",
       "      <td>0.227047</td>\n",
       "      <td>0.000000</td>\n",
       "      <td>0.000000</td>\n",
       "      <td>0.28798</td>\n",
       "      <td>...</td>\n",
       "      <td>0.28798</td>\n",
       "      <td>0.000000</td>\n",
       "      <td>0.000000</td>\n",
       "      <td>0.000000</td>\n",
       "      <td>0.000000</td>\n",
       "      <td>0.227047</td>\n",
       "      <td>0.28798</td>\n",
       "      <td>0.183814</td>\n",
       "      <td>0.000000</td>\n",
       "      <td>0.57596</td>\n",
       "    </tr>\n",
       "  </tbody>\n",
       "</table>\n",
       "<p>4 rows × 23 columns</p>\n",
       "</div>"
      ],
      "text/plain": [
       "           15   coding  collection   courses      data      file       for  \\\n",
       "Doc1  0.00000  0.00000    0.455732  0.000000  0.290888  0.000000  0.000000   \n",
       "Doc2  0.00000  0.00000    0.000000  0.420382  0.536648  0.000000  0.331434   \n",
       "Doc3  0.00000  0.00000    0.000000  0.000000  0.000000  0.421765  0.000000   \n",
       "Doc4  0.28798  0.28798    0.000000  0.000000  0.183814  0.000000  0.227047   \n",
       "\n",
       "          free        in  interview  ...     must        of  parallel  \\\n",
       "Doc1  0.000000  0.000000    0.00000  ...  0.00000  0.455732  0.000000   \n",
       "Doc2  0.420382  0.000000    0.00000  ...  0.00000  0.000000  0.000000   \n",
       "Doc3  0.000000  0.421765    0.00000  ...  0.00000  0.000000  0.421765   \n",
       "Doc4  0.000000  0.000000    0.28798  ...  0.28798  0.000000  0.000000   \n",
       "\n",
       "      processing  projects    python  questions   science  statistics      you  \n",
       "Doc1    0.000000  0.455732  0.000000    0.00000  0.290888    0.000000  0.00000  \n",
       "Doc2    0.000000  0.000000  0.000000    0.00000  0.268324    0.420382  0.00000  \n",
       "Doc3    0.421765  0.000000  0.332524    0.00000  0.000000    0.000000  0.00000  \n",
       "Doc4    0.000000  0.000000  0.227047    0.28798  0.183814    0.000000  0.57596  \n",
       "\n",
       "[4 rows x 23 columns]"
      ]
     },
     "execution_count": 88,
     "metadata": {},
     "output_type": "execute_result"
    }
   ],
   "source": [
    "import pandas as pd\n",
    "\n",
    "result = pd.DataFrame(\n",
    "    data=X.toarray(), \n",
    "    index=[\"Doc1\", \"Doc2\", \"Doc3\", \"Doc4\"], \n",
    "    columns=tfidf_tokens\n",
    ")\n",
    "\n",
    "# for j in result:\n",
    "#     print(j, \" : \", result[j])\n",
    "result"
   ]
  },
  {
   "cell_type": "code",
   "execution_count": 89,
   "metadata": {},
   "outputs": [
    {
     "data": {
      "text/html": [
       "<div>\n",
       "<style scoped>\n",
       "    .dataframe tbody tr th:only-of-type {\n",
       "        vertical-align: middle;\n",
       "    }\n",
       "\n",
       "    .dataframe tbody tr th {\n",
       "        vertical-align: top;\n",
       "    }\n",
       "\n",
       "    .dataframe thead th {\n",
       "        text-align: right;\n",
       "    }\n",
       "</style>\n",
       "<table border=\"1\" class=\"dataframe\">\n",
       "  <thead>\n",
       "    <tr style=\"text-align: right;\">\n",
       "      <th></th>\n",
       "      <th>data</th>\n",
       "    </tr>\n",
       "  </thead>\n",
       "  <tbody>\n",
       "    <tr>\n",
       "      <th>0</th>\n",
       "      <td>KDnuggets Collection of data science Projects</td>\n",
       "    </tr>\n",
       "    <tr>\n",
       "      <th>1</th>\n",
       "      <td>3 Free Statistics Courses for data science data</td>\n",
       "    </tr>\n",
       "    <tr>\n",
       "      <th>2</th>\n",
       "      <td>Parallel Processing Large File in Python</td>\n",
       "    </tr>\n",
       "    <tr>\n",
       "      <th>3</th>\n",
       "      <td>15 You  Python Coding Interview Questions You ...</td>\n",
       "    </tr>\n",
       "  </tbody>\n",
       "</table>\n",
       "</div>"
      ],
      "text/plain": [
       "                                                data\n",
       "0      KDnuggets Collection of data science Projects\n",
       "1    3 Free Statistics Courses for data science data\n",
       "2           Parallel Processing Large File in Python\n",
       "3  15 You  Python Coding Interview Questions You ..."
      ]
     },
     "execution_count": 89,
     "metadata": {},
     "output_type": "execute_result"
    }
   ],
   "source": [
    "dt = pd.DataFrame(corpus, columns=[\"data\"])\n",
    "\n",
    "dt.head()"
   ]
  },
  {
   "cell_type": "markdown",
   "metadata": {},
   "source": [
    "# Menghitung TF, \n",
    "\n",
    "tf(i, j) = f_d(i) / max f_d(j)\n",
    "\n",
    "Term Frequency merupakan frekuensi kemunculan term i pada dokumen j dibagi dengan total term pada dokumen j."
   ]
  },
  {
   "cell_type": "code",
   "execution_count": 90,
   "metadata": {},
   "outputs": [
    {
     "name": "stdout",
     "output_type": "stream",
     "text": [
      "0    {'KDnuggets': 0.16666666666666666, 'Collection...\n",
      "1    {'3': 0.125, 'Free': 0.125, 'Statistics': 0.12...\n",
      "2    {'Parallel': 0.16666666666666666, 'Processing'...\n",
      "3    {'15': 0.08333333333333333, 'You': 0.166666666...\n",
      "Name: data, dtype: object\n"
     ]
    }
   ],
   "source": [
    "def calc_TF(document):\n",
    "    # Counts the number of times the word appears in review\n",
    "    TF_dict = {}\n",
    "    for term in document:\n",
    "        if term in TF_dict:\n",
    "            TF_dict[term] += 1\n",
    "        else:\n",
    "            TF_dict[term] = 1\n",
    "    # Computes tf for each word\n",
    "    for term in TF_dict:\n",
    "        TF_dict[term] = TF_dict[term] / len(document)\n",
    "    return TF_dict\n",
    "\n",
    "test = dt[\"data\"].apply(lambda x: x.split()).apply(calc_TF)\n",
    "# for e in test:\n",
    "print(test)"
   ]
  },
  {
   "cell_type": "code",
   "execution_count": 91,
   "metadata": {},
   "outputs": [
    {
     "data": {
      "text/plain": [
       "array([{'KDnuggets': 0.16666666666666666, 'Collection': 0.16666666666666666, 'of': 0.16666666666666666, 'data': 0.16666666666666666, 'science': 0.16666666666666666, 'Projects': 0.16666666666666666},\n",
       "       {'3': 0.125, 'Free': 0.125, 'Statistics': 0.125, 'Courses': 0.125, 'for': 0.125, 'data': 0.25, 'science': 0.125},\n",
       "       {'Parallel': 0.16666666666666666, 'Processing': 0.16666666666666666, 'Large': 0.16666666666666666, 'File': 0.16666666666666666, 'in': 0.16666666666666666, 'Python': 0.16666666666666666},\n",
       "       {'15': 0.08333333333333333, 'You': 0.16666666666666666, 'Python': 0.08333333333333333, 'Coding': 0.08333333333333333, 'Interview': 0.08333333333333333, 'Questions': 0.08333333333333333, 'Must': 0.08333333333333333, 'Know': 0.08333333333333333, 'For': 0.08333333333333333, 'data': 0.08333333333333333, 'science': 0.08333333333333333}],\n",
       "      dtype=object)"
      ]
     },
     "execution_count": 91,
     "metadata": {},
     "output_type": "execute_result"
    }
   ],
   "source": [
    "# tf = pd.DataFrame(data=test.values, columns=test.keys)\n",
    "\n",
    "# tf.head()\n",
    "test.values"
   ]
  },
  {
   "cell_type": "markdown",
   "metadata": {},
   "source": [
    "# Menghitung IDF,\n",
    "\n",
    "N adalah jumlah total document dalam corpus, N =|D|.\n",
    "\n",
    "|{d ∈ D : t ∈ d}| = df(t) , adalah jumlah dokumen yang mengandung term t. IDF juga dapat dituliskan dalam bentuk Penambahan 1 untuk menghindari pembagian terhadap 0 jika df(t) tidak ditemukan pada corpus."
   ]
  },
  {
   "cell_type": "code",
   "execution_count": 92,
   "metadata": {},
   "outputs": [
    {
     "data": {
      "text/plain": [
       "{'KDnuggets': 1,\n",
       " 'Collection': 1,\n",
       " 'of': 1,\n",
       " 'data': 4,\n",
       " 'science': 3,\n",
       " 'Projects': 1,\n",
       " '3': 1,\n",
       " 'Free': 1,\n",
       " 'Statistics': 1,\n",
       " 'Courses': 1,\n",
       " 'for': 1,\n",
       " 'Parallel': 1,\n",
       " 'Processing': 1,\n",
       " 'Large': 1,\n",
       " 'File': 1,\n",
       " 'in': 1,\n",
       " 'Python': 2,\n",
       " '15': 1,\n",
       " 'You': 2,\n",
       " 'Coding': 1,\n",
       " 'Interview': 1,\n",
       " 'Questions': 1,\n",
       " 'Must': 1,\n",
       " 'Know': 1,\n",
       " 'For': 1}"
      ]
     },
     "execution_count": 92,
     "metadata": {},
     "output_type": "execute_result"
    }
   ],
   "source": [
    "import numpy as np\n",
    "\n",
    "\n",
    "def calc_DF(tfDict):\n",
    "    count_DF = {}\n",
    "    # Run through each document's tf dictionary and increment countDict's (term, doc) pair\n",
    "    for document in tfDict:\n",
    "        for term in document:\n",
    "            if term in count_DF:\n",
    "                count_DF[term] += 1\n",
    "            else:\n",
    "                count_DF[term] = 1\n",
    "    return count_DF\n",
    "\n",
    "n_document = len(dt[\"data\"])\n",
    "\n",
    "def calc_IDF(__n_document, __DF):\n",
    "    IDF_Dict = {}\n",
    "    for term in __DF:\n",
    "        IDF_Dict[term] = np.log(__n_document + 1 / (__DF[term] + 1)) + 1\n",
    "    return IDF_Dict\n",
    "\n",
    "DF = calc_DF(dt[\"data\"].apply(lambda x: x.split()))\n",
    "IDF = calc_IDF(n_document, DF)\n",
    "\n",
    "DF"
   ]
  },
  {
   "cell_type": "code",
   "execution_count": 93,
   "metadata": {},
   "outputs": [
    {
     "data": {
      "text/plain": [
       "{'KDnuggets': 2.504077396776274,\n",
       " 'Collection': 2.504077396776274,\n",
       " 'of': 2.504077396776274,\n",
       " 'data': 2.435084525289323,\n",
       " 'science': 2.4469189829363254,\n",
       " 'Projects': 2.504077396776274,\n",
       " '3': 2.504077396776274,\n",
       " 'Free': 2.504077396776274,\n",
       " 'Statistics': 2.504077396776274,\n",
       " 'Courses': 2.504077396776274,\n",
       " 'for': 2.504077396776274,\n",
       " 'Parallel': 2.504077396776274,\n",
       " 'Processing': 2.504077396776274,\n",
       " 'Large': 2.504077396776274,\n",
       " 'File': 2.504077396776274,\n",
       " 'in': 2.504077396776274,\n",
       " 'Python': 2.466337068793427,\n",
       " '15': 2.504077396776274,\n",
       " 'You': 2.466337068793427,\n",
       " 'Coding': 2.504077396776274,\n",
       " 'Interview': 2.504077396776274,\n",
       " 'Questions': 2.504077396776274,\n",
       " 'Must': 2.504077396776274,\n",
       " 'Know': 2.504077396776274,\n",
       " 'For': 2.504077396776274}"
      ]
     },
     "execution_count": 93,
     "metadata": {},
     "output_type": "execute_result"
    }
   ],
   "source": [
    "IDF\n",
    "# n_document"
   ]
  },
  {
   "cell_type": "markdown",
   "metadata": {},
   "source": [
    "# Menghitung TF-IDF,\n",
    "\n",
    "yang mana rumus untuk TF-IDF = TF * IDF"
   ]
  },
  {
   "cell_type": "code",
   "execution_count": 94,
   "metadata": {},
   "outputs": [
    {
     "name": "stdout",
     "output_type": "stream",
     "text": [
      "{'KDnuggets': 0.41734623279604566, 'Collection': 0.41734623279604566, 'of': 0.41734623279604566, 'data': 0.4058474208815538, 'science': 0.4078198304893875, 'Projects': 0.41734623279604566}\n",
      "{'3': 0.31300967459703427, 'Free': 0.31300967459703427, 'Statistics': 0.31300967459703427, 'Courses': 0.31300967459703427, 'for': 0.31300967459703427, 'data': 0.6087711313223307, 'science': 0.30586487286704067}\n",
      "{'Parallel': 0.41734623279604566, 'Processing': 0.41734623279604566, 'Large': 0.41734623279604566, 'File': 0.41734623279604566, 'in': 0.41734623279604566, 'Python': 0.4110561781322378}\n",
      "{'15': 0.20867311639802283, 'You': 0.4110561781322378, 'Python': 0.2055280890661189, 'Coding': 0.20867311639802283, 'Interview': 0.20867311639802283, 'Questions': 0.20867311639802283, 'Must': 0.20867311639802283, 'Know': 0.20867311639802283, 'For': 0.20867311639802283, 'data': 0.2029237104407769, 'science': 0.20390991524469376}\n"
     ]
    }
   ],
   "source": [
    "# sort descending by value for DF dictionary \n",
    "sorted_DF = sorted(DF.items(), key=lambda kv: kv[1], reverse=True)[:50]\n",
    "\n",
    "# Create a list of unique words from sorted dictionay `sorted_DF`\n",
    "unique_term = [item[0] for item in sorted_DF]\n",
    "\n",
    "#calc TF-IDF\n",
    "def calc_TF_IDF(TF):\n",
    "    TF_IDF_Dict = {}\n",
    "    #For each word in the review, we multiply its tf and its idf.\n",
    "    for key in TF:\n",
    "        TF_IDF_Dict[key] = TF[key] * IDF[key]\n",
    "    return TF_IDF_Dict\n",
    "\n",
    "def calc_TF_IDF_Vec(__TF_IDF_Dict):\n",
    "    TF_IDF_vector = [0.0] * len(unique_term)\n",
    "\n",
    "    # For each unique word, if it is in the review, store its TF-IDF value.\n",
    "    for i, term in enumerate(unique_term):\n",
    "        if term in __TF_IDF_Dict:\n",
    "            TF_IDF_vector[i] = __TF_IDF_Dict[term]\n",
    "    return TF_IDF_vector\n",
    "\n",
    "\n",
    "TF_IDF = test.apply(calc_TF_IDF)\n",
    "\n",
    "for j in TF_IDF:\n",
    "    print(j)"
   ]
  },
  {
   "cell_type": "code",
   "execution_count": 95,
   "metadata": {},
   "outputs": [
    {
     "name": "stdout",
     "output_type": "stream",
     "text": [
      "[0.4058474208815538, 0.4078198304893875, 0.0, 0.0, 0.41734623279604566, 0.41734623279604566, 0.41734623279604566, 0.41734623279604566, 0.0, 0.0, 0.0, 0.0, 0.0, 0.0, 0.0, 0.0, 0.0, 0.0, 0.0, 0.0, 0.0, 0.0, 0.0, 0.0, 0.0]\n",
      "[0.6087711313223307, 0.30586487286704067, 0.0, 0.0, 0.0, 0.0, 0.0, 0.0, 0.31300967459703427, 0.31300967459703427, 0.31300967459703427, 0.31300967459703427, 0.31300967459703427, 0.0, 0.0, 0.0, 0.0, 0.0, 0.0, 0.0, 0.0, 0.0, 0.0, 0.0, 0.0]\n",
      "[0.0, 0.0, 0.4110561781322378, 0.0, 0.0, 0.0, 0.0, 0.0, 0.0, 0.0, 0.0, 0.0, 0.0, 0.41734623279604566, 0.41734623279604566, 0.41734623279604566, 0.41734623279604566, 0.41734623279604566, 0.0, 0.0, 0.0, 0.0, 0.0, 0.0, 0.0]\n",
      "[0.2029237104407769, 0.20390991524469376, 0.2055280890661189, 0.4110561781322378, 0.0, 0.0, 0.0, 0.0, 0.0, 0.0, 0.0, 0.0, 0.0, 0.0, 0.0, 0.0, 0.0, 0.0, 0.20867311639802283, 0.20867311639802283, 0.20867311639802283, 0.20867311639802283, 0.20867311639802283, 0.20867311639802283, 0.20867311639802283]\n"
     ]
    }
   ],
   "source": [
    "# tas = dt[\"data\"].apply(lambda x: x.split()) \n",
    "\n",
    "# result = []\n",
    "# for lis in tas:\n",
    "#     for item in lis:\n",
    "#         result.append(item)\n",
    "\n",
    "# uniq_data = np.unique(result)\n",
    "\n",
    "# def search_for_tf():\n",
    "    \n",
    "TF_IDF_VEC = TF_IDF.apply(calc_TF_IDF_Vec)\n",
    "\n",
    "\n",
    "for ele in TF_IDF_VEC:\n",
    "    print(ele)"
   ]
  },
  {
   "cell_type": "code",
   "execution_count": 96,
   "metadata": {},
   "outputs": [
    {
     "data": {
      "text/plain": [
       "0.1897667680830886"
      ]
     },
     "execution_count": 96,
     "metadata": {},
     "output_type": "execute_result"
    }
   ],
   "source": [
    "(0.11552453009332421 - np.min(np.min(TF_IDF_VEC))) / (np.max(np.max(TF_IDF_VEC)) - np.min(np.min(TF_IDF_VEC)))\n",
    " "
   ]
  },
  {
   "cell_type": "code",
   "execution_count": null,
   "metadata": {},
   "outputs": [],
   "source": []
  }
 ],
 "metadata": {
  "kernelspec": {
   "display_name": "Python 3",
   "language": "python",
   "name": "python3"
  },
  "language_info": {
   "codemirror_mode": {
    "name": "ipython",
    "version": 3
   },
   "file_extension": ".py",
   "mimetype": "text/x-python",
   "name": "python",
   "nbconvert_exporter": "python",
   "pygments_lexer": "ipython3",
   "version": "3.12.0"
  }
 },
 "nbformat": 4,
 "nbformat_minor": 2
}
