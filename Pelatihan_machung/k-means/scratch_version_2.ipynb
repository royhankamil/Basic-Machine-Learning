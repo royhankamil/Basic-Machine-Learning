{
 "cells": [
  {
   "cell_type": "code",
   "execution_count": 70,
   "metadata": {},
   "outputs": [],
   "source": [
    "import matplotlib.pyplot as plt\n",
    "import seaborn as sns\n",
    "import numpy as np\n",
    "import pandas as pd"
   ]
  },
  {
   "cell_type": "code",
   "execution_count": 71,
   "metadata": {},
   "outputs": [
    {
     "data": {
      "text/html": [
       "<div>\n",
       "<style scoped>\n",
       "    .dataframe tbody tr th:only-of-type {\n",
       "        vertical-align: middle;\n",
       "    }\n",
       "\n",
       "    .dataframe tbody tr th {\n",
       "        vertical-align: top;\n",
       "    }\n",
       "\n",
       "    .dataframe thead th {\n",
       "        text-align: right;\n",
       "    }\n",
       "</style>\n",
       "<table border=\"1\" class=\"dataframe\">\n",
       "  <thead>\n",
       "    <tr style=\"text-align: right;\">\n",
       "      <th></th>\n",
       "      <th>Id</th>\n",
       "      <th>SepalLengthCm</th>\n",
       "      <th>SepalWidthCm</th>\n",
       "      <th>PetalLengthCm</th>\n",
       "      <th>PetalWidthCm</th>\n",
       "    </tr>\n",
       "  </thead>\n",
       "  <tbody>\n",
       "    <tr>\n",
       "      <th>0</th>\n",
       "      <td>1</td>\n",
       "      <td>5.1</td>\n",
       "      <td>3.5</td>\n",
       "      <td>1.4</td>\n",
       "      <td>0.2</td>\n",
       "    </tr>\n",
       "    <tr>\n",
       "      <th>1</th>\n",
       "      <td>2</td>\n",
       "      <td>4.9</td>\n",
       "      <td>3.0</td>\n",
       "      <td>1.4</td>\n",
       "      <td>0.2</td>\n",
       "    </tr>\n",
       "    <tr>\n",
       "      <th>2</th>\n",
       "      <td>3</td>\n",
       "      <td>4.7</td>\n",
       "      <td>3.2</td>\n",
       "      <td>1.3</td>\n",
       "      <td>0.2</td>\n",
       "    </tr>\n",
       "    <tr>\n",
       "      <th>3</th>\n",
       "      <td>4</td>\n",
       "      <td>4.6</td>\n",
       "      <td>3.1</td>\n",
       "      <td>1.5</td>\n",
       "      <td>0.2</td>\n",
       "    </tr>\n",
       "    <tr>\n",
       "      <th>4</th>\n",
       "      <td>5</td>\n",
       "      <td>5.0</td>\n",
       "      <td>3.6</td>\n",
       "      <td>1.4</td>\n",
       "      <td>0.2</td>\n",
       "    </tr>\n",
       "  </tbody>\n",
       "</table>\n",
       "</div>"
      ],
      "text/plain": [
       "   Id  SepalLengthCm  SepalWidthCm  PetalLengthCm  PetalWidthCm\n",
       "0   1            5.1           3.5            1.4           0.2\n",
       "1   2            4.9           3.0            1.4           0.2\n",
       "2   3            4.7           3.2            1.3           0.2\n",
       "3   4            4.6           3.1            1.5           0.2\n",
       "4   5            5.0           3.6            1.4           0.2"
      ]
     },
     "execution_count": 71,
     "metadata": {},
     "output_type": "execute_result"
    }
   ],
   "source": [
    "df = pd.read_csv(\"iris.csv\")\n",
    "\n",
    "df.head()"
   ]
  },
  {
   "cell_type": "code",
   "execution_count": 72,
   "metadata": {},
   "outputs": [
    {
     "data": {
      "text/plain": [
       "0      3.5\n",
       "5      3.9\n",
       "10     3.7\n",
       "14     4.0\n",
       "15     4.4\n",
       "      ... \n",
       "145    3.0\n",
       "146    2.5\n",
       "147    3.0\n",
       "148    3.4\n",
       "149    3.0\n",
       "Name: SepalWidthCm, Length: 118, dtype: float64"
      ]
     },
     "execution_count": 72,
     "metadata": {},
     "output_type": "execute_result"
    }
   ],
   "source": [
    "# i = [[3, 4, 5], [4, 3, 1]]\n",
    "# # i = np.array(i)\n",
    "# if not list(i):\n",
    "#     print(\"none\")\n",
    "# print(df.__array__)\n",
    "\n",
    "# i = [2, 4, 5, 2]\n",
    "\n",
    "df[df[\"SepalLengthCm\"] > 5][\"SepalWidthCm\"]"
   ]
  },
  {
   "cell_type": "code",
   "execution_count": 73,
   "metadata": {},
   "outputs": [
    {
     "data": {
      "text/plain": [
       "(150, 5)"
      ]
     },
     "execution_count": 73,
     "metadata": {},
     "output_type": "execute_result"
    }
   ],
   "source": [
    "df.shape"
   ]
  },
  {
   "cell_type": "code",
   "execution_count": 74,
   "metadata": {},
   "outputs": [
    {
     "data": {
      "text/plain": [
       "array([1.73205081])"
      ]
     },
     "execution_count": 74,
     "metadata": {},
     "output_type": "execute_result"
    }
   ],
   "source": [
    "x = np.array([[[2, 3, 4]],\n",
    "     [[3, 4, 5]]])\n",
    "\n",
    "result = np.sqrt(np.sum((x[0] - x[1])**2, axis=1))\n",
    "result\n",
    "\n",
    "# np.amin(x, axis=1)\n",
    "# data = df.to_numpy()\n",
    "\n",
    "# np.random.uniform(np.amin(data, axis=0), np.argmax(data, axis=0), size=(2, data.shape[1]))"
   ]
  },
  {
   "cell_type": "code",
   "execution_count": 75,
   "metadata": {},
   "outputs": [],
   "source": [
    "# rand = np.random.randint(df[\"SepalLengthCm\"].min()*10, df[\"SepalLengthCm\"].max()*10) / 10\n",
    "# rand\n",
    "df.drop(columns=\"Id\", inplace=True)"
   ]
  },
  {
   "cell_type": "code",
   "execution_count": 89,
   "metadata": {},
   "outputs": [],
   "source": [
    "class Kmeans():\n",
    "    # initialisasikan\n",
    "    def __init__(self, max_iter=100, n_cluster=2, decimal_rand=10, min_diff=0.00001):\n",
    "        self.inertia = 0\n",
    "        self.n_cluster = n_cluster\n",
    "        self.min_diff = min_diff\n",
    "        self.max_iter = max_iter\n",
    "        self.centroids = None\n",
    "\n",
    "    # menghitung jarak uclidean\n",
    "    @staticmethod\n",
    "    def euclidean_distance(point1, point2):\n",
    "        return np.sqrt(np.sum((point2 - point1)**2, axis=1))\n",
    "    \n",
    "    # melakukan training data\n",
    "    def fit(self, x):\n",
    "        # menentukan centroid secara acak (di awal-awal)\n",
    "        self.centroids = np.random.uniform(np.amin(x, axis=0), np.amax(x, axis=0), size=(self.n_cluster, x.shape[1]))\n",
    "\n",
    "        # melakukan iterasi\n",
    "        for iteration in range(self.max_iter):\n",
    "            # menghilangkan label ke awal\n",
    "            y = []\n",
    "            distance_w_cluster = [] # digunakan untuk menghitung distance yang paling kecil (untuk inertia)\n",
    "\n",
    "            # menentukan labelnya / termasuk cluster apa (dengan menentukan jarak euclidian nya)\n",
    "            for item in x:\n",
    "                distances = Kmeans.euclidean_distance(item, self.centroids) # menghitung jarak setiap centroid\n",
    "                distance_w_cluster.append(distances.min()) # menentukan jarak terkecil\n",
    "                cluster = np.argmin(distances) # menentukan termasuk cluster apa dengan mencari jarak terkecilnya\n",
    "                y.append(cluster)\n",
    "\n",
    "            y = np.array(y)\n",
    "\n",
    "            # untuk memisahkan antar cluster\n",
    "            groups = []\n",
    "\n",
    "            for i in range(self.n_cluster):\n",
    "                groups.append(np.argwhere(y == i)) # mencari yang mana label sama dengan i \n",
    "\n",
    "            # menentukan centroid yang baru\n",
    "            new_centroid = []\n",
    "            for i, indices in enumerate(groups):\n",
    "                if len(indices) == 0: # jika ada centroid yang tak punya member\n",
    "                    new_centroid.append(self.centroids[i]) # gunakan centroid yang sebelumnya\n",
    "                else:\n",
    "                    new_centroid.append(np.mean(x[indices], axis=0)[0]) # mencari rata-rata dari centroid sebelumnya\n",
    "            # print(np.sum(distance_w_cluster))\n",
    "            # counting the error (inetia)\n",
    "            self.inertia = np.mean(distance_w_cluster)\n",
    "\n",
    "            # if the centroid not move the position from previous iteration\n",
    "            if np.max(self.centroids - np.array(new_centroid)) < self.min_diff:\n",
    "                break\n",
    "            else:\n",
    "                self.centroids = np.array(new_centroid) # update centroid position\n",
    "            \n"
   ]
  },
  {
   "cell_type": "code",
   "execution_count": 90,
   "metadata": {},
   "outputs": [],
   "source": [
    "k_mean = Kmeans(n_cluster=3)\n",
    "k_mean.fit(df.to_numpy())"
   ]
  },
  {
   "cell_type": "code",
   "execution_count": 91,
   "metadata": {},
   "outputs": [
    {
     "data": {
      "text/plain": [
       "array([[7.73895696, 2.97924177, 1.27059922, 1.25895431],\n",
       "       [5.00566038, 3.36037736, 1.56226415, 0.28867925],\n",
       "       [6.30103093, 2.88659794, 4.95876289, 1.69587629]])"
      ]
     },
     "execution_count": 91,
     "metadata": {},
     "output_type": "execute_result"
    }
   ],
   "source": [
    "k_mean.centroids"
   ]
  },
  {
   "cell_type": "code",
   "execution_count": 92,
   "metadata": {},
   "outputs": [
    {
     "data": {
      "text/plain": [
       "0.8560279682448629"
      ]
     },
     "execution_count": 92,
     "metadata": {},
     "output_type": "execute_result"
    }
   ],
   "source": [
    "k_mean.inertia"
   ]
  },
  {
   "cell_type": "code",
   "execution_count": 93,
   "metadata": {},
   "outputs": [
    {
     "name": "stdout",
     "output_type": "stream",
     "text": [
      "[1.943034159037026, 0.8560279682448629, 0.6488394948953339, 0.562781387548742, 0.5193039302812875, 0.5645160359722186, 0.5095854125481707, 0.5387310417607708, 0.4615418320960576, 0.46996668552879667]\n"
     ]
    },
    {
     "data": {
      "image/png": "[encoded data removed]",
      "text/plain": [
       "<Figure size 640x480 with 1 Axes>"
      ]
     },
     "metadata": {},
     "output_type": "display_data"
    }
   ],
   "source": [
    "wcss = []\n",
    "for i in range(1, 11):\n",
    "    km = Kmeans(n_cluster=i)\n",
    "    km.fit(df.to_numpy())\n",
    "    wcss.append(km.inertia)\n",
    "\n",
    "plt.plot(np.arange(1, 11), wcss)\n",
    "plt.title(\"Elbow Method using Distortion\")\n",
    "plt.xlabel(\"cluster / k\")\n",
    "plt.ylabel(\"WSSE\")\n",
    "print(wcss)"
   ]
  }
 ],
 "metadata": {
  "kernelspec": {
   "display_name": "Python 3",
   "language": "python",
   "name": "python3"
  },
  "language_info": {
   "codemirror_mode": {
    "name": "ipython",
    "version": 3
   },
   "file_extension": ".py",
   "mimetype": "text/x-python",
   "name": "python",
   "nbconvert_exporter": "python",
   "pygments_lexer": "ipython3",
   "version": "3.9.6"
  }
 },
 "nbformat": 4,
 "nbformat_minor": 2
}
