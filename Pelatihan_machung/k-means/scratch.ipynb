{
 "cells": [
  {
   "cell_type": "code",
   "execution_count": 240,
   "metadata": {},
   "outputs": [],
   "source": [
    "import matplotlib.pyplot as plt\n",
    "import seaborn as sns\n",
    "import numpy as np\n",
    "import pandas as pd"
   ]
  },
  {
   "cell_type": "code",
   "execution_count": 241,
   "metadata": {},
   "outputs": [
    {
     "data": {
      "text/html": [
       "<div>\n",
       "<style scoped>\n",
       "    .dataframe tbody tr th:only-of-type {\n",
       "        vertical-align: middle;\n",
       "    }\n",
       "\n",
       "    .dataframe tbody tr th {\n",
       "        vertical-align: top;\n",
       "    }\n",
       "\n",
       "    .dataframe thead th {\n",
       "        text-align: right;\n",
       "    }\n",
       "</style>\n",
       "<table border=\"1\" class=\"dataframe\">\n",
       "  <thead>\n",
       "    <tr style=\"text-align: right;\">\n",
       "      <th></th>\n",
       "      <th>Id</th>\n",
       "      <th>SepalLengthCm</th>\n",
       "      <th>SepalWidthCm</th>\n",
       "      <th>PetalLengthCm</th>\n",
       "      <th>PetalWidthCm</th>\n",
       "    </tr>\n",
       "  </thead>\n",
       "  <tbody>\n",
       "    <tr>\n",
       "      <th>0</th>\n",
       "      <td>1</td>\n",
       "      <td>5.1</td>\n",
       "      <td>3.5</td>\n",
       "      <td>1.4</td>\n",
       "      <td>0.2</td>\n",
       "    </tr>\n",
       "    <tr>\n",
       "      <th>1</th>\n",
       "      <td>2</td>\n",
       "      <td>4.9</td>\n",
       "      <td>3.0</td>\n",
       "      <td>1.4</td>\n",
       "      <td>0.2</td>\n",
       "    </tr>\n",
       "    <tr>\n",
       "      <th>2</th>\n",
       "      <td>3</td>\n",
       "      <td>4.7</td>\n",
       "      <td>3.2</td>\n",
       "      <td>1.3</td>\n",
       "      <td>0.2</td>\n",
       "    </tr>\n",
       "    <tr>\n",
       "      <th>3</th>\n",
       "      <td>4</td>\n",
       "      <td>4.6</td>\n",
       "      <td>3.1</td>\n",
       "      <td>1.5</td>\n",
       "      <td>0.2</td>\n",
       "    </tr>\n",
       "    <tr>\n",
       "      <th>4</th>\n",
       "      <td>5</td>\n",
       "      <td>5.0</td>\n",
       "      <td>3.6</td>\n",
       "      <td>1.4</td>\n",
       "      <td>0.2</td>\n",
       "    </tr>\n",
       "  </tbody>\n",
       "</table>\n",
       "</div>"
      ],
      "text/plain": [
       "   Id  SepalLengthCm  SepalWidthCm  PetalLengthCm  PetalWidthCm\n",
       "0   1            5.1           3.5            1.4           0.2\n",
       "1   2            4.9           3.0            1.4           0.2\n",
       "2   3            4.7           3.2            1.3           0.2\n",
       "3   4            4.6           3.1            1.5           0.2\n",
       "4   5            5.0           3.6            1.4           0.2"
      ]
     },
     "execution_count": 241,
     "metadata": {},
     "output_type": "execute_result"
    }
   ],
   "source": [
    "df = pd.read_csv(\"iris.csv\")\n",
    "\n",
    "df.head()"
   ]
  },
  {
   "cell_type": "code",
   "execution_count": 242,
   "metadata": {},
   "outputs": [
    {
     "data": {
      "text/plain": [
       "0      3.5\n",
       "5      3.9\n",
       "10     3.7\n",
       "14     4.0\n",
       "15     4.4\n",
       "      ... \n",
       "145    3.0\n",
       "146    2.5\n",
       "147    3.0\n",
       "148    3.4\n",
       "149    3.0\n",
       "Name: SepalWidthCm, Length: 118, dtype: float64"
      ]
     },
     "execution_count": 242,
     "metadata": {},
     "output_type": "execute_result"
    }
   ],
   "source": [
    "# i = [[3, 4, 5], [4, 3, 1]]\n",
    "# # i = np.array(i)\n",
    "# if not list(i):\n",
    "#     print(\"none\")\n",
    "# print(df.__array__)\n",
    "\n",
    "# i = [2, 4, 5, 2]\n",
    "\n",
    "df[df[\"SepalLengthCm\"] > 5][\"SepalWidthCm\"]"
   ]
  },
  {
   "cell_type": "code",
   "execution_count": null,
   "metadata": {},
   "outputs": [],
   "source": [
    "x = np.array([[2, 3, 4],\n",
    "     [3, 4, 5]])\n",
    "\n"
   ]
  },
  {
   "cell_type": "code",
   "execution_count": 243,
   "metadata": {},
   "outputs": [],
   "source": [
    "# rand = np.random.randint(df[\"SepalLengthCm\"].min()*10, df[\"SepalLengthCm\"].max()*10) / 10\n",
    "# rand\n",
    "df.drop(columns=\"Id\", inplace=True)"
   ]
  },
  {
   "cell_type": "code",
   "execution_count": 263,
   "metadata": {},
   "outputs": [],
   "source": [
    "class Kmeans():\n",
    "    def __init__(self, max_iter=100, n_cluster=2, decimal_rand=10, min_diff=0.00001):\n",
    "        self.inertia = 0\n",
    "        self.n_cluster = n_cluster\n",
    "        self.decimal_rand = decimal_rand\n",
    "        self.min_diff = min_diff\n",
    "        self.max_iter = max_iter\n",
    "        self.clusters = []\n",
    "        self.item_cluster = []\n",
    "        self.label = []\n",
    "        self.nearest_distance = []\n",
    "\n",
    "    # def eulidean_distance(point1, point2):\n",
    "    #     return np.sqrt(np.sum((point1 - point2) ** 2))\n",
    "\n",
    "        \n",
    "    \n",
    "    def fit(self, x):\n",
    "        self.clusters = []\n",
    "        size = x.shape\n",
    "\n",
    "        self.item_cluster = [0 for i in range(size[0])]\n",
    "        self.clusters = np.random.uniform(np.amin(x, axis=0), np.amax(x, axis=0), size=(self.n_cluster, size[1]))\n",
    "\n",
    "        for iteration in range(self.max_iter):\n",
    "            self.nearest_distance = []\n",
    "\n",
    "            for index in range(size[0]):\n",
    "                distance_cluster = []\n",
    "                item = x.to_numpy()[index]\n",
    "                for cluster in self.clusters:\n",
    "                    print(item, cluster)\n",
    "                    distance = np.sqrt(np.sum((item - cluster)**2))\n",
    "                    distance_cluster.append(distance)\n",
    "                distance_cluster = np.array(distance_cluster)\n",
    "                self.nearest_distance.append(distance_cluster.min())\n",
    "                self.item_cluster[index] = (distance_cluster.argmin())\n",
    "\n",
    "            cluster_x = x.copy()\n",
    "            cluster_x[\"Cluster\"] = self.item_cluster\n",
    "            cluster_x[\"Distance\"] = self.nearest_distance\n",
    "\n",
    "            cluster_inersia = []\n",
    "            new_centroid = []\n",
    "            for i in range(self.n_cluster):\n",
    "                cluster_inersia.append(cluster_x[cluster_x[\"Cluster\"] == i ][\"Distance\"].mean())\n",
    "                print(cluster_x[cluster_x[\"Cluster\"] == i ][\"Distance\"])\n",
    "                new_centroid.append(cluster_x[cluster_x[\"Cluster\"] == i ].drop(columns=[\"Cluster\", \"Distance\"]).mean().to_list())\n",
    "\n",
    "            if np.max(self.clusters - np.array(new_centroid)) < self.min_diff:\n",
    "                break\n",
    "\n",
    "            self.clusters = np.array(new_centroid)\n",
    "\n",
    "\n",
    "            cluster_inersia = np.array(cluster_inersia)\n",
    "            self.inertia = np.mean(cluster_inersia)\n",
    "\n",
    "        self.label = [i for i in range(len(self.clusters))]\n",
    "                \n",
    "                \n"
   ]
  },
  {
   "cell_type": "code",
   "execution_count": 264,
   "metadata": {},
   "outputs": [],
   "source": [
    "k_mean = Kmeans(n_cluster=3)\n",
    "k_mean.fit(df)"
   ]
  },
  {
   "cell_type": "code",
   "execution_count": 265,
   "metadata": {},
   "outputs": [
    {
     "data": {
      "text/plain": [
       "array([[       nan,        nan,        nan,        nan],\n",
       "       [5.84333333, 3.054     , 3.75866667, 1.19866667],\n",
       "       [       nan,        nan,        nan,        nan]])"
      ]
     },
     "execution_count": 265,
     "metadata": {},
     "output_type": "execute_result"
    }
   ],
   "source": [
    "k_mean.clusters"
   ]
  },
  {
   "cell_type": "code",
   "execution_count": 266,
   "metadata": {},
   "outputs": [
    {
     "data": {
      "text/plain": [
       "nan"
      ]
     },
     "execution_count": 266,
     "metadata": {},
     "output_type": "execute_result"
    }
   ],
   "source": [
    "k_mean.inertia"
   ]
  },
  {
   "cell_type": "code",
   "execution_count": 267,
   "metadata": {},
   "outputs": [
    {
     "data": {
      "text/plain": [
       "Text(0, 0.5, 'WSSE')"
      ]
     },
     "execution_count": 267,
     "metadata": {},
     "output_type": "execute_result"
    },
    {
     "data": {
      "image/png": "[encoded data removed]",
      "text/plain": [
       "<Figure size 640x480 with 1 Axes>"
      ]
     },
     "metadata": {},
     "output_type": "display_data"
    }
   ],
   "source": [
    "wcss = []\n",
    "for i in range(1, 11):\n",
    "    km = Kmeans(n_cluster=i)\n",
    "    km.fit(df)\n",
    "    wcss.append(km.inertia)\n",
    "\n",
    "plt.plot(np.arange(1, 11), wcss)\n",
    "plt.title(\"Elbow Method using Distortion\")\n",
    "plt.xlabel(\"cluster / k\")\n",
    "plt.ylabel(\"WSSE\")"
   ]
  }
 ],
 "metadata": {
  "kernelspec": {
   "display_name": "Python 3",
   "language": "python",
   "name": "python3"
  },
  "language_info": {
   "codemirror_mode": {
    "name": "ipython",
    "version": 3
   },
   "file_extension": ".py",
   "mimetype": "text/x-python",
   "name": "python",
   "nbconvert_exporter": "python",
   "pygments_lexer": "ipython3",
   "version": "3.9.6"
  }
 },
 "nbformat": 4,
 "nbformat_minor": 2
}
